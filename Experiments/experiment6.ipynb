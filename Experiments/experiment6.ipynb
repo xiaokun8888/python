{
 "cells": [
  {
   "cell_type": "markdown",
   "metadata": {},
   "source": [
    "# 实验六 Python函数"
   ]
  },
  {
   "cell_type": "markdown",
   "metadata": {},
   "source": [
    "## 第一题：编码聚会1"
   ]
  },
  {
   "cell_type": "markdown",
   "metadata": {},
   "source": [
    "难度： 7kyu\n",
    "\n",
    "你将得到一个字典数组，代表关于首次报名参加你所组织的编码聚会的开发者的数据。\n",
    "你的任务是返回来自欧洲的JavaScript开发者的数量。\n",
    "例如，给定以下列表：\n",
    "\n",
    "```python\n",
    "lst1 = [\n",
    "  { 'firstName': 'Noah', 'lastName': 'M.', 'country': 'Switzerland', 'continent': 'Europe', 'age': 19, 'language': 'JavaScript' },\n",
    "  { 'firstName': 'Maia', 'lastName': 'S.', 'country': 'Tahiti', 'continent': 'Oceania', 'age': 28, 'language': 'JavaScript' },\n",
    "  { 'firstName': 'Shufen', 'lastName': 'L.', 'country': 'Taiwan', 'continent': 'Asia', 'age': 35, 'language': 'HTML' },\n",
    "  { 'firstName': 'Sumayah', 'lastName': 'M.', 'country': 'Tajikistan', 'continent': 'Asia', 'age': 30, 'language': 'CSS' }\n",
    "]\n",
    "```\n",
    "\n",
    "你的函数应该返回数字1。\n",
    "如果，没有来自欧洲的JavaScript开发人员，那么你的函数应该返回0。\n",
    "\n",
    "注意：\n",
    "字符串的格式将总是\"Europe\"和\"JavaScript\"。\n",
    "所有的数据将始终是有效的和统一的，如上面的例子。\n",
    "\n",
    "这个卡塔是Coding Meetup系列的一部分，其中包括一些简短易行的卡塔，这些卡塔是为了让人们掌握高阶函数的使用。在Python中，这些方法包括：`filter`, `map`, `reduce`。当然也可以采用其他方法来解决这些卡塔。\n",
    "\n",
    "[代码提交地址](https://www.codewars.com/kata/coding-meetup-number-1-higher-order-functions-series-count-the-number-of-javascript-developers-coming-from-europe)"
   ]
  },
  {
   "cell_type": "code",
   "execution_count": 1,
   "metadata": {},
   "outputs": [
    {
     "name": "stdout",
     "output_type": "stream",
     "text": [
      "[{'firstName': 'Noah', 'lastName': 'M.', 'country': 'Switzerland', 'continent': 'Europe', 'age': 19, 'language': 'JavaScript'}]\n",
      "1\n"
     ]
    }
   ],
   "source": [
    "lst1 = [\n",
    "  { 'firstName': 'Noah', 'lastName': 'M.', 'country': 'Switzerland', 'continent': 'Europe', 'age': 19, 'language': 'JavaScript' },\n",
    "  { 'firstName': 'Maia', 'lastName': 'S.', 'country': 'Tahiti', 'continent': 'Oceania', 'age': 28, 'language': 'JavaScript' },\n",
    "  { 'firstName': 'Shufen', 'lastName': 'L.', 'country': 'Taiwan', 'continent': 'Asia', 'age': 35, 'language': 'HTML' },\n",
    "  { 'firstName': 'Sumayah', 'lastName': 'M.', 'country': 'Tajikistan', 'continent': 'Asia', 'age': 30, 'language': 'CSS' }\n",
    "]\n",
    "\n",
    "# solution 1:\n",
    "developers = [ d for d in lst1 \n",
    "              if d['continent'] == 'Europe' \n",
    "                and d['language'] == 'JavaScript' ]\n",
    "print(developers)\n",
    "print(len(developers))"
   ]
  },
  {
   "cell_type": "code",
   "execution_count": 87,
   "metadata": {},
   "outputs": [
    {
     "name": "stdout",
     "output_type": "stream",
     "text": [
      "[{'firstName': 'Noah', 'lastName': 'M.', 'country': 'Switzerland', 'continent': 'Europe', 'age': 19, 'language': 'JavaScript'}]\n",
      "1\n"
     ]
    }
   ],
   "source": [
    "# solution 2:\n",
    "developers2 = list(filter(\n",
    "    lambda d: d['continent']=='Europe' \n",
    "    and d['language'] == 'JavaScript'\n",
    "    , lst1)) \n",
    "\n",
    "print(developers2)\n",
    "print(len(developers2))"
   ]
  },
  {
   "cell_type": "markdown",
   "metadata": {},
   "source": [
    "## 第二题： 使用函数进行计算"
   ]
  },
  {
   "cell_type": "markdown",
   "metadata": {},
   "source": [
    "难度：5kyu\n",
    "\n",
    "这次我们想用函数来写计算，并得到结果。让我们看一下一些例子：\n",
    "\n",
    "```python\n",
    "seven(times(five())) # must return 35\n",
    "four(plus(nine())) # must return 13\n",
    "eight(minus(three())) # must return 5\n",
    "six(divided_by(two())) # must return 3\n",
    "```"
   ]
  },
  {
   "cell_type": "code",
   "execution_count": 5,
   "metadata": {},
   "outputs": [
    {
     "name": "stdout",
     "output_type": "stream",
     "text": [
      "8\n"
     ]
    }
   ],
   "source": [
    "def zero(fun=None):\n",
    "    # 如果fun是None，就返回0，否则返回fun(0) \n",
    "    return fun(0) if fun else 0\n",
    "\n",
    "def one(fun=None): \n",
    "    return fun(1) if fun else 1\n",
    "\n",
    "def plus(y): \n",
    "    # 返回一个函数，这个函数的作用是加y\n",
    "    return lambda x: x + y\n",
    "\n",
    "# 这是一个加5的函数，可以用来加任何数\n",
    "plus5 = plus(5)\n",
    "print(plus5(3))"
   ]
  },
  {
   "cell_type": "code",
   "execution_count": 6,
   "metadata": {},
   "outputs": [
    {
     "name": "stdout",
     "output_type": "stream",
     "text": [
      "0\n",
      "1\n"
     ]
    }
   ],
   "source": [
    "# 测试没有参数的函数\n",
    "print(zero())\n",
    "print(one())"
   ]
  },
  {
   "cell_type": "code",
   "execution_count": 7,
   "metadata": {},
   "outputs": [
    {
     "name": "stdout",
     "output_type": "stream",
     "text": [
      "0\n",
      "1\n"
     ]
    }
   ],
   "source": [
    "zero(print)  # print(0)\n",
    "one(print)  # print(1)"
   ]
  },
  {
   "cell_type": "code",
   "execution_count": 8,
   "metadata": {},
   "outputs": [
    {
     "data": {
      "text/plain": [
       "1"
      ]
     },
     "execution_count": 8,
     "metadata": {},
     "output_type": "execute_result"
    }
   ],
   "source": [
    "# one(plus(zero())) -> \n",
    "# one(plus(0)) -> \n",
    "# one(lambda x:x + 0) -> \n",
    "# fun(1) = lambda:1 + 0 -> 1\n",
    "one(plus(zero())) "
   ]
  },
  {
   "cell_type": "markdown",
   "metadata": {},
   "source": [
    "## 第三题： 缩短数值的过滤器(Number Shortening Filter)"
   ]
  },
  {
   "cell_type": "markdown",
   "metadata": {},
   "source": [
    "难度：6kyu\n",
    "\n",
    "在这个kata中，我们将创建一个函数，它返回另一个缩短长数字的函数。给定一个初始值数组替换给定基数的 X 次方。如果返回函数的输入不是数字字符串，则应将输入本身作为字符串返回。\n",
    "\n",
    "例子：\n",
    "\n",
    "```python\n",
    "# filter是一个函数，它接受一个数字字符串并返回一个数字字符串\n",
    "filter1 = shorten_number(['','k','m'],1000)\n",
    "filter1('234324') == '234k'\n",
    "filter1('98234324') == '98m'\n",
    "filter1([1,2,3]) == '[1,2,3]'\n",
    "filter2 = shorten_number(['B','KB','MB','GB'],1024)\n",
    "filter2('32') == '32B'\n",
    "filter2('2100') == '2KB';\n",
    "filter2('pippi') == 'pippi'\n",
    "```"
   ]
  },
  {
   "cell_type": "code",
   "execution_count": 6,
   "metadata": {},
   "outputs": [
    {
     "data": {
      "text/plain": [
       "'234234'"
      ]
     },
     "execution_count": 6,
     "metadata": {},
     "output_type": "execute_result"
    }
   ],
   "source": [
    "def shorten_number(suffixes, base):\n",
    "    \n",
    "    # 定义一个函数\n",
    "    def my_filter(number):\n",
    "        # 在函数内部可以使用外部的变量suffixes，base\n",
    "        return number     \n",
    "\n",
    "    # 返回值是一个函数\n",
    "    return my_filter\n",
    "\n",
    "my_fun = shorten_number(['','k','m'],1000)\n",
    "my_fun('234234')"
   ]
  },
  {
   "cell_type": "code",
   "execution_count": 10,
   "metadata": {},
   "outputs": [
    {
     "name": "stdout",
     "output_type": "stream",
     "text": [
      "234k\n",
      "98m\n",
      "[1, 2, 3]\n",
      "32B\n",
      "2KB\n",
      "1909938873TB\n",
      "pippi\n"
     ]
    }
   ],
   "source": [
    "def shorten_number(suffixes, base):\n",
    "    \n",
    "    # 定义一个函数\n",
    "    def my_filter(data):\n",
    "        try:\n",
    "            # 将函数输入转换为整数\n",
    "            number = int(data)\n",
    "            \n",
    "        # 如果输入的数据不能转换为整数，直接转换为str返回\n",
    "        except (TypeError, ValueError):\n",
    "            return str(data)\n",
    "        \n",
    "        # 输入的number可以转换为整数\n",
    "        else:\n",
    "            # i用来跟踪suffixes列表的索引\n",
    "            i = 0\n",
    "            \n",
    "            # 每次循环将输入的数字除以base，索引i+1\n",
    "            # 如果除以base等于0或者索引等于len(suffixes)-1，结束循环\n",
    "            while number//base > 0 and i < len(suffixes)-1:\n",
    "                number //= base\n",
    "                i += 1\n",
    "            return str(number) + suffixes[i]     \n",
    "\n",
    "    # 返回值是一个函数\n",
    "    return my_filter\n",
    "\n",
    "filter1 = shorten_number(['','k','m'],1000)\n",
    "print(filter1('234324'))  # == '234k'\n",
    "print(filter1('98234324')) # == '98m'\n",
    "print(filter1([1,2,3])) # == '[1,2,3]'\n",
    "\n",
    "filter2 = shorten_number(['B','KB','MB','GB', 'TB'],1024)\n",
    "print(filter2('32')) # == '32B'\n",
    "print(filter2('2100'))  # == '2KB';\n",
    "print(filter2('2100000000000000000000'))  # == '2KB';\n",
    "print(filter2('pippi')) # == 'pippi'"
   ]
  },
  {
   "cell_type": "markdown",
   "metadata": {},
   "source": [
    "## 第四题： 编码聚会7"
   ]
  },
  {
   "cell_type": "markdown",
   "metadata": {},
   "source": [
    "难度： 6kyu\n",
    "\n",
    "您将获得一个对象序列，表示已注册参加您组织的下一个编程聚会的开发人员的数据。\n",
    "\n",
    "您的任务是返回一个序列，其中包括最年长的开发人员。如果有多个开发人员年龄相同，则将他们按照在原始输入数组中出现的顺序列出。\n",
    "\n",
    "例如，给定以下输入数组：\n",
    "\n",
    "```python\n",
    "list1 = [\n",
    "  { 'firstName': 'Gabriel', 'lastName': 'X.', 'country': 'Monaco', 'continent': 'Europe', 'age': 49, 'language': 'PHP' },\n",
    "  { 'firstName': 'Odval', 'lastName': 'F.', 'country': 'Mongolia', 'continent': 'Asia', 'age': 38, 'language': 'Python' },\n",
    "  { 'firstName': 'Emilija', 'lastName': 'S.', 'country': 'Lithuania', 'continent': 'Europe', 'age': 19, 'language': 'Python' },\n",
    "  { 'firstName': 'Sou', 'lastName': 'B.', 'country': 'Japan', 'continent': 'Asia', 'age': 49, 'language': 'PHP' },\n",
    "]\n",
    "```\n",
    "\n",
    "您的程序应该返回如下结果：\n",
    "\n",
    "```python\n",
    "[\n",
    "  { 'firstName': 'Gabriel', 'lastName': 'X.', 'country': 'Monaco', 'continent': 'Europe', 'age': 49, 'language': 'PHP' },\n",
    "  { 'firstName': 'Sou', 'lastName': 'B.', 'country': 'Japan', 'continent': 'Asia', 'age': 49, 'language': 'PHP' },\n",
    "]\n",
    "```\n",
    "\n",
    "注意：\n",
    "\n",
    "- 输入的列表永远都包含像示例中一样有效的正确格式的数据，而且永远不会为空。\n",
    "\n",
    "代码提交地址：\n",
    "<https://www.codewars.com/kata/582887f7d04efdaae3000090>"
   ]
  },
  {
   "cell_type": "code",
   "execution_count": 11,
   "metadata": {},
   "outputs": [
    {
     "data": {
      "text/plain": [
       "{'firstName': 'Gabriel',\n",
       " 'lastName': 'X.',\n",
       " 'country': 'Monaco',\n",
       " 'continent': 'Europe',\n",
       " 'age': 49,\n",
       " 'language': 'PHP'}"
      ]
     },
     "execution_count": 11,
     "metadata": {},
     "output_type": "execute_result"
    }
   ],
   "source": [
    "lst = [\n",
    "  { 'firstName': 'Gabriel', 'lastName': 'X.', 'country': 'Monaco', 'continent': 'Europe', 'age': 49, 'language': 'PHP' },\n",
    "  { 'firstName': 'Odval', 'lastName': 'F.', 'country': 'Mongolia', 'continent': 'Asia', 'age': 38, 'language': 'Python' },\n",
    "  { 'firstName': 'Emilija', 'lastName': 'S.', 'country': 'Lithuania', 'continent': 'Europe', 'age': 19, 'language': 'Python' },\n",
    "  { 'firstName': 'Sou', 'lastName': 'B.', 'country': 'Japan', 'continent': 'Asia', 'age': 49, 'language': 'PHP' },\n",
    "]\n",
    "\n",
    "# 使用max函数的key参数可以找到年龄最大的程序员\n",
    "max(lst, key=lambda d:d['age'])"
   ]
  },
  {
   "cell_type": "code",
   "execution_count": 95,
   "metadata": {},
   "outputs": [
    {
     "name": "stdout",
     "output_type": "stream",
     "text": [
      "49\n"
     ]
    },
    {
     "data": {
      "text/plain": [
       "[{'firstName': 'Gabriel',\n",
       "  'lastName': 'X.',\n",
       "  'country': 'Monaco',\n",
       "  'continent': 'Europe',\n",
       "  'age': 49,\n",
       "  'language': 'PHP'},\n",
       " {'firstName': 'Sou',\n",
       "  'lastName': 'B.',\n",
       "  'country': 'Japan',\n",
       "  'continent': 'Asia',\n",
       "  'age': 49,\n",
       "  'language': 'PHP'}]"
      ]
     },
     "execution_count": 95,
     "metadata": {},
     "output_type": "execute_result"
    }
   ],
   "source": [
    "# 找到年龄最大的程序员\n",
    "oldest = max(lst, key=lambda d:d['age'])\n",
    "\n",
    "# 打印他的年龄\n",
    "old_age = oldest['age']\n",
    "print(old_age)\n",
    "\n",
    "# 根据年龄过滤列表\n",
    "list(filter(lambda d:d['age'] == old_age, lst))"
   ]
  },
  {
   "cell_type": "code",
   "execution_count": 96,
   "metadata": {},
   "outputs": [],
   "source": [
    "# best solution：\n",
    "def find_senior(lst): \n",
    "    \n",
    "    # 利用生成器作为max函数的参数，找到最大的年龄\n",
    "    mage = max(a['age'] for a in lst)\n",
    "    \n",
    "    # 利用列表推导返回结果\n",
    "    return [a for a in lst if a['age']==mage]"
   ]
  },
  {
   "cell_type": "markdown",
   "metadata": {},
   "source": [
    "## 第五题： Currying versus partial application"
   ]
  },
  {
   "cell_type": "markdown",
   "metadata": {},
   "source": [
    "难度： 4kyu\n",
    "\n",
    "[Currying versus partial application](https://2ality.com/2011/09/currying-vs-part-eval.html)是将一个函数转换为具有更小arity(参数更少)的另一个函数的两种方法。虽然它们经常被混淆，但它们的工作方式是不同的。目标是学会区分它们。\n",
    "\n",
    "Currying\n",
    "\n",
    "是一种将接受多个参数的函数转换为以每个参数都只接受一个参数的一系列函数链的技术。\n",
    "\n",
    "Currying接受一个函数：\n",
    "\n",
    "```python\n",
    "f：X × Y → R\n",
    "```\n",
    "\n",
    "并将其转换为一个函数：\n",
    "\n",
    "```python\n",
    "f'：X → (Y → R)\n",
    "```\n",
    "\n",
    "我们不再使用两个参数调用f，而是使用第一个参数调用f'。结果是一个函数，然后我们使用第二个参数调用该函数来产生结果。因此，如果非curried f被调用为：\n",
    "\n",
    "```python\n",
    "f(3, 5)\n",
    "```\n",
    "\n",
    "那么curried f'被调用为：\n",
    "\n",
    "```python\n",
    "f'(3)(5)\n",
    "```\n",
    "\n",
    "示例\n",
    "给定以下函数：\n",
    "\n",
    "```python\n",
    "def add(x, y, z):\n",
    "  return x + y + z\n",
    "```\n",
    "\n",
    "我们可以以普通方式调用：\n",
    "\n",
    "```python\n",
    "add(1, 2, 3) # => 6\n",
    "```\n",
    "\n",
    "但我们可以创建一个curried版本的add(a, b, c)函数：\n",
    "\n",
    "```python\n",
    "curriedAdd = lambda a: (lambda b: (lambda c: add(a,b,c)))\n",
    "curriedAdd(1)(2)(3) # => 6\n",
    "```\n",
    "\n",
    "Partial application\n",
    "是将一定数量的参数固定到函数中，从而产生另一个更小arity(参数更少)的函数的过程。\n",
    "\n",
    "部分应用接受一个函数：\n",
    "\n",
    "```python\n",
    "f：X × Y → R\n",
    "```\n",
    "\n",
    "和一个固定值x作为第一个参数，以产生一个新的函数\n",
    "\n",
    "```python\n",
    "f'：Y → R\n",
    "```\n",
    "\n",
    "f'与f执行的操作相同，但只需要填写第二个参数，这就是其arity比f的arity少一个的原因。可以说第一个参数绑定到x。\n",
    "\n",
    "示例:\n",
    "\n",
    "```python\n",
    "partialAdd = lambda a: (lambda *args: add(a,*args))\n",
    "partialAdd(1)(2, 3) # => 6\n",
    "```\n",
    "\n",
    "你的任务是实现一个名为curryPartial()的通用函数，可以进行currying或部分应用。\n",
    "\n",
    "例如：\n",
    "\n",
    "```python\n",
    "curriedAdd = curryPartial(add)\n",
    "curriedAdd(1)(2)(3) # => 6\n",
    "\n",
    "partialAdd = curryPartial(add, 1)\n",
    "partialAdd(2, 3) # => 6\n",
    "```\n",
    "\n",
    "我们希望函数保持灵活性。\n",
    "\n",
    "所有下面这些例子都应该产生相同的结果：\n",
    "\n",
    "```python\n",
    "curryPartial(add)(1)(2)(3) # =>6 \n",
    "curryPartial(add, 1)(2)(3) # =>6 \n",
    "curryPartial(add, 1)(2, 3) # =>6 \n",
    "curryPartial(add, 1, 2)(3) # =>6 \n",
    "curryPartial(add, 1, 2, 3) # =>6 \n",
    "curryPartial(add)(1, 2, 3) # =>6 \n",
    "curryPartial(add)(1, 2)(3) # =>6 \n",
    "curryPartial(add)()(1, 2, 3) # =>6 \n",
    "curryPartial(add)()(1)()()(2)(3) # =>6 \n",
    "\n",
    "curryPartial(add)()(1)()()(2)(3, 4, 5, 6) # =>6 \n",
    "curryPartial(add, 1)(2, 3, 4, 5) # =>6 \n",
    "\n",
    "curryPartial(curryPartial(curryPartial(add, 1), 2), 3) # =>6\n",
    "curryPartial(curryPartial(add, 1, 2), 3) # =>6\n",
    "curryPartial(curryPartial(add, 1), 2, 3) # =>6\n",
    "curryPartial(curryPartial(add, 1), 2)(3) # =>6\n",
    "curryPartial(curryPartial(add, 1)(2), 3) # =>6\n",
    "curryPartial(curryPartial(curryPartial(add, 1)), 2, 3) # =>6\n",
    "```\n",
    "\n",
    "代码提交地址：\n",
    "<https://www.codewars.com/kata/53cf7e37e9876c35a60002c9>"
   ]
  },
  {
   "cell_type": "code",
   "execution_count": 4,
   "metadata": {},
   "outputs": [
    {
     "ename": "TypeError",
     "evalue": "<lambda>() takes 3 positional arguments but 6 were given",
     "output_type": "error",
     "traceback": [
      "\u001b[1;31m---------------------------------------------------------------------------\u001b[0m",
      "\u001b[1;31mTypeError\u001b[0m                                 Traceback (most recent call last)",
      "\u001b[1;32mc:\\Users\\zhouj\\workspace\\python_course\\Experiments\\experiment6.ipynb Cell 23\u001b[0m line \u001b[0;36m1\n\u001b[0;32m     <a href='vscode-notebook-cell:/c%3A/Users/zhouj/workspace/python_course/Experiments/experiment6.ipynb#X31sZmlsZQ%3D%3D?line=11'>12</a>\u001b[0m         \u001b[39mreturn\u001b[39;00m curry_partial(f, \u001b[39m*\u001b[39margs, \u001b[39m*\u001b[39margs2)\n\u001b[0;32m     <a href='vscode-notebook-cell:/c%3A/Users/zhouj/workspace/python_course/Experiments/experiment6.ipynb#X31sZmlsZQ%3D%3D?line=13'>14</a>\u001b[0m     \u001b[39mreturn\u001b[39;00m curry\n\u001b[1;32m---> <a href='vscode-notebook-cell:/c%3A/Users/zhouj/workspace/python_course/Experiments/experiment6.ipynb#X31sZmlsZQ%3D%3D?line=15'>16</a>\u001b[0m \u001b[39mprint\u001b[39m(curry_partial(add, a, b)(c, \u001b[39m4\u001b[39;49m, \u001b[39m5\u001b[39;49m, \u001b[39m6\u001b[39;49m))    \n\u001b[0;32m     <a href='vscode-notebook-cell:/c%3A/Users/zhouj/workspace/python_course/Experiments/experiment6.ipynb#X31sZmlsZQ%3D%3D?line=16'>17</a>\u001b[0m \u001b[39mprint\u001b[39m(curry_partial(add, a)(b, c))    \n\u001b[0;32m     <a href='vscode-notebook-cell:/c%3A/Users/zhouj/workspace/python_course/Experiments/experiment6.ipynb#X31sZmlsZQ%3D%3D?line=17'>18</a>\u001b[0m \u001b[39mprint\u001b[39m(curry_partial(add)(a, b, c))    \n",
      "\u001b[1;32mc:\\Users\\zhouj\\workspace\\python_course\\Experiments\\experiment6.ipynb Cell 23\u001b[0m line \u001b[0;36m1\n\u001b[0;32m     <a href='vscode-notebook-cell:/c%3A/Users/zhouj/workspace/python_course/Experiments/experiment6.ipynb#X31sZmlsZQ%3D%3D?line=10'>11</a>\u001b[0m \u001b[39mdef\u001b[39;00m \u001b[39mcurry\u001b[39m(\u001b[39m*\u001b[39margs2):\n\u001b[1;32m---> <a href='vscode-notebook-cell:/c%3A/Users/zhouj/workspace/python_course/Experiments/experiment6.ipynb#X31sZmlsZQ%3D%3D?line=11'>12</a>\u001b[0m     \u001b[39mreturn\u001b[39;00m curry_partial(f, \u001b[39m*\u001b[39;49margs, \u001b[39m*\u001b[39;49margs2)\n",
      "\u001b[1;32mc:\\Users\\zhouj\\workspace\\python_course\\Experiments\\experiment6.ipynb Cell 23\u001b[0m line \u001b[0;36m9\n\u001b[0;32m      <a href='vscode-notebook-cell:/c%3A/Users/zhouj/workspace/python_course/Experiments/experiment6.ipynb#X31sZmlsZQ%3D%3D?line=4'>5</a>\u001b[0m \u001b[39mdef\u001b[39;00m \u001b[39mcurry_partial\u001b[39m(f, \u001b[39m*\u001b[39margs):\n\u001b[0;32m      <a href='vscode-notebook-cell:/c%3A/Users/zhouj/workspace/python_course/Experiments/experiment6.ipynb#X31sZmlsZQ%3D%3D?line=5'>6</a>\u001b[0m     \n\u001b[0;32m      <a href='vscode-notebook-cell:/c%3A/Users/zhouj/workspace/python_course/Experiments/experiment6.ipynb#X31sZmlsZQ%3D%3D?line=6'>7</a>\u001b[0m     \u001b[39m# 如果函数的参数个数小于等于输入的参数个数，就直接调用函数\u001b[39;00m\n\u001b[0;32m      <a href='vscode-notebook-cell:/c%3A/Users/zhouj/workspace/python_course/Experiments/experiment6.ipynb#X31sZmlsZQ%3D%3D?line=7'>8</a>\u001b[0m     \u001b[39mif\u001b[39;00m f\u001b[39m.\u001b[39m\u001b[39m__code__\u001b[39m\u001b[39m.\u001b[39mco_argcount \u001b[39m<\u001b[39m\u001b[39m=\u001b[39m \u001b[39mlen\u001b[39m(args):\n\u001b[1;32m----> <a href='vscode-notebook-cell:/c%3A/Users/zhouj/workspace/python_course/Experiments/experiment6.ipynb#X31sZmlsZQ%3D%3D?line=8'>9</a>\u001b[0m         \u001b[39mreturn\u001b[39;00m f(\u001b[39m*\u001b[39;49margs)\n\u001b[0;32m     <a href='vscode-notebook-cell:/c%3A/Users/zhouj/workspace/python_course/Experiments/experiment6.ipynb#X31sZmlsZQ%3D%3D?line=10'>11</a>\u001b[0m     \u001b[39mdef\u001b[39;00m \u001b[39mcurry\u001b[39m(\u001b[39m*\u001b[39margs2):\n\u001b[0;32m     <a href='vscode-notebook-cell:/c%3A/Users/zhouj/workspace/python_course/Experiments/experiment6.ipynb#X31sZmlsZQ%3D%3D?line=11'>12</a>\u001b[0m         \u001b[39mreturn\u001b[39;00m curry_partial(f, \u001b[39m*\u001b[39margs, \u001b[39m*\u001b[39margs2)\n",
      "\u001b[1;31mTypeError\u001b[0m: <lambda>() takes 3 positional arguments but 6 were given"
     ]
    }
   ],
   "source": [
    "# 定义一个三个数的加法\n",
    "add = lambda a,b,c: a+b+c    \n",
    "a,b,c = 1,2,3\n",
    "\n",
    "def curry_partial(f, *args):\n",
    "    \n",
    "    # 如果函数的参数个数小于等于输入的参数个数，就直接调用函数\n",
    "    if f.__code__.co_argcount <= len(args):\n",
    "        return f(*args)\n",
    "    \n",
    "    def curry(*args2):\n",
    "        return curry_partial(f, *args, *args2)\n",
    "    \n",
    "    return curry\n",
    "\n",
    "print(curry_partial(add, a, b)(c, 4, 5, 6))    \n",
    "print(curry_partial(add, a)(b, c))    \n",
    "print(curry_partial(add)(a, b, c))    \n",
    "print(curry_partial(add)()(a, b, c))    "
   ]
  },
  {
   "cell_type": "code",
   "execution_count": 1,
   "metadata": {},
   "outputs": [
    {
     "name": "stdout",
     "output_type": "stream",
     "text": [
      "6\n"
     ]
    }
   ],
   "source": [
    "# 定义一个三个数的加法\n",
    "add = lambda a,b,c: a+b+c    \n",
    "a,b,c = 1,2,3\n",
    "\n",
    "def curry_partial(f, *args):  \n",
    "    \n",
    "    # 如果f不是函数，直接返回\n",
    "    if not callable(f): \n",
    "        return f\n",
    "\n",
    "    # 查看函数f需要的参数个数\n",
    "    num_args = f.__code__.co_argcount\n",
    "\n",
    "    # 如果f函数不需要参数，说明f是curry_partial函数\n",
    "    if num_args == 0:\n",
    "        return f(*args)\n",
    "\n",
    "    if len(args) >= num_args:\n",
    "        return f(*args[:num_args])\n",
    "\n",
    "    def inner(*params):    \n",
    "        all_args = [*args, *params]\n",
    "\n",
    "        # 如果没有参数，这是curry函数，使用链式调用\n",
    "        if not args:\n",
    "            return curry_partial(f, *all_args)\n",
    "\n",
    "        # 如果第一个参数不是函数，这是curry函数，使用链式调用        \n",
    "        if not callable(args[0]):\n",
    "            return curry_partial(f, *all_args)\n",
    "\n",
    "        # 如果第一个参数是函数，这是partial函数，使用部分函数调用\n",
    "        fn = args[0]\n",
    "        num_args2 = fn.__code__.co_argcount\n",
    "\n",
    "        # 如果fn函数不需要参数，说明fn是curry_partial函数\n",
    "        if num_args2 == 0:\n",
    "            return fn(*all_args)\n",
    "\n",
    "        if len(all_args) >= num_args2:\n",
    "            return fn(*all_args[:num_args2])\n",
    "        else:\n",
    "            return curry_partial(fn, *all_args)\n",
    "        \n",
    "    return inner\n",
    "\n",
    "# 定义一个三个数的加法\n",
    "add = lambda a,b,c: a+b+c    \n",
    "a,b,c = 1,2,3\n",
    "\n",
    "# partial调用\n",
    "print(curry_partial(curry_partial(curry_partial(add, a), b), c))\n",
    "\n",
    "# curry调用\n",
    "print(curry_partial(add)(a)(b)(c))"
   ]
  },
  {
   "cell_type": "code",
   "execution_count": null,
   "metadata": {},
   "outputs": [],
   "source": [
    "# best solution：\n",
    "\n",
    "from inspect import signature\n",
    "from functools import partial\n",
    "\n",
    "def curry_partial(main_func, *args):\n",
    "    \n",
    "    if not(callable(main_func)):\n",
    "        return main_func\n",
    "    \n",
    "    p = len(signature(main_func).parameters)\n",
    "    func = partial(main_func)\n",
    "    \n",
    "    for a in args:\n",
    "        if len(func.args) == p: break\n",
    "        func = partial(func, a)\n",
    "    \n",
    "    if len(func.args) < p:\n",
    "        return partial(curry_partial, main_func, *func.args)\n",
    "\n",
    "    return func()"
   ]
  }
 ],
 "metadata": {
  "kernelspec": {
   "display_name": "Python 3",
   "language": "python",
   "name": "python3"
  },
  "language_info": {
   "codemirror_mode": {
    "name": "ipython",
    "version": 3
   },
   "file_extension": ".py",
   "mimetype": "text/x-python",
   "name": "python",
   "nbconvert_exporter": "python",
   "pygments_lexer": "ipython3",
   "version": "3.10.6"
  }
 },
 "nbformat": 4,
 "nbformat_minor": 2
}
