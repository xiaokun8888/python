{
 "cells": [
  {
   "cell_type": "markdown",
   "metadata": {},
   "source": [
    "# 实验五 Python数据结构与数据模型"
   ]
  },
  {
   "cell_type": "markdown",
   "metadata": {},
   "source": [
    "## 第一题：停止逆转我的单词"
   ]
  },
  {
   "cell_type": "markdown",
   "metadata": {},
   "source": [
    "难度： 6kyu\n",
    "\n",
    "编写一个函数，接收一个或多个单词的字符串，并返回相同的字符串，但所有5个或更多的字母单词都是相反的（就像这个Kata的名字一样）。传入的字符串将只由字母和空格组成。只有当出现一个以上的单词时，才会包括空格。\n",
    "例如：\n",
    "\n",
    "```python\n",
    "spinWords( \"Hey fellow warriors\" ) => returns \"Hey wollef sroirraw\" \n",
    "spinWords( \"This is a test\") => returns \"This is a test\" \n",
    "spinWords( \"This is another test\" )=> returns \"This is rehtona test\"\n",
    "```\n",
    "\n",
    "代码提交地址：\n",
    "<https://www.codewars.com/kata/5264d2b162488dc400000001>\n",
    "\n",
    "提示：\n",
    "\n",
    "- 利用str的split方法可以将字符串分为单词列表\n",
    "例如：\n",
    "\n",
    "```python\n",
    "words = \"hey fellow warrior\".split()\n",
    "# words should be ['hey', 'fellow', 'warrior']\n",
    "```\n",
    "\n",
    "- 利用列表推导将长度大于等于5的单词反转(利用切片word[::-1])\n",
    "- 最后使用str的join方法连结列表中的单词。"
   ]
  },
  {
   "cell_type": "code",
   "execution_count": 1,
   "metadata": {},
   "outputs": [
    {
     "name": "stdout",
     "output_type": "stream",
     "text": [
      "hey wollef roirraw\n"
     ]
    }
   ],
   "source": [
    "# 将字符串分解为单词列表\n",
    "words = \"hey fellow warrior\".split()\n",
    "# words should be ['hey', 'fellow', 'warrior']\n",
    "\n",
    "# 将长度大于5的单词反转\n",
    "spinning_words = [word[::-1] if len(word) >= 5 else word for word in words]\n",
    "\n",
    "# 使用空格连接单词列表\n",
    "result = \" \".join(spinning_words)\n",
    "print(result)"
   ]
  },
  {
   "cell_type": "markdown",
   "metadata": {},
   "source": [
    "## 第二题： 发现离群的数(Find The Parity Outlier)\n",
    "\n",
    "难度：6kyu\n",
    "\n",
    "给你一个包含整数的数组（其长度至少为3，但可能非常大）。该数组要么完全由奇数组成，要么完全由偶数组成，除了一个整数N。请写一个方法，以该数组为参数，返回这个 \"离群 \"的N。\n",
    "\n",
    "例如：\n",
    "\n",
    "```python\n",
    "[2, 4, 0, 100, 4, 11, 2602, 36]\n",
    "# Should return: 11 (the only odd number)\n",
    "\n",
    "[160, 3, 1719, 19, 11, 13, -21]\n",
    "# Should return: 160 (the only even number)\n",
    "```\n",
    "\n",
    "代码提交地址：\n",
    "<https://www.codewars.com/kata/5526fc09a1bbd946250002dc>"
   ]
  },
  {
   "cell_type": "code",
   "execution_count": null,
   "metadata": {},
   "outputs": [],
   "source": [
    "def find_outlier(int):\n",
    "    # 保存所有奇数\n",
    "    odds = [x for x in int if x%2!=0]\n",
    "    \n",
    "    # 保存所有偶数\n",
    "    evens= [x for x in int if x%2==0]\n",
    "    \n",
    "    # 比较偶数列表和奇数列表的长度，返回长度较小的列表的第一个元素\n",
    "    return odds[0] if len(odds)<len(evens) else evens[0]"
   ]
  },
  {
   "cell_type": "code",
   "execution_count": null,
   "metadata": {},
   "outputs": [],
   "source": [
    "integers = [2, 4, 0, 100, 4, 11, 2602, 36]\n",
    "\n",
    "# 设置偶数和奇数计数器，初始值都为0\n",
    "even_count = 0\n",
    "odd_count = 0\n",
    "\n",
    "# 遍历整数列表\n",
    "for value in integers:\n",
    "    # 如果是偶数，偶数计数器加1\n",
    "    if value % 2 == 0:\n",
    "        # 如果当前奇数计数器的值大于1，说明离群的数是该偶数\n",
    "        if odd_count > 1:\n",
    "            print(value)  # \n",
    "            break\n",
    "        even_count += 1 \n",
    "    \n",
    "    # 如果是奇数，奇数计数器加1       \n",
    "    else:\n",
    "        # 如果当前偶数计数器的值大于1，说明离群的数是该奇数\n",
    "        if even_count > 1:\n",
    "            print(value)\n",
    "            break\n",
    "        odd_count += 1    "
   ]
  },
  {
   "cell_type": "code",
   "execution_count": null,
   "metadata": {},
   "outputs": [],
   "source": [
    "def find_outlier(integers):\n",
    "    # 设置偶数和奇数计数器，初始值都为0\n",
    "    even_count = 0\n",
    "    odd_count = 0\n",
    "    \n",
    "    # 设置找到的第一个奇数和偶数，初始值都为None\n",
    "    first_odd = None\n",
    "    first_even = None\n",
    "\n",
    "    # 遍历整数列表\n",
    "    for value in integers:\n",
    "        # 如果是偶数\n",
    "        if value % 2 == 0:\n",
    "            # 如果这是找到的第一个奇数，记录下来\n",
    "            if first_even is None:\n",
    "                first_even = value\n",
    "            # 如果当前奇数计数器的值大于1，说明离群的数是该偶数\n",
    "            if odd_count > 1:\n",
    "                return value\n",
    "            \n",
    "            # 偶数计数器加1            \n",
    "            even_count += 1\n",
    "            \n",
    "            # 如果偶数计数器的值大于1，说明离群的数是该奇数\n",
    "            # 如果第一个奇数不是None，返回第一个奇数\n",
    "            if even_count > 1 and first_odd is not None:\n",
    "                return first_odd \n",
    "        \n",
    "        # 如果是奇数，奇数计数器加1       \n",
    "        else:\n",
    "            # 如果这是找到的第一个偶数，记录下来\n",
    "            if first_odd is None:\n",
    "                first_odd = value\n",
    "            # 如果当前偶数计数器的值大于1，说明离群的数是该奇数\n",
    "            if even_count > 1:\n",
    "                return value\n",
    "            # 奇数计数器加1\n",
    "            odd_count += 1\n",
    "            \n",
    "            # 如果奇数计数器的值大于1，说明离群的数是该偶数\n",
    "            # 如果第一个偶数不是None，返回第一个偶数\n",
    "            if odd_count > 1 and first_even is not None:\n",
    "                return first_even                  \n",
    "    return None"
   ]
  },
  {
   "cell_type": "markdown",
   "metadata": {},
   "source": [
    "## 第三题： 检测Pangram\n",
    "\n",
    "难度：6kyu\n",
    "\n",
    "pangram是一个至少包含每个字母一次的句子。例如，\"The quick brown fox jumps over the lazy dog \"这个句子就是一个pangram，因为它至少使用了一次字母A-Z（大小写不相关）。\n",
    "\n",
    "给定一个字符串，检测它是否是一个pangram。如果是则返回`True`，如果不是则返回`False`。忽略数字和标点符号。\n",
    "代码提交地址：\n",
    "<https://www.codewars.com/kata/545cedaa9943f7fe7b000048>"
   ]
  },
  {
   "cell_type": "code",
   "execution_count": null,
   "metadata": {},
   "outputs": [],
   "source": [
    "def is_pangram(s):\n",
    "    # 将字符串转换为小写\n",
    "    s = s.lower()\n",
    "    \n",
    "    # 遍历所有小写字母，如果有字母不在字符串中，返回False\n",
    "    for char in 'abcdefghijklmnopqrstuvwxyz':\n",
    "        if char not in s:\n",
    "            return False\n",
    "        \n",
    "    # 遍历结束，说明所有字母都在字符串中，返回True\n",
    "    return True"
   ]
  },
  {
   "cell_type": "markdown",
   "metadata": {},
   "source": [
    "## 第四题： 数独解决方案验证\n",
    "\n",
    "难度：6kyu\n",
    "\n",
    "数独背景\n",
    "\n",
    "数独是一种在 9x9 网格上进行的游戏。游戏的目标是用 1 到 9 的数字填充网格的所有单元格，以便每一列、每一行和九个 3x3 子网格（也称为块）中的都包含数字 1 到 9。更多信息请访问：<http://en.wikipedia.org/wiki/Sudoku>\n",
    "\n",
    "编写一个函数接受一个代表数独板的二维数组，如果它是一个有效的解决方案则返回 true，否则返回 false。数独板的单元格也可能包含 0，这将代表空单元格。包含一个或多个零的棋盘被认为是无效的解决方案。棋盘总是 9 x 9 格，每个格只包含 0 到 9 之间的整数。\n",
    "\n",
    "代码提交地址：\n",
    "<https://www.codewars.com/kata/63d1bac72de941033dbf87ae>"
   ]
  },
  {
   "cell_type": "code",
   "execution_count": null,
   "metadata": {},
   "outputs": [],
   "source": [
    "def validate_sudoku(board):\n",
    "    \n",
    "    # 利用集合进行比较 {1,2,3,4,5,6,7,8,9}\n",
    "    elements = set(range(1, 10))\n",
    "    \n",
    "    # row\n",
    "    for b in board:\n",
    "        if set(b) != elements: \n",
    "            return False\n",
    "    \n",
    "    # column\n",
    "    for b in zip(*board):   # zip(*board) 可以将矩阵转置\n",
    "        if set(b) != elements: \n",
    "            return False\n",
    "    \n",
    "    # magic squares\n",
    "    for i in range(3, 10, 3):\n",
    "        for j in range(3, 10, 3):\n",
    "            if elements != {(board[q][w]) for w in range(j-3, j) for q in range(i-3, i)}:\n",
    "                return False\n",
    "            \n",
    "    return True"
   ]
  },
  {
   "cell_type": "markdown",
   "metadata": {},
   "source": [
    "## 第五题： 疯狂的彩色三角形\n",
    "\n",
    "难度： 2kyu\n",
    "\n",
    "一个彩色的三角形是由一排颜色组成的，每一排都是红色、绿色或蓝色。连续的几行，每一行都比上一行少一种颜色，是通过考虑前一行中的两个相接触的颜色而产生的。如果这些颜色是相同的，那么新的一行就使用相同的颜色。如果它们不同，则在新的一行中使用缺失的颜色。这个过程一直持续到最后一行，只有一种颜色被生成。\n",
    "\n",
    "例如：\n",
    "```python\n",
    "Colour here:            G G        B G        R G        B R\n",
    "Becomes colour here:     G          R          B          G\n",
    "```\n",
    "\n",
    "\n",
    "一个更大的三角形例子：\n",
    "\n",
    "```python\n",
    "R R G B R G B B\n",
    " R B R G B R B\n",
    "  G G B R G G\n",
    "   G R G B G\n",
    "    B B R R\n",
    "     B G R\n",
    "      R B\n",
    "       G\n",
    "```\n",
    "\n",
    "你将得到三角形的第一行字符串，你的工作是返回最后的颜色，这将出现在最下面一行的字符串。在上面的例子中，你将得到 \"RRGBRGBB\"，你应该返回 \"G\"。\n",
    "限制条件： 1 <= length(row) <= 10 ** 5\n",
    "输入的字符串将只包含大写字母'B'、'G'或'R'。\n",
    "\n",
    "例如：\n",
    "\n",
    "```python\n",
    "triangle('B') == 'B'\n",
    "triangle('GB') == 'R'\n",
    "triangle('RRR') == 'R'\n",
    "triangle('RGBG') == 'B'\n",
    "triangle('RBRGBRB') == 'G'\n",
    "triangle('RBRGBRBGGRRRBGBBBGG') == 'G'\n",
    "```\n",
    "\n",
    "代码提交地址：\n",
    "<https://www.codewars.com/kata/5a331ea7ee1aae8f24000175>"
   ]
  },
  {
   "cell_type": "markdown",
   "metadata": {},
   "source": [
    "提示：\n",
    "\n",
    "```\n",
    "Let R,G,B=0,1,2\n",
    "for x y \n",
    "     z  \n",
    "\n",
    "notice that z==(2*(x+y)) (Mod 3)\n",
    "\n",
    "a        b        c\n",
    "  2(a+b)   2(b+c)\n",
    "     4(a+2b+c)\n",
    "\n",
    "a      b         c        d\n",
    " 2(a+b)   2(b+c)   2(c+d)\n",
    "   4(a+2b+c) 4(b+2c+d)\n",
    "      8(a+3b+3c+d) = a + d\n",
    "```\n",
    "\n",
    "根据三进制运算的特点，当字符长度恰好等于3的幂加1时，可以直接运算第一个颜色和最后一个颜色得到结果，例如：计算'RGGB'时可以直接计算'RB'得到'G',计算'RGGBBRRGGG'时可以直接计算'RG'得到'B'。\n",
    "\n",
    "如果字符长度不是3的幂加1，仍然可以利用上面的方法加快运算，每次用间隔3的幂长度的字符运算，例如：计算'RG {7个任意字符} GB'时可以先计算'R{8个字符}G'得到'B'，再计算'G{8个字符}B'得到'R'，最后计算'BG'得到'R'。"
   ]
  },
  {
   "cell_type": "code",
   "execution_count": null,
   "metadata": {},
   "outputs": [],
   "source": [
    "def triangle3(row):\n",
    "    # 最长的测试用例长度不会超过100000\n",
    "    # 找到小于100000的所有的3的幂加1，从大到小排序\n",
    "    # reduce 应该等于[3**9+1, 3**8+1, ... , 3**1+1,  3**0+1]\n",
    "    reduce=[3**i+1 for i in range(10) if 3**i<=100000][::-1]\n",
    "    \n",
    "    COLOR = {'GG':'G', 'BB':'B', 'RR':'R', 'BR':'G', \n",
    "            'BG':'R', 'GB':'R', 'GR':'B', 'RG':'B', 'RB':'G'}\n",
    "    \n",
    "    # 从reduce里面最长的长度间隔，取出row里面的元素相加\n",
    "    for length in reduce:\n",
    "        while len(row)>=length:\n",
    "            # row=[row[i] if row[i]==row[i+length-1] else ({\"R\",\"G\",\"B\"}-{row[i],row[i+length-1]}).pop() for i in range(len(row)-length+1)]\n",
    "            row=[ COLOR[row[i] + row[i+length-1]] for i in range(len(row)-length+1)]\n",
    "    return row[0]"
   ]
  },
  {
   "cell_type": "code",
   "execution_count": 1,
   "metadata": {},
   "outputs": [
    {
     "name": "stdout",
     "output_type": "stream",
     "text": [
      "RB\n"
     ]
    }
   ],
   "source": [
    "print('R' + 'B')"
   ]
  }
 ],
 "metadata": {
  "kernelspec": {
   "display_name": "Python 3",
   "language": "python",
   "name": "python3"
  },
  "language_info": {
   "codemirror_mode": {
    "name": "ipython",
    "version": 3
   },
   "file_extension": ".py",
   "mimetype": "text/x-python",
   "name": "python",
   "nbconvert_exporter": "python",
   "pygments_lexer": "ipython3",
   "version": "3.10.6"
  }
 },
 "nbformat": 4,
 "nbformat_minor": 2
}
