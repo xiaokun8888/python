{
 "cells": [
  {
   "cell_type": "markdown",
   "metadata": {},
   "source": [
    "# 实验二 Python变量、简单数据类型"
   ]
  },
  {
   "cell_type": "markdown",
   "metadata": {},
   "source": [
    "## 第1题：求离整数n最近的平方数（Find Nearest square number）\n",
    "\n",
    "难度：8kyu\n",
    "\n",
    "你的任务是找到一个正整数n的最近的平方数\n",
    "例如，如果n=111，那么nearest_sq(n)（nearestSq(n)）等于121，因为111比100（10的平方）更接近121（11的平方）。\n",
    "如果n已经是完全平方（例如n=144，n=81，等等），你需要直接返回n。\n",
    "代码提交地址\n",
    "<https://www.codewars.com/kata/5a805d8cafa10f8b930005ba>"
   ]
  },
  {
   "cell_type": "markdown",
   "metadata": {},
   "source": [
    "提示：\n",
    "\n",
    "- n ** 0.5 求平方根\n",
    "- round() 四舍五入"
   ]
  },
  {
   "cell_type": "code",
   "execution_count": 1,
   "metadata": {},
   "outputs": [],
   "source": [
    "def solution(n):\n",
    "    return round(n**.5) ** 2"
   ]
  },
  {
   "cell_type": "code",
   "execution_count": 2,
   "metadata": {},
   "outputs": [
    {
     "name": "stdout",
     "output_type": "stream",
     "text": [
      "121\n"
     ]
    }
   ],
   "source": [
    "# 测试代码\n",
    "\n",
    "print(solution(111))"
   ]
  },
  {
   "cell_type": "markdown",
   "metadata": {},
   "source": [
    "## 第2题：弹跳的球（Bouncing Balls）\n",
    "\n",
    "难度：6kyu\n",
    "\n",
    "一个孩子在一栋高楼的第N层玩球。这层楼离地面的高度h是已知的。他把球从窗口扔出去。球弹了起来,  例如:弹到其高度的三分之二（弹力为0.66）。他的母亲从离地面w米的窗户向外看,母亲会看到球在她的窗前经过多少次（包括球下落和反弹的时候）？\n",
    "\n",
    "一个有效的实验必须满足三个条件：\n",
    "\n",
    "- 参数 \"h\"（米）必须大于0\n",
    "- 参数 \"bounce \"必须大于0且小于1\n",
    "- 参数 “window \"必须小于h。\n",
    "\n",
    "如果以上三个条件都满足，返回一个正整数，否则返回-1。\n",
    "**注意:只有当反弹球的高度严格大于窗口参数时，才能看到球。**\n",
    "代码提交地址\n",
    "<https://www.codewars.com/kata/5544c7a5cb454edb3c000047/train/python>"
   ]
  },
  {
   "cell_type": "markdown",
   "metadata": {},
   "source": [
    "提示：\n",
    "\n",
    "- 一定要用while循环\n",
    "- 循环终止条件是 h <= window"
   ]
  },
  {
   "cell_type": "code",
   "execution_count": null,
   "metadata": {},
   "outputs": [],
   "source": []
  },
  {
   "cell_type": "markdown",
   "metadata": {},
   "source": [
    "## 第3题： 元音统计(Vowel Count)\n",
    "\n",
    "难度： 7kyu\n",
    "\n",
    "返回给定字符串中元音的数量（计数）。对于这个Kata，我们将考虑a、e、i、o、u作为元音（但不包括y）。输入的字符串将只由小写字母和/或空格组成。\n",
    "\n",
    "代码提交地址：\n",
    "<https://www.codewars.com/kata/54ff3102c1bad923760001f3>"
   ]
  },
  {
   "cell_type": "markdown",
   "metadata": {},
   "source": [
    "提示：\n",
    "\n",
    "- 用列表推导\n",
    "- in 判断元素是否在列表中\n",
    "- 字符串的lower()方法，将字符串转换为小写"
   ]
  },
  {
   "cell_type": "code",
   "execution_count": null,
   "metadata": {},
   "outputs": [],
   "source": [
    "def solution(word):\n",
    "    result = [  c   for c in word  if c in 'aeiou'   ]\n",
    "    return len(result)"
   ]
  }
 ],
 "metadata": {
  "kernelspec": {
   "display_name": "Python 3",
   "language": "python",
   "name": "python3"
  },
  "language_info": {
   "codemirror_mode": {
    "name": "ipython",
    "version": 3
   },
   "file_extension": ".py",
   "mimetype": "text/x-python",
   "name": "python",
   "nbconvert_exporter": "python",
   "pygments_lexer": "ipython3",
   "version": "3.10.6"
  }
 },
 "nbformat": 4,
 "nbformat_minor": 2
}
