{
 "cells": [
  {
   "cell_type": "markdown",
   "metadata": {},
   "source": [
    "# 实验三 Python列表"
   ]
  },
  {
   "cell_type": "markdown",
   "metadata": {},
   "source": [
    "## 第一题：3和5的倍数（Multiples of 3 or 5）\n",
    "\n",
    "难度： 6kyu\n",
    "\n",
    "如果我们列出所有低于 10 的 3 或 5 倍数的自然数，我们得到 3、5、6 和 9。这些数的总和为 23. 完成一个函数，使其返回小于某个整数的所有是3 或 5 的倍数的数的总和。此外，如果数字为负数，则返回 0。\n",
    "\n",
    "注意：如果一个数同时是3和5的倍数，应该只被算一次。\n",
    "\n",
    "**提示：首先使用列表解析得到一个列表，元素全部是3或者5的倍数。\n",
    "使用sum函数可以获取这个列表所有元素的和.**\n",
    "\n",
    "代码提交地址：\n",
    "<https://www.codewars.com/kata/514b92a657cdc65150000006>"
   ]
  },
  {
   "cell_type": "code",
   "execution_count": null,
   "metadata": {},
   "outputs": [],
   "source": [
    "def solution(number):\n",
    "    \n",
    "    # 从0到number-1的整数\n",
    "    numbers = [i for i in range(number)]\n",
    "    \n",
    "    # 从0到number-1的整数中，3或者5的倍数\n",
    "    multi3or5 =  [i for i in range(number) if i%3==0 or i%5==0]\n",
    "    \n",
    "    # 返回结果\n",
    "    return sum(multi3or5)    "
   ]
  },
  {
   "cell_type": "markdown",
   "metadata": {},
   "source": [
    "将上面的代码写成一句话，就是下面的结果："
   ]
  },
  {
   "cell_type": "code",
   "execution_count": null,
   "metadata": {},
   "outputs": [],
   "source": [
    "def solution(number):\n",
    "    return sum(i for i in range(number)\n",
    "               if i%3 == 0 or i%5 == 0) "
   ]
  },
  {
   "cell_type": "markdown",
   "metadata": {},
   "source": [
    "利用等差数列直接计算3的倍数、5的倍数、15的倍数，结果 = 3的倍数+5的倍数-15的倍数"
   ]
  },
  {
   "cell_type": "code",
   "execution_count": null,
   "metadata": {},
   "outputs": [],
   "source": [
    "def solution(number):\n",
    "    if number < 0:\n",
    "        return 0\n",
    "    a,b,c = (number-1)//3, (number-1)//5, (number-1)//15\n",
    "    x,y,z = (3+3*a)*a/2, (5+5*b)*b/2, (15+15*c)*c/2\n",
    "    return x+y-z"
   ]
  },
  {
   "cell_type": "markdown",
   "metadata": {},
   "source": [
    "## 第二题： 重复字符的编码器（Duplicate Encoder）\n",
    "\n",
    "难度： 6kyu\n",
    "\n",
    "本练习的目的是将一个字符串转换为一个新的字符串，如果新字符串中的每个字符在原字符串中只出现一次，则为\"(\"，如果该字符在原字符串中出现多次，则为\")\"。在判断一个字符是否是重复的时候，请忽略大写字母。\n",
    "\n",
    "例如:\n",
    "\n",
    "```python\n",
    "\"din\"      =>  \"(((\"\n",
    "\"recede\"   =>  \"()()()\"\n",
    "\"Success\"  =>  \")())())\"\n",
    "\"(( @\"     =>  \"))((\"\n",
    "```\n",
    "\n",
    "代码提交地址:\n",
    "<https://www.codewars.com/kata/54b42f9314d9229fd6000d9c>"
   ]
  },
  {
   "cell_type": "markdown",
   "metadata": {},
   "source": [
    "提示：利用字符串的`str.count(c)`方法可以计算字符c在字符串中出现的次数，例如：\n",
    "\n",
    "```python\n",
    "msg = 'hello'\n",
    "print(msg.count('l')) # 结果为2\n",
    "```"
   ]
  },
  {
   "cell_type": "code",
   "execution_count": null,
   "metadata": {},
   "outputs": [],
   "source": [
    "def duplicate_encode(word):\n",
    "    # 用来保存括号的列表\n",
    "    result = []\n",
    "    \n",
    "    # 将所有字符全部变成小写\n",
    "    word = word.lower()\n",
    "    \n",
    "    # 遍历单词中所有的字符\n",
    "    for c in word:\n",
    "        # 如果该字符出现次数大于1次，在列表中添加`)`\n",
    "        if word.count(c) > 1:\n",
    "            result.append(')')\n",
    "        # 如果该字符出现次数大于1次，在列表中添加`(`\n",
    "        else:\n",
    "            result.append('(') \n",
    "    \n",
    "    # 将列表中的括号连接成字符串返回\n",
    "    return ''.join(result)"
   ]
  },
  {
   "cell_type": "markdown",
   "metadata": {},
   "source": [
    "将上面的代码使用列表解析简化"
   ]
  },
  {
   "cell_type": "code",
   "execution_count": 1,
   "metadata": {},
   "outputs": [],
   "source": [
    "def duplicate_encode(word):\n",
    "    word = word.lower()\n",
    "    return ''.join('(' if word.count(c)<2 else ')' for c in word)"
   ]
  },
  {
   "cell_type": "markdown",
   "metadata": {},
   "source": [
    "利用`collections.Counter`类"
   ]
  },
  {
   "cell_type": "code",
   "execution_count": 1,
   "metadata": {},
   "outputs": [
    {
     "data": {
      "text/plain": [
       "Counter({'h': 2,\n",
       "         'e': 1,\n",
       "         'l': 3,\n",
       "         'o': 3,\n",
       "         ' ': 5,\n",
       "         'w': 1,\n",
       "         'r': 1,\n",
       "         'd': 2,\n",
       "         ',': 1,\n",
       "         's': 3,\n",
       "         'u': 1,\n",
       "         'n': 3,\n",
       "         'i': 3,\n",
       "         'g': 1,\n",
       "         't': 1,\n",
       "         'a': 1,\n",
       "         'y': 1})"
      ]
     },
     "execution_count": 1,
     "metadata": {},
     "output_type": "execute_result"
    }
   ],
   "source": [
    "from collections import Counter\n",
    "\n",
    "word = \"hello world, sun is shining today\"\n",
    "\n",
    "word = word.lower()\n",
    "counter = Counter(word)\n",
    "counter"
   ]
  },
  {
   "cell_type": "code",
   "execution_count": 3,
   "metadata": {},
   "outputs": [
    {
     "name": "stdout",
     "output_type": "stream",
     "text": [
      "[(' ', 5), ('l', 3), ('o', 3)]\n"
     ]
    }
   ],
   "source": [
    "print(counter.most_common(3))"
   ]
  },
  {
   "cell_type": "markdown",
   "metadata": {},
   "source": [
    "## 第三题：括号匹配（Valid Braces）\n",
    "\n",
    "难度：6kyu\n",
    "\n",
    "写一个函数，接收一串括号，并确定括号的顺序是否有效。如果字符串是有效的，它应该返回True，如果是无效的，它应该返回False。\n",
    "例如：\n",
    "\n",
    "```python\n",
    "\"(){}[]\" => True \n",
    "\"([{}])\" => True\n",
    " \"(}\" => False\n",
    " \"[(])\" => False \n",
    "\"[({})](]\" => False\n",
    "```\n",
    "\n",
    "**提示：\n",
    "python中没有内置堆栈数据结构，可以直接使用`list`来作为堆栈，其中`append`方法用于入栈，`pop`方法可以出栈。**\n",
    "\n",
    "代码提交地址\n",
    "<https://www.codewars.com/kata/5277c8a221e209d3f6000b56>"
   ]
  },
  {
   "cell_type": "code",
   "execution_count": 8,
   "metadata": {},
   "outputs": [],
   "source": [
    "braces = \"(){}[]\" # 括号字符串\n",
    "dict_braces = {'}': '{', ']': '[', ')': '('}\n",
    "\n",
    "def validBraces(string):\n",
    "    stack = [] # 用来保存括号的栈\n",
    "    for c in string:\n",
    "        # 如果是左括号，就入栈\n",
    "        if c in '({[':\n",
    "            stack.append(c)\n",
    "        # 如果是右括号\n",
    "        elif c in ')}]':\n",
    "            # 如果栈为空，返回False\n",
    "            if not stack:\n",
    "                return False\n",
    "            # 如果栈顶元素和当前元素不匹配，返回False\n",
    "            if stack[-1] != dict_braces[c]:\n",
    "                return False\n",
    "            # 如果栈顶元素和当前元素匹配，就出栈\n",
    "            else:\n",
    "                stack.pop()\n",
    "    # 如果栈为空，返回True\n",
    "    if not stack:\n",
    "        return True\n",
    "    # 如果栈不为空，返回False\n",
    "    else:\n",
    "        return False"
   ]
  },
  {
   "cell_type": "markdown",
   "metadata": {},
   "source": [
    "## 第四题： 从随机三元组中恢复秘密字符串(Recover a secret string from random triplets)\n",
    "\n",
    "难度： 4kyu\n",
    "\n",
    "有一个不为你所知的秘密字符串。给出一个随机三个字母的组合的集合，恢复原来的字符串。\n",
    "\n",
    "这里的三个字母的组合被定义为三个字母的序列，每个字母在给定的字符串中出现在下一个字母之前。\"whi \"是字符串 \"whatisup \"的一个三个字母的组合。\n",
    "\n",
    "作为一种简化，你可以假设没有一个字母在秘密字符串中出现超过一次。\n",
    "\n",
    "对于给你的三个字母的组合，除了它们是有效的三个字母的组合以及它们包含足够的信息来推导出原始字符串之外，你可以不做任何假设。特别是，这意味着秘密字符串永远不会包含不出现在给你的三个字母的组合中的字母。\n",
    "\n",
    "测试用例：\n",
    "\n",
    "```python\n",
    "secret = \"whatisup\"\n",
    "triplets = [\n",
    "  ['t','u','p'],\n",
    "  ['w','h','i'],\n",
    "  ['t','s','u'],\n",
    "  ['a','t','s'],\n",
    "  ['h','a','p'],\n",
    "  ['t','i','s'],\n",
    "  ['w','h','s']\n",
    "]\n",
    "test.assert_equals(recoverSecret(triplets), secret)\n",
    "```\n",
    "\n",
    "代码提交地址：\n",
    "<https://www.codewars.com/kata/53f40dff5f9d31b813000774/train/python>\n",
    "\n",
    "提示：\n",
    "\n",
    "- 利用集合去掉`triplets`中的重复字母，得到字母集合`letters`，最后的`secret`应该由集合中的字母组成，`secret`长度也等于该集合。\n",
    "\n",
    "```python\n",
    "letters = {letter for triplet in triplets for letter in triplet }\n",
    "length = len(letters)\n",
    "```\n",
    "\n",
    "- 创建函数`check_first_letter(triplets, first_letter)`，检测一个字母是不是secret的首字母，返回True或者False。\n",
    "- 创建函数`remove_first_letter(triplets, first_letter)`,  从三元组中去掉首字母，返回新的三元组。\n",
    "- 遍历字母集合letters，利用上面2个函数得到最后的结果`secret`。"
   ]
  },
  {
   "cell_type": "code",
   "execution_count": null,
   "metadata": {},
   "outputs": [],
   "source": []
  },
  {
   "cell_type": "markdown",
   "metadata": {},
   "source": [
    "## 第五题： 去掉喷子的元音（Disemvowel Trolls）\n",
    "\n",
    "难度： 7kyu\n",
    "\n",
    "喷子正在攻击你的评论区!\n",
    "处理这种情况的一个常见方法是删除喷子评论中的所有元音(字母：a,e,i,o,u)，以消除威胁。\n",
    "你的任务是写一个函数，接收一个字符串并返回一个去除所有元音的新字符串。\n",
    "例如，字符串 \"This website is for losers LOL!\"   将变成 \"Ths wbst s fr lsrs LL!\".\n",
    "\n",
    "注意：对于这个Kata来说，y不被认为是元音。\n",
    "代码提交地址：\n",
    "<https://www.codewars.com/kata/52fba66badcd10859f00097e>\n",
    "\n",
    "提示：\n",
    "\n",
    "- 首先使用列表解析得到一个列表，列表中所有不是元音的字母。\n",
    "- 使用字符串的join方法连结列表中所有的字母，例如：\n",
    "\n",
    "```python\n",
    "last_name = \"lovelace\"\n",
    "letters = [letter for letter in last_name ]\n",
    "print(letters) # ['l', 'o', 'v', 'e', 'l', 'a', 'c', 'e']\n",
    "name = ''.join(letters) # name = \"lovelace\"\n",
    "```"
   ]
  },
  {
   "cell_type": "code",
   "execution_count": 11,
   "metadata": {},
   "outputs": [
    {
     "name": "stdout",
     "output_type": "stream",
     "text": [
      "1 [1, 2, 3, 4, 5]\n",
      "2 [1, 2, 3, 4, 5]\n",
      "4 [1, 3, 4, 5]\n"
     ]
    }
   ],
   "source": [
    "# 在for循环遍历列表时，不要修改列表\n",
    "nums = [1,2,3,4,5]\n",
    "\n",
    "# 列表中虽然有5个元素，但是只循环了3次，数字3和5没有被遍历到\n",
    "for i in nums:\n",
    "    print(i, nums)\n",
    "    if i%2 == 0:    \n",
    "        nums.remove(i)"
   ]
  },
  {
   "cell_type": "code",
   "execution_count": 6,
   "metadata": {},
   "outputs": [
    {
     "data": {
      "text/plain": [
       "['l', 'v', 'l', 'c']"
      ]
     },
     "execution_count": 6,
     "metadata": {},
     "output_type": "execute_result"
    }
   ],
   "source": [
    "last_name = \"lovelace\"\n",
    "letters = list(last_name.lower())\n",
    "print(letters)\n",
    "\n",
    "# 去掉元音字母\n",
    "result = [ l  for l in letters if l not in 'aeiou' ]\n",
    "result"
   ]
  }
 ],
 "metadata": {
  "kernelspec": {
   "display_name": "Python 3",
   "language": "python",
   "name": "python3"
  },
  "language_info": {
   "codemirror_mode": {
    "name": "ipython",
    "version": 3
   },
   "file_extension": ".py",
   "mimetype": "text/x-python",
   "name": "python",
   "nbconvert_exporter": "python",
   "pygments_lexer": "ipython3",
   "version": "3.10.6"
  }
 },
 "nbformat": 4,
 "nbformat_minor": 2
}
