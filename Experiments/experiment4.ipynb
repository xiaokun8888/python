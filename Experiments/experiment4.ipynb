{
 "cells": [
  {
   "cell_type": "markdown",
   "metadata": {},
   "source": [
    "# 实验四 Python字典和while循环"
   ]
  },
  {
   "cell_type": "markdown",
   "metadata": {},
   "source": [
    "## 第一题：淘气还是乖孩子（Naughty or Nice）\n",
    "\n",
    "难度： 7kyu\n",
    "\n",
    "圣诞老人要来镇上了，他需要你帮助找出谁是淘气的或善良的。你将会得到一整年的JSON数据，按照这个格式：\n",
    "\n",
    "```python\n",
    "{\n",
    "    January: {\n",
    "        '1': 'Naughty','2': 'Naughty', ..., '31': 'Nice'\n",
    "    },\n",
    "    February: {\n",
    "        '1': 'Nice','2': 'Naughty', ..., '28': 'Nice'\n",
    "    },\n",
    "    ...\n",
    "    December: {\n",
    "        '1': 'Nice','2': 'Nice', ..., '31': 'Naughty'\n",
    "    }\n",
    "}\n",
    "```\n",
    "\n",
    "你的函数应该返回 \"Naughty!\"或 \"Nice!\"，这取决于在某一年发生的总次数（以较大者为准）。如果两者相等，则返回 \"Nice！\"。\n",
    "代码提交地址：\n",
    "<https://www.codewars.com/kata/5662b14e0a1fb8320a00005c>\n",
    "\n",
    "---\n",
    "\n"
   ]
  },
  {
   "cell_type": "code",
   "execution_count": 1,
   "metadata": {},
   "outputs": [
    {
     "name": "stdout",
     "output_type": "stream",
     "text": [
      "Nice:  5\n",
      "Naughty:  4\n"
     ]
    }
   ],
   "source": [
    "data = {\n",
    "    'January': {\n",
    "        '1': 'Naughty','2': 'Naughty',  '31': 'Nice'\n",
    "    },\n",
    "    'February': {\n",
    "        '1': 'Nice','2': 'Naughty', '28': 'Nice'\n",
    "    },\n",
    "    'December': {\n",
    "        '1': 'Nice','2': 'Nice', '31': 'Naughty'\n",
    "    }\n",
    "}\n",
    "\n",
    "days_of_nice = 0\n",
    "days_of_naughty = 0\n",
    "\n",
    "for month in data:\n",
    "    for day in data[month]:\n",
    "        if data[month][day] == 'Nice':\n",
    "            days_of_nice += 1\n",
    "        else:\n",
    "            days_of_naughty += 1\n",
    "print('Nice: ', days_of_nice)\n",
    "print('Naughty: ', days_of_naughty)       "
   ]
  },
  {
   "cell_type": "code",
   "execution_count": null,
   "metadata": {},
   "outputs": [],
   "source": [
    "def naughty_or_nice(data):"
   ]
  },
  {
   "cell_type": "markdown",
   "metadata": {},
   "source": [
    "## 第二题： 观察到的PIN（The observed PIN）\n",
    "\n",
    "难度：4kyu\n",
    "\n",
    "好了，侦探，我们的一个同事成功地观察到了我们的目标人物，抢劫犯罗比。我们跟踪他到了一个秘密仓库，我们认为在那里可以找到所有被盗的东西。这个仓库的门被一个电子密码锁所保护。不幸的是，我们的间谍不确定他看到的密码，当罗比进入它时。\n",
    "\n",
    "键盘的布局如下：\n",
    "\n",
    "```python\n",
    "┌───┬───┬───┐\n",
    "│ 1 │ 2 │ 3 │\n",
    "├───┼───┼───┤\n",
    "│ 4 │ 5 │ 6 │\n",
    "├───┼───┼───┤\n",
    "│ 7 │ 8 │ 9 │\n",
    "└───┼───┼───┘\n",
    "    │ 0 │\n",
    "    └───┘\n",
    "```\n",
    "\n",
    "他注意到密码1357，但他也说，他看到的每个数字都有可能是另一个相邻的数字（水平或垂直，但不是对角线）。例如，代替1的也可能是2或4。而不是5，也可能是2、4、6或8。\n",
    "\n",
    "他还提到，他知道这种锁。你可以无限制地输入错误的密码，但它们最终不会锁定系统或发出警报。这就是为什么我们可以尝试所有可能的（*）变化。\n",
    "\n",
    "*可能的意义是：观察到的PIN码本身和考虑到相邻数字的所有变化。\n",
    "\n",
    "你能帮助我们找到所有这些变化吗？如果有一个函数，能够返回一个列表，其中包含一个长度为1到8位的观察到的PIN的所有变化，那就更好了。我们可以把这个函数命名为getPINs（在python中为get_pins，在C#中为GetPINs）。\n",
    "\n",
    "但请注意，所有的PINs，包括观察到的PINs和结果，都必须是字符串，因为有可能会有领先的 \"0\"。我们已经为你准备了一些测试案例。\n",
    "侦探，我们就靠你了!\n",
    "代码提交地址：\n",
    "<https://www.codewars.com/kata/5263c6999e0f40dee200059d>"
   ]
  },
  {
   "cell_type": "code",
   "execution_count": 7,
   "metadata": {},
   "outputs": [
    {
     "data": {
      "text/plain": [
       "[['5', '7', '8', '9', '0'],\n",
       " ['1', '2', '4'],\n",
       " ['6', '8', '9'],\n",
       " ['1', '2', '3', '5']]"
      ]
     },
     "execution_count": 7,
     "metadata": {},
     "output_type": "execute_result"
    }
   ],
   "source": [
    "# 首先构建一个这样的字典，键是数字，值是这个数字和其相邻的数字\n",
    "key_dict = {\n",
    "        \"1\" : [\"1\", \"2\", \"4\"],\n",
    "        \"2\" : [\"1\", \"2\", \"3\", \"5\"],\n",
    "        \"3\" : [\"2\", \"3\", \"6\"],\n",
    "        \"4\" : [\"1\", \"4\", \"5\", \"7\"],\n",
    "        \"5\" : [\"2\", \"4\", \"5\", \"6\", \"8\"],\n",
    "        \"6\" : [\"3\", \"5\", \"6\", \"9\"],\n",
    "        \"7\" : [\"4\", \"7\", \"8\"],\n",
    "        \"8\" : [\"5\", \"7\", \"8\", \"9\", \"0\"],\n",
    "        \"9\" : [\"6\", \"8\", \"9\"],\n",
    "        \"0\" : [\"8\", \"0\"]\n",
    "}\n",
    "\n",
    "# 根据输入得到二维数组\n",
    "nested_list =[  key_dict[ch]  for ch in '8192' ]\n",
    "nested_list"
   ]
  },
  {
   "cell_type": "code",
   "execution_count": null,
   "metadata": {},
   "outputs": [],
   "source": [
    "# 预期的答案应该是：\n",
    "[ '5161', '5163', '5166', '5181', '5183', '5186', '5191', '5193', '5196', '5061', '5063', '5066', '5081', '5083', '5086', '5091', '5093', '5096' ]"
   ]
  },
  {
   "cell_type": "code",
   "execution_count": 1,
   "metadata": {},
   "outputs": [
    {
     "name": "stdout",
     "output_type": "stream",
     "text": [
      "[(1, 4), (1, 5), (2, 4), (2, 5), (3, 4), (3, 5)]\n"
     ]
    }
   ],
   "source": [
    "# 利用iterools的product函数，得到所有可能的组合\n",
    "from itertools import product\n",
    "\n",
    "print(list(product([1,2,3], [4,5])))"
   ]
  },
  {
   "cell_type": "code",
   "execution_count": 9,
   "metadata": {},
   "outputs": [
    {
     "name": "stdout",
     "output_type": "stream",
     "text": [
      "['5', '7', '8', '9', '0'] ['1', '2', '4'] ['6', '8', '9'] ['1', '2', '3', '5']\n",
      "[('5', '1', '6', '1'), ('5', '1', '6', '2'), ('5', '1', '6', '3'), ('5', '1', '6', '5'), ('5', '1', '8', '1'), ('5', '1', '8', '2'), ('5', '1', '8', '3'), ('5', '1', '8', '5'), ('5', '1', '9', '1'), ('5', '1', '9', '2'), ('5', '1', '9', '3'), ('5', '1', '9', '5'), ('5', '2', '6', '1'), ('5', '2', '6', '2'), ('5', '2', '6', '3'), ('5', '2', '6', '5'), ('5', '2', '8', '1'), ('5', '2', '8', '2'), ('5', '2', '8', '3'), ('5', '2', '8', '5'), ('5', '2', '9', '1'), ('5', '2', '9', '2'), ('5', '2', '9', '3'), ('5', '2', '9', '5'), ('5', '4', '6', '1'), ('5', '4', '6', '2'), ('5', '4', '6', '3'), ('5', '4', '6', '5'), ('5', '4', '8', '1'), ('5', '4', '8', '2'), ('5', '4', '8', '3'), ('5', '4', '8', '5'), ('5', '4', '9', '1'), ('5', '4', '9', '2'), ('5', '4', '9', '3'), ('5', '4', '9', '5'), ('7', '1', '6', '1'), ('7', '1', '6', '2'), ('7', '1', '6', '3'), ('7', '1', '6', '5'), ('7', '1', '8', '1'), ('7', '1', '8', '2'), ('7', '1', '8', '3'), ('7', '1', '8', '5'), ('7', '1', '9', '1'), ('7', '1', '9', '2'), ('7', '1', '9', '3'), ('7', '1', '9', '5'), ('7', '2', '6', '1'), ('7', '2', '6', '2'), ('7', '2', '6', '3'), ('7', '2', '6', '5'), ('7', '2', '8', '1'), ('7', '2', '8', '2'), ('7', '2', '8', '3'), ('7', '2', '8', '5'), ('7', '2', '9', '1'), ('7', '2', '9', '2'), ('7', '2', '9', '3'), ('7', '2', '9', '5'), ('7', '4', '6', '1'), ('7', '4', '6', '2'), ('7', '4', '6', '3'), ('7', '4', '6', '5'), ('7', '4', '8', '1'), ('7', '4', '8', '2'), ('7', '4', '8', '3'), ('7', '4', '8', '5'), ('7', '4', '9', '1'), ('7', '4', '9', '2'), ('7', '4', '9', '3'), ('7', '4', '9', '5'), ('8', '1', '6', '1'), ('8', '1', '6', '2'), ('8', '1', '6', '3'), ('8', '1', '6', '5'), ('8', '1', '8', '1'), ('8', '1', '8', '2'), ('8', '1', '8', '3'), ('8', '1', '8', '5'), ('8', '1', '9', '1'), ('8', '1', '9', '2'), ('8', '1', '9', '3'), ('8', '1', '9', '5'), ('8', '2', '6', '1'), ('8', '2', '6', '2'), ('8', '2', '6', '3'), ('8', '2', '6', '5'), ('8', '2', '8', '1'), ('8', '2', '8', '2'), ('8', '2', '8', '3'), ('8', '2', '8', '5'), ('8', '2', '9', '1'), ('8', '2', '9', '2'), ('8', '2', '9', '3'), ('8', '2', '9', '5'), ('8', '4', '6', '1'), ('8', '4', '6', '2'), ('8', '4', '6', '3'), ('8', '4', '6', '5'), ('8', '4', '8', '1'), ('8', '4', '8', '2'), ('8', '4', '8', '3'), ('8', '4', '8', '5'), ('8', '4', '9', '1'), ('8', '4', '9', '2'), ('8', '4', '9', '3'), ('8', '4', '9', '5'), ('9', '1', '6', '1'), ('9', '1', '6', '2'), ('9', '1', '6', '3'), ('9', '1', '6', '5'), ('9', '1', '8', '1'), ('9', '1', '8', '2'), ('9', '1', '8', '3'), ('9', '1', '8', '5'), ('9', '1', '9', '1'), ('9', '1', '9', '2'), ('9', '1', '9', '3'), ('9', '1', '9', '5'), ('9', '2', '6', '1'), ('9', '2', '6', '2'), ('9', '2', '6', '3'), ('9', '2', '6', '5'), ('9', '2', '8', '1'), ('9', '2', '8', '2'), ('9', '2', '8', '3'), ('9', '2', '8', '5'), ('9', '2', '9', '1'), ('9', '2', '9', '2'), ('9', '2', '9', '3'), ('9', '2', '9', '5'), ('9', '4', '6', '1'), ('9', '4', '6', '2'), ('9', '4', '6', '3'), ('9', '4', '6', '5'), ('9', '4', '8', '1'), ('9', '4', '8', '2'), ('9', '4', '8', '3'), ('9', '4', '8', '5'), ('9', '4', '9', '1'), ('9', '4', '9', '2'), ('9', '4', '9', '3'), ('9', '4', '9', '5'), ('0', '1', '6', '1'), ('0', '1', '6', '2'), ('0', '1', '6', '3'), ('0', '1', '6', '5'), ('0', '1', '8', '1'), ('0', '1', '8', '2'), ('0', '1', '8', '3'), ('0', '1', '8', '5'), ('0', '1', '9', '1'), ('0', '1', '9', '2'), ('0', '1', '9', '3'), ('0', '1', '9', '5'), ('0', '2', '6', '1'), ('0', '2', '6', '2'), ('0', '2', '6', '3'), ('0', '2', '6', '5'), ('0', '2', '8', '1'), ('0', '2', '8', '2'), ('0', '2', '8', '3'), ('0', '2', '8', '5'), ('0', '2', '9', '1'), ('0', '2', '9', '2'), ('0', '2', '9', '3'), ('0', '2', '9', '5'), ('0', '4', '6', '1'), ('0', '4', '6', '2'), ('0', '4', '6', '3'), ('0', '4', '6', '5'), ('0', '4', '8', '1'), ('0', '4', '8', '2'), ('0', '4', '8', '3'), ('0', '4', '8', '5'), ('0', '4', '9', '1'), ('0', '4', '9', '2'), ('0', '4', '9', '3'), ('0', '4', '9', '5')]\n",
      "['5161', '5162', '5163', '5165', '5181', '5182', '5183', '5185', '5191', '5192', '5193', '5195', '5261', '5262', '5263', '5265', '5281', '5282', '5283', '5285', '5291', '5292', '5293', '5295', '5461', '5462', '5463', '5465', '5481', '5482', '5483', '5485', '5491', '5492', '5493', '5495', '7161', '7162', '7163', '7165', '7181', '7182', '7183', '7185', '7191', '7192', '7193', '7195', '7261', '7262', '7263', '7265', '7281', '7282', '7283', '7285', '7291', '7292', '7293', '7295', '7461', '7462', '7463', '7465', '7481', '7482', '7483', '7485', '7491', '7492', '7493', '7495', '8161', '8162', '8163', '8165', '8181', '8182', '8183', '8185', '8191', '8192', '8193', '8195', '8261', '8262', '8263', '8265', '8281', '8282', '8283', '8285', '8291', '8292', '8293', '8295', '8461', '8462', '8463', '8465', '8481', '8482', '8483', '8485', '8491', '8492', '8493', '8495', '9161', '9162', '9163', '9165', '9181', '9182', '9183', '9185', '9191', '9192', '9193', '9195', '9261', '9262', '9263', '9265', '9281', '9282', '9283', '9285', '9291', '9292', '9293', '9295', '9461', '9462', '9463', '9465', '9481', '9482', '9483', '9485', '9491', '9492', '9493', '9495', '0161', '0162', '0163', '0165', '0181', '0182', '0183', '0185', '0191', '0192', '0193', '0195', '0261', '0262', '0263', '0265', '0281', '0282', '0283', '0285', '0291', '0292', '0293', '0295', '0461', '0462', '0463', '0465', '0481', '0482', '0483', '0485', '0491', '0492', '0493', '0495']\n"
     ]
    }
   ],
   "source": [
    "# 使用*操作符，将二维数组转化为一维数组\n",
    "print(*nested_list)\n",
    "\n",
    "print(list(product(*nested_list)))\n",
    "# 最后将所有组合的数字列表转化为字符串\n",
    "print([''.join(item) for item in product(*nested_list)])"
   ]
  },
  {
   "cell_type": "markdown",
   "metadata": {},
   "source": [
    "## 第三题： RNA到蛋白质序列的翻译（RNA to Protein Sequence Translation）\n",
    "\n",
    "难度：6kyu\n",
    "\n",
    "蛋白质是由DNA转录成RNA，然后转译成蛋白质的中心法则。RNA和DNA一样，是由糖骨架（在这种情况下是核糖）连接在一起的长链核酸。每个由三个碱基组成的片段被称为密码子。称为核糖体的分子机器将RNA密码子转译成氨基酸链，称为多肽链，然后将其折叠成蛋白质。\n",
    "\n",
    "蛋白质序列可以像DNA和RNA一样很容易地可视化，作为大字符串。重要的是要注意，“停止”密码子不编码特定的氨基酸。它们的唯一功能是停止蛋白质的转译，因此它们不会被纳入多肽链中。“停止”密码子不应出现在最终的蛋白质序列中。为了节省您许多不必要（和乏味）的键入，已为您的氨基酸字典提供了键和值。\n",
    "\n",
    "给定一个RNA字符串，创建一个将RNA转译为蛋白质序列的函数。注意：测试用例将始终生成有效的字符串。\n",
    "\n",
    "```python\n",
    "protein（'UGCGAUGAAUGGGCUCGCUCC'）\n",
    "```\n",
    "\n",
    "将返回`CDEWARS`\n",
    "\n",
    "作为测试用例的一部分是一个真实世界的例子！最后一个示例测试用例对应着一种叫做绿色荧光蛋白的蛋白质，一旦被剪切到另一个生物体的基因组中，像GFP这样的蛋白质可以让生物学家可视化细胞过程！\n",
    "\n",
    "Amino Acid Dictionary\n",
    "\n",
    "```python\n",
    "   # Your dictionary is provided as PROTEIN_DICT\n",
    "   PROTEIN_DICT = {\n",
    "    # Phenylalanine\n",
    "    'UUC': 'F', 'UUU': 'F',\n",
    "    # Leucine\n",
    "    'UUA': 'L', 'UUG': 'L', 'CUU': 'L', 'CUC': 'L', 'CUA': 'L', 'CUG': 'L',\n",
    "    # Isoleucine\n",
    "    'AUU': 'I', 'AUC': 'I', 'AUA': 'I',\n",
    "    # Methionine\n",
    "    'AUG': 'M',\n",
    "    # Valine\n",
    "    'GUU': 'V', 'GUC': 'V', 'GUA': 'V', 'GUG': 'V',\n",
    "    # Serine\n",
    "    'UCU': 'S', 'UCC': 'S', 'UCA': 'S', 'UCG': 'S', 'AGU': 'S', 'AGC': 'S',\n",
    "    # Proline\n",
    "    'CCU': 'P', 'CCC': 'P', 'CCA': 'P', 'CCG': 'P',\n",
    "    # Threonine\n",
    "    'ACU': 'T', 'ACC': 'T', 'ACA': 'T', 'ACG': 'T',\n",
    "    # Alanine\n",
    "    'GCU': 'A', 'GCC': 'A', 'GCA': 'A', 'GCG': 'A',\n",
    "    # Tyrosine\n",
    "    'UAU': 'Y', 'UAC': 'Y',\n",
    "    # Histidine\n",
    "    'CAU': 'H', 'CAC': 'H',\n",
    "    # Glutamine\n",
    "    'CAA': 'Q', 'CAG': 'Q',\n",
    "    # Asparagine\n",
    "    'AAU': 'N', 'AAC': 'N',\n",
    "    # Lysine\n",
    "    'AAA': 'K', 'AAG': 'K',\n",
    "    # Aspartic Acid\n",
    "    'GAU': 'D', 'GAC': 'D',\n",
    "    # Glutamic Acid\n",
    "    'GAA': 'E', 'GAG': 'E',\n",
    "    # Cystine\n",
    "    'UGU': 'C', 'UGC': 'C',\n",
    "    # Tryptophan\n",
    "    'UGG': 'W',\n",
    "    # Arginine\n",
    "    'CGU': 'R', 'CGC': 'R', 'CGA': 'R', 'CGG': 'R', 'AGA': 'R', 'AGG': 'R',\n",
    "    # Glycine\n",
    "    'GGU': 'G', 'GGC': 'G', 'GGA': 'G', 'GGG': 'G',\n",
    "    # Stop codon\n",
    "    'UAA': 'Stop', 'UGA': 'Stop', 'UAG': 'Stop'\n",
    "}\n",
    "```\n",
    "\n",
    "代码提交地址：\n",
    "<https://www.codewars.com/kata/555a03f259e2d1788c000077>"
   ]
  },
  {
   "cell_type": "code",
   "execution_count": 10,
   "metadata": {},
   "outputs": [],
   "source": [
    "PROTEIN_DICT = {\n",
    "    # Phenylalanine\n",
    "    'UUC': 'F', 'UUU': 'F',\n",
    "    # Leucine\n",
    "    'UUA': 'L', 'UUG': 'L', 'CUU': 'L', 'CUC': 'L', 'CUA': 'L', 'CUG': 'L',\n",
    "    # Isoleucine\n",
    "    'AUU': 'I', 'AUC': 'I', 'AUA': 'I',\n",
    "    # Methionine\n",
    "    'AUG': 'M',\n",
    "    # Valine\n",
    "    'GUU': 'V', 'GUC': 'V', 'GUA': 'V', 'GUG': 'V',\n",
    "    # Serine\n",
    "    'UCU': 'S', 'UCC': 'S', 'UCA': 'S', 'UCG': 'S', 'AGU': 'S', 'AGC': 'S',\n",
    "    # Proline\n",
    "    'CCU': 'P', 'CCC': 'P', 'CCA': 'P', 'CCG': 'P',\n",
    "    # Threonine\n",
    "    'ACU': 'T', 'ACC': 'T', 'ACA': 'T', 'ACG': 'T',\n",
    "    # Alanine\n",
    "    'GCU': 'A', 'GCC': 'A', 'GCA': 'A', 'GCG': 'A',\n",
    "    # Tyrosine\n",
    "    'UAU': 'Y', 'UAC': 'Y',\n",
    "    # Histidine\n",
    "    'CAU': 'H', 'CAC': 'H',\n",
    "    # Glutamine\n",
    "    'CAA': 'Q', 'CAG': 'Q',\n",
    "    # Asparagine\n",
    "    'AAU': 'N', 'AAC': 'N',\n",
    "    # Lysine\n",
    "    'AAA': 'K', 'AAG': 'K',\n",
    "    # Aspartic Acid\n",
    "    'GAU': 'D', 'GAC': 'D',\n",
    "    # Glutamic Acid\n",
    "    'GAA': 'E', 'GAG': 'E',\n",
    "    # Cystine\n",
    "    'UGU': 'C', 'UGC': 'C',\n",
    "    # Tryptophan\n",
    "    'UGG': 'W',\n",
    "    # Arginine\n",
    "    'CGU': 'R', 'CGC': 'R', 'CGA': 'R', 'CGG': 'R', 'AGA': 'R', 'AGG': 'R',\n",
    "    # Glycine\n",
    "    'GGU': 'G', 'GGC': 'G', 'GGA': 'G', 'GGG': 'G',\n",
    "    # Stop codon\n",
    "    'UAA': 'Stop', 'UGA': 'Stop', 'UAG': 'Stop'\n",
    "}"
   ]
  },
  {
   "cell_type": "code",
   "execution_count": 11,
   "metadata": {},
   "outputs": [],
   "source": [
    "def protein(rna):\n",
    "    # 从RNA链上三个字母一组成为一个密码子\n",
    "    codons = [rna[i:i+3] for i in range(0, len(rna), 3)]\n",
    "    chain = []\n",
    "    for codon in codons:\n",
    "        if PROTEIN_DICT[codon] != 'Stop':\n",
    "            chain.append(PROTEIN_DICT[codon])\n",
    "        else:\n",
    "            break\n",
    "    return ''.join(chain)\n",
    "\n",
    "# test.assert_equals(protein('AUGGUUAGUUGA'), 'MVS')"
   ]
  },
  {
   "cell_type": "code",
   "execution_count": 12,
   "metadata": {},
   "outputs": [
    {
     "name": "stdout",
     "output_type": "stream",
     "text": [
      "MVS\n"
     ]
    }
   ],
   "source": [
    "print(protein('AUGGUUAGUUGA'))"
   ]
  },
  {
   "cell_type": "markdown",
   "metadata": {},
   "source": [
    "## 第四题： 填写订单（Thinkful - Dictionary drills: Order filler）\n",
    "\n",
    "难度：8kyu\n",
    "\n",
    "您正在经营一家在线业务，您的一天中很大一部分时间都在处理订单。随着您的销量增加，这项工作占用了更多的时间，不幸的是最近您遇到了一个情况，您接受了一个订单，但无法履行。\n",
    "\n",
    "您决定写一个名为`fillable()`的函数，它接受三个参数：一个表示您库存的字典`stock`，一个表示客户想要购买的商品的字符串`merch`，以及一个表示他们想购买的商品数量的整数n。如果您有足够的商品库存来完成销售，则函数应返回`True`，否则应返回`False`。\n",
    "\n",
    "有效的数据将始终被传入，并且n将始终大于等于1。\n",
    "\n",
    "代码提交地址：\n",
    "<https://www.codewars.com/kata/586ee462d0982081bf001f07/python>"
   ]
  },
  {
   "cell_type": "code",
   "execution_count": null,
   "metadata": {},
   "outputs": [],
   "source": [
    "def fillable(stock, merch, n):    \n",
    "    # 商品所对应的键可能不在字典中，所以要用get方法\n",
    "    # 不能用这个方法  stock[merch] >= n\n",
    "    return stock.get(merch, 0) >= n"
   ]
  },
  {
   "cell_type": "markdown",
   "metadata": {},
   "source": [
    "## 第五题： 莫尔斯码解码器（Decode the Morse code, advanced）\n",
    "\n",
    "难度： 4kyu\n",
    "\n",
    "在这个作业中，你需要为有线电报编写一个莫尔斯码解码器。\n",
    "有线电报通过一个有按键的双线路运行，当按下按键时，会连接线路，可以在远程站点上检测到。莫尔斯码将每个字符的传输编码为\"点\"（按下按键的短按）和\"划\"（按下按键的长按）的序列。\n",
    "\n",
    "在传输莫尔斯码时，国际标准规定：\n",
    "（时间单位长在题目里面是不确定，可能是一个比特, '1' 代表'.', 也有可能是两个比特, '11'表示'.'）\n",
    "\n",
    "- \"点\" - 1个时间单位长。\n",
    "- \"划\" - 3个时间单位长。\n",
    "- 字符内点和划之间的暂停 - 1个时间单位长。\n",
    "- 单词内字符之间的暂停 - 3个时间单位长。\n",
    "- 单词间的暂停 - 7个时间单位长。\n",
    "\n",
    "但是，该标准没有规定\"时间单位\"有多长。实际上，不同的操作员会以不同的速度进行传输。一个业余人士可能需要几秒钟才能传输一个字符，一位熟练的专业人士可以每分钟传输60个单词，而机器人发射器可能会快得多。\n",
    "\n",
    "在这个作业中，我们假设消息的接收是由硬件自动执行的，硬件会定期检查线路，如果线路连接（远程站点的按键按下），则记录为1，如果线路未连接（远程按键弹起），则记录为0。消息完全接收后，它会以一个只包含0和1的字符串的形式传递给你进行解码。\n",
    "\n",
    "例如，消息`HEY JUDE`，即`···· · −·−−   ·−−− ··− −·· ·`可以如下接收：\n",
    "\n",
    "```python\n",
    "1100110011001100000011000000111111001100111111001111110000000000000011001111110011111100111111000000110011001111110000001111110011001100000011\n",
    "```\n",
    "\n",
    "如您所见，根据标准，这个传输完全准确，硬件每个\"点\"采样了两次。\n",
    "\n",
    "因此，你的任务是实现两个函数：\n",
    "\n",
    "函数decodeBits(bits)，应该找出消息的传输速率，正确解码消息为点（.）、划（-）和空格（字符之间有一个空格，单词之间有三个空格），并将它们作为一个字符串返回。请注意，在消息的开头和结尾可能会出现一些额外的0，确保忽略它们。另外，如果你无法分辨特定的1序列是点还是划，请假设它是一个点。\n",
    "\n",
    "函数decodeMorse(morseCode)，它将接收上一个函数的输出，并返回一个可读的字符串。\n",
    "\n",
    "注意：出于编码目的，你必须使用ASCII字符.和-，而不是Unicode字符。\n",
    "\n",
    "莫尔斯码表已经预加载给你了（请查看解决方案设置，以获取在你的语言中使用它的标识符）。\n",
    "\n",
    "```python\n",
    "morseCodes(\".--\")  #to access the morse translation of \".--\"\n",
    "```\n",
    "\n",
    "下面是Morse码支持的完整字符列表：\n",
    "\n",
    "```javascript\n",
    "A    ·–\n",
    "B    –···\n",
    "C    –·–·\n",
    "D    –··\n",
    "E    ·\n",
    "F    ··–·\n",
    "G    ––·\n",
    "H    ····\n",
    "I    ··\n",
    "J    ·–––\n",
    "K    –·–\n",
    "L    ·–··\n",
    "M    ––\n",
    "N    –·\n",
    "O    –––\n",
    "P    ·––·\n",
    "Q    ––·–\n",
    "R    ·–·\n",
    "S    ···\n",
    "T    –\n",
    "U    ··–\n",
    "V    ···–\n",
    "W    ·––\n",
    "X    –··–\n",
    "Y    –·––\n",
    "Z    ––··\n",
    "0    –––––\n",
    "1    ·––––\n",
    "2    ··–––\n",
    "3    ···––\n",
    "4    ····–\n",
    "5    ·····\n",
    "6    –····\n",
    "7    ––···\n",
    "8    –––··\n",
    "9    ––––·\n",
    ".    ·–·–·–\n",
    ",    ––··––\n",
    "?    ··––··\n",
    "'    ·––––·\n",
    "!    –·–·––\n",
    "/    –··–·\n",
    "(    –·––·\n",
    ")    –·––·–\n",
    "&    ·–···\n",
    ":    –––···\n",
    ";    –·–·–·\n",
    "=    –···–\n",
    "+    ·–·–·\n",
    "-    –····–\n",
    "_    ··––·–\n",
    "\"    ·–··–·\n",
    "$    ···–··–\n",
    "@    ·––·–·\n",
    "```\n",
    "\n",
    "代码提交地址：\n",
    "<https://www.codewars.com/kata/decode-the-morse-code-advanced>\n"
   ]
  },
  {
   "cell_type": "code",
   "execution_count": 10,
   "metadata": {},
   "outputs": [
    {
     "data": {
      "text/plain": [
       "{'.-': 'A',\n",
       " '-...': 'B',\n",
       " '-.-.': 'C',\n",
       " '-..': 'D',\n",
       " '.': 'E',\n",
       " '..-.': 'F',\n",
       " '--.': 'G',\n",
       " '....': 'H',\n",
       " '..': 'I',\n",
       " '.---': 'J',\n",
       " '-.-': 'K',\n",
       " '.-..': 'L',\n",
       " '--': 'M',\n",
       " '-.': 'N',\n",
       " '---': 'O',\n",
       " '.--.': 'P',\n",
       " '--.-': 'Q',\n",
       " '.-.': 'R',\n",
       " '...': 'S',\n",
       " '-': 'T',\n",
       " '..-': 'U',\n",
       " '...-': 'V',\n",
       " '.--': 'W',\n",
       " '-..-': 'X',\n",
       " '-.--': 'Y',\n",
       " '--..': 'Z',\n",
       " '-----': '0',\n",
       " '.----': '1',\n",
       " '..---': '2',\n",
       " '...--': '3',\n",
       " '....-': '4',\n",
       " '.....': '5',\n",
       " '-....': '6',\n",
       " '--...': '7',\n",
       " '---..': '8',\n",
       " '----.': '9',\n",
       " '.-.-.-': '.',\n",
       " '--..--': ',',\n",
       " '..--..': '?',\n",
       " '.----.': \"'\",\n",
       " '-.-.--': '!',\n",
       " '-..-.': '/',\n",
       " '-.--.': '(',\n",
       " '-.--.-': ')',\n",
       " '.-...': '&',\n",
       " '---...': ':',\n",
       " '-.-.-.': ';',\n",
       " '-...-': '=',\n",
       " '.-.-.': '+',\n",
       " '-....-': '-',\n",
       " '..--.-': '_',\n",
       " '.-..-.': '\"',\n",
       " '...-..-': '$',\n",
       " '.--.-.': '@',\n",
       " '...---...': 'SOS'}"
      ]
     },
     "execution_count": 10,
     "metadata": {},
     "output_type": "execute_result"
    }
   ],
   "source": [
    "MORSE_CODE = {'.-': 'A', '-...': 'B', '-.-.': 'C', '-..': 'D', '.': 'E', '..-.': 'F', '--.': 'G', '....': 'H', '..': 'I', '.---': 'J', '-.-': 'K', '.-..': 'L', '--': 'M', '-.': 'N', '---': 'O', '.--.': 'P', '--.-': 'Q', '.-.': 'R', '...': 'S', '-': 'T', '..-': 'U', '...-': 'V', '.--': 'W', '-..-': 'X', '-.--': 'Y', '--..': 'Z', '-----': '0', '.----': '1', '..---': '2', '...--': '3', '....-': '4', '.....': '5', '-....': '6', '--...': '7', '---..': '8', '----.': '9', '.-.-.-': '.', '--..--': ',', '..--..': '?', '.----.': \"'\", '-.-.--': '!', '-..-.': '/', '-.--.': '(', '-.--.-': ')', '.-...': '&', '---...': ':', '-.-.-.': ';', '-...-': '=', '.-.-.': '+', '-....-': '-', '..--.-': '_', '.-..-.': '\"', '...-..-': '$', '.--.-.': '@', '...---...': 'SOS'}\n",
    "MORSE_CODE"
   ]
  },
  {
   "cell_type": "code",
   "execution_count": 21,
   "metadata": {},
   "outputs": [
    {
     "name": "stdout",
     "output_type": "stream",
     "text": [
      "['11', '00', '11', '00', '11', '00', '11', '000000', '11', '000000', '111111', '00', '11', '00', '111111', '00', '111111', '00000000000000', '11', '00', '111111', '00', '111111', '00', '111111', '000000', '11', '00', '11', '00', '111111', '000000', '111111', '00', '11', '00', '11', '000000', '11']\n"
     ]
    }
   ],
   "source": [
    "bits_jude = '1100110011001100000011000000111111001100111111001111110000000000000011001111110011111100111111000000110011001111110000001111110011001100000011'\n",
    "split_bits = []\n",
    "morse_code = []\n",
    "\n",
    "last_bit = bits_jude[0]\n",
    "start_index = 0\n",
    "\n",
    "# 把字符串按照连续的0和1分割\n",
    "for i, bit in enumerate(bits_jude):\n",
    "    if bit != last_bit:\n",
    "        split_bits.append(bits_jude[start_index:i])\n",
    "        start_index = i        \n",
    "    last_bit = bit\n",
    "    \n",
    "split_bits.append(bits_jude[start_index:])\n",
    "        \n",
    "print(split_bits)\n",
    "\n",
    "# 字符串的最短长度就是单位长度\n",
    "time_unit = len(min([ x for x in split_bits if '1' in x], key=len))"
   ]
  },
  {
   "cell_type": "code",
   "execution_count": 22,
   "metadata": {},
   "outputs": [
    {
     "name": "stdout",
     "output_type": "stream",
     "text": [
      ".... . -.--   .--- ..- -.. .\n"
     ]
    }
   ],
   "source": [
    "# 将0和1转化为.和-还有空格\n",
    "for bits in split_bits:\n",
    "    if '1' in bits and len(bits) < time_unit * 3:\n",
    "        morse_code.append('.')\n",
    "    elif '1' in bits and len(bits) >= time_unit * 3:\n",
    "        morse_code.append('-')\n",
    "    elif '0' in bits and len(bits) < time_unit * 3:\n",
    "        morse_code.append('')\n",
    "    elif '0' in bits and len(bits) < time_unit * 7:\n",
    "        morse_code.append(' ')\n",
    "    elif '0' in bits and len(bits) >= time_unit * 7:\n",
    "        morse_code.append('   ')\n",
    "\n",
    "print(''.join(morse_code))\n",
    "# expect `···· · −·−−   ·−−− ··− −·· ·`"
   ]
  },
  {
   "cell_type": "code",
   "execution_count": 3,
   "metadata": {},
   "outputs": [
    {
     "ename": "NameError",
     "evalue": "name 'morse_code' is not defined",
     "output_type": "error",
     "traceback": [
      "\u001b[1;31m---------------------------------------------------------------------------\u001b[0m",
      "\u001b[1;31mNameError\u001b[0m                                 Traceback (most recent call last)",
      "\u001b[1;32mc:\\Users\\zhouj\\workspace\\python_course\\Experiments\\experiment4.ipynb Cell 20\u001b[0m line \u001b[0;36m2\n\u001b[0;32m      <a href='vscode-notebook-cell:/c%3A/Users/zhouj/workspace/python_course/Experiments/experiment4.ipynb#X25sZmlsZQ%3D%3D?line=0'>1</a>\u001b[0m \u001b[39m# 将. - 和空格按单词分割\u001b[39;00m\n\u001b[1;32m----> <a href='vscode-notebook-cell:/c%3A/Users/zhouj/workspace/python_course/Experiments/experiment4.ipynb#X25sZmlsZQ%3D%3D?line=1'>2</a>\u001b[0m words_codes \u001b[39m=\u001b[39m \u001b[39m'\u001b[39m\u001b[39m'\u001b[39m\u001b[39m.\u001b[39mjoin(morse_code)\u001b[39m.\u001b[39msplit(\u001b[39m'\u001b[39m\u001b[39m   \u001b[39m\u001b[39m'\u001b[39m)\n\u001b[0;32m      <a href='vscode-notebook-cell:/c%3A/Users/zhouj/workspace/python_course/Experiments/experiment4.ipynb#X25sZmlsZQ%3D%3D?line=2'>3</a>\u001b[0m \u001b[39mprint\u001b[39m(words_codes)\n\u001b[0;32m      <a href='vscode-notebook-cell:/c%3A/Users/zhouj/workspace/python_course/Experiments/experiment4.ipynb#X25sZmlsZQ%3D%3D?line=4'>5</a>\u001b[0m \u001b[39m# 按字母分割\u001b[39;00m\n",
      "\u001b[1;31mNameError\u001b[0m: name 'morse_code' is not defined"
     ]
    }
   ],
   "source": [
    "# 将. - 和空格按单词分割\n",
    "words_codes = ''.join(morse_code).split('   ')\n",
    "print(words_codes)\n",
    "\n",
    "# 按字母分割\n",
    "letters_codes = [ word.split(' ')  for word in words_codes]\n",
    "print(letters_codes)\n",
    "\n",
    "# 将字母转化为摩斯密码\n",
    "letters = [ [MORSE_CODE[code] for code in word] for word in letters_codes]\n",
    "print(letters)\n",
    "\n",
    "# 将摩斯密码转化为字符串\n",
    "text = ' '.join([ ''.join(letter) for letter in letters])\n",
    "print(text)"
   ]
  },
  {
   "cell_type": "code",
   "execution_count": 30,
   "metadata": {},
   "outputs": [],
   "source": [
    "def decode_bits(bits):\n",
    "    split_bits = []\n",
    "    morse_code = []\n",
    "\n",
    "    last_bit = bits[0]\n",
    "    start_index = 0\n",
    "\n",
    "    for i, bit in enumerate(bits):\n",
    "        if bit != last_bit:\n",
    "            split_bits.append(bits[start_index:i])\n",
    "            start_index = i        \n",
    "        last_bit = bit\n",
    "        \n",
    "    split_bits.append(bits[start_index:])\n",
    "    print('split_bits:', split_bits)\n",
    "    \n",
    "    if '0' in split_bits[0]:\n",
    "        del split_bits[0]\n",
    "        \n",
    "    if '0' in split_bits[-1]:\n",
    "        del split_bits[-1]\n",
    "    \n",
    "    time_unit = len(min(split_bits, key=len))\n",
    "    print('time_unit:', time_unit)\n",
    "\n",
    "    for item in split_bits:\n",
    "        if '1' in item and len(item) < time_unit * 3:\n",
    "            morse_code.append('.')\n",
    "        elif '1' in item and len(item) >= time_unit * 3:\n",
    "            morse_code.append('-')\n",
    "        elif '0' in item and len(item) < time_unit * 3:\n",
    "            morse_code.append('')\n",
    "        elif '0' in item and len(item) < time_unit * 7:\n",
    "            morse_code.append(' ')\n",
    "        elif '0' in item and len(item) >= time_unit * 7:\n",
    "            morse_code.append('   ')    \n",
    "    \n",
    "    print('morse_code:', morse_code)\n",
    "    return ''.join(morse_code)\n",
    "\n",
    "\n",
    "def decode_morse(morseCode):\n",
    "    words_codes = ''.join(morseCode).split('   ')\n",
    "    print('words_codes:', words_codes)\n",
    "    \n",
    "    letters_codes = [ word.split(' ')  for word in words_codes]\n",
    "    letters = [ [MORSE_CODE[code] for code in word if code] for word in letters_codes]\n",
    "    return ' '.join([ ''.join(letter) for letter in letters])"
   ]
  },
  {
   "cell_type": "markdown",
   "metadata": {},
   "source": [
    "Test cases:"
   ]
  },
  {
   "cell_type": "code",
   "execution_count": 18,
   "metadata": {},
   "outputs": [
    {
     "name": "stdout",
     "output_type": "stream",
     "text": [
      ".... . -.--   .--- ..- -.. .\n",
      "HEY JUDE\n"
     ]
    }
   ],
   "source": [
    "bits_jude = '1100110011001100000011000000111111001100111111001111110000000000000011001111110011111100111111000000110011001111110000001111110011001100000011'\n",
    "# print(decode_bits(bits_jude))\n",
    "print(decode_morse(decode_bits(bits_jude)))"
   ]
  },
  {
   "cell_type": "code",
   "execution_count": 33,
   "metadata": {},
   "outputs": [
    {
     "name": "stdout",
     "output_type": "stream",
     "text": [
      "split_bits: ['0', '111', '0']\n",
      "time_unit: 3\n",
      "morse_code: ['.']\n",
      "words_codes: ['.']\n",
      "E\n"
     ]
    }
   ],
   "source": [
    "bits2 = '01110'  # expected E \n",
    "# print(decode_bits(bits2))\n",
    "print(decode_morse(decode_bits(bits2)))"
   ]
  },
  {
   "cell_type": "code",
   "execution_count": 29,
   "metadata": {},
   "outputs": [
    {
     "name": "stdout",
     "output_type": "stream",
     "text": [
      "split_bits: ['111111', '000000', '111111', '000000', '111111', '000000', '111111', '000000000000000000', '111111', '000000000000000000', '111111111111111111', '000000', '111111', '000000', '111111111111111111', '000000', '111111111111111111', '000000000000000000000000000000000000000000', '111111', '000000', '111111111111111111', '000000', '111111111111111111', '000000', '111111111111111111', '000000000000000000', '111111', '000000', '111111', '000000', '111111111111111111', '000000000000000000', '111111111111111111', '000000', '111111', '000000', '111111', '000000000000000000', '111111']\n",
      "time_unit: 6\n",
      "morse_code: ['.', '', '.', '', '.', '', '.', ' ', '.', ' ', '-', '', '.', '', '-', '', '-', '   ', '.', '', '-', '', '-', '', '-', ' ', '.', '', '.', '', '-', ' ', '-', '', '.', '', '.', ' ', '.']\n",
      "words_codes: ['.... . -.--', '.--- ..- -.. .']\n",
      "HEY JUDE\n"
     ]
    }
   ],
   "source": [
    "bits3 = '111111000000111111000000111111000000111111000000000000000000111111000000000000000000111111111111111111000000111111000000111111111111111111000000111111111111111111000000000000000000000000000000000000000000111111000000111111111111111111000000111111111111111111000000111111111111111111000000000000000000111111000000111111000000111111111111111111000000000000000000111111111111111111000000111111000000111111000000000000000000111111'\n",
    "print(decode_morse(decode_bits(bits3)))"
   ]
  },
  {
   "cell_type": "code",
   "execution_count": null,
   "metadata": {},
   "outputs": [],
   "source": [
    "# Best solution:\n",
    "\n",
    "# add dictionary entry for space\n",
    "MORSE_CODE['_'] = ' '\n",
    "\n",
    "def decodeBits(bits):\n",
    "    # 去掉开始的0和结尾的0\n",
    "    bits = bits.strip('0')\n",
    "    \n",
    "    # if no zeros in bits\n",
    "    if '0' not in bits:\n",
    "        return '.'\n",
    "    \n",
    "    # check for multiple bits per dot\n",
    "    minOnes = min(len(s) for s in bits.split('0') if s)\n",
    "    minZeros = min(len(s) for s in bits.split('1') if s)\n",
    "    m = min(minOnes, minZeros)\n",
    "    \n",
    "    # decode bits to morse code\n",
    "    return bits.replace('111'*m, '-').replace('0000000'*m, ' _ ').replace('000'*m, ' ').replace('1'*m, '.').replace('0'*m, '')\n",
    "\n",
    "def decodeMorse(morseCode):\n",
    "    # decode morse code to letters\n",
    "    return ''.join(MORSE_CODE[c] for c in morseCode.split())"
   ]
  }
 ],
 "metadata": {
  "kernelspec": {
   "display_name": "Python 3",
   "language": "python",
   "name": "python3"
  },
  "language_info": {
   "codemirror_mode": {
    "name": "ipython",
    "version": 3
   },
   "file_extension": ".py",
   "mimetype": "text/x-python",
   "name": "python",
   "nbconvert_exporter": "python",
   "pygments_lexer": "ipython3",
   "version": "3.10.6"
  }
 },
 "nbformat": 4,
 "nbformat_minor": 2
}
