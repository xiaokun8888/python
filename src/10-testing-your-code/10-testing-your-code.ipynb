{
 "cells": [
  {
   "cell_type": "markdown",
   "metadata": {},
   "source": [
    "# 10-单元测试\n",
    "\n",
    "- 什么是单元测试\n",
    "- 安装和配置测试环境\n",
    "- 测试函数\n",
    "- 测试类\n",
    "- 测试模拟对象"
   ]
  },
  {
   "cell_type": "markdown",
   "metadata": {},
   "source": [
    "## 安装和配置测试环境\n",
    "\n",
    "- 安装`pytest`：`pip install pytest`\n",
    "- 在vscode中安装`Python Test Explorer for Visual Studio Code`插件\n",
    "- 在vscode中配置python的单元测试\n",
    "  - 在vscode左侧点击Testing\n",
    "  - 在测试面板点击按钮Configure Python Test\n",
    "  - 选择pytest测试框架，就能配置完成\n",
    "  - 配置好测试框架后，可以直接在TEST EXPLORER中查看和运行单元测试"
   ]
  },
  {
   "cell_type": "markdown",
   "metadata": {},
   "source": [
    "## 测试函数"
   ]
  },
  {
   "cell_type": "markdown",
   "metadata": {},
   "source": [
    "被测试的函数文件名： `name_function.py`"
   ]
  },
  {
   "cell_type": "code",
   "execution_count": null,
   "metadata": {},
   "outputs": [],
   "source": [
    "def get_formatted_name(first, last, middle=''):\n",
    "    \"\"\"Generate a neatly formatted full name.\"\"\"\n",
    "    if middle:\n",
    "        full_name = f\"{first} {middle} {last}\"\n",
    "    else:\n",
    "        full_name = f\"{first} {last}\"\n",
    "    return full_name.title()"
   ]
  },
  {
   "cell_type": "markdown",
   "metadata": {},
   "source": [
    "手动输入测试"
   ]
  },
  {
   "cell_type": "code",
   "execution_count": null,
   "metadata": {},
   "outputs": [],
   "source": [
    "from name_function import get_formatted_name\n",
    "\n",
    "\n",
    "print(\"Enter 'q' at any time to quit.\")\n",
    "while True:\n",
    "    first = input(\"\\nPlease give me a first name: \")\n",
    "    if first == 'q':\n",
    "        break\n",
    "    last = input(\"Please give me a last name: \")\n",
    "    if last == 'q':\n",
    "        break\n",
    "        \n",
    "    formatted_name = get_formatted_name(first, last)\n",
    "    print(f\"\\tNeatly formatted name: {formatted_name}.\")"
   ]
  },
  {
   "cell_type": "markdown",
   "metadata": {},
   "source": [
    "自动的单元测试相比手动测试：\n",
    "\n",
    "- 测试速度更快，效率更高\n",
    "- 单元测试是可以被复用的\n",
    "- 软件质量更有保障"
   ]
  },
  {
   "cell_type": "markdown",
   "metadata": {},
   "source": [
    "使用单元测试框架进行\n",
    "\n",
    "- 使用不同的参数作为函数的输入参数调用函数，每一组输入称作一个测试用例\n",
    "- 获取到每个测试用例输入时函数的返回结果\n",
    "- 使用`assert`断言语句判断，函数的返回结果是否和测试用例的预期结果一致"
   ]
  },
  {
   "cell_type": "markdown",
   "metadata": {},
   "source": [
    "创建函数的单元测试\n",
    "\n",
    "- 创建文件`test_name_function.py`\n",
    "- 导入被测试的模块的函数\n",
    "- 创建测试方法以`test_`开头\n",
    "- 运行测试：\n",
    "  - 在终端运行pytest命令(需要切换到测试代码所在的目录)\n",
    "  - 在测试面板运行测试"
   ]
  },
  {
   "cell_type": "code",
   "execution_count": null,
   "metadata": {},
   "outputs": [],
   "source": [
    "from name_function import get_formatted_name\n",
    "\n",
    "\n",
    "def test_first_last_name():\n",
    "    \"\"\"Do names like 'Janis Joplin' work?\"\"\"\n",
    "    formatted_name = get_formatted_name('janis', 'joplin')\n",
    "    assert formatted_name == 'Janis Joplin'\n",
    "\n",
    "def test_first_last_middle_name():\n",
    "    \"\"\"Do names like 'Wolfgang Amadeus Mozart' work?\"\"\"\n",
    "    formatted_name = get_formatted_name(\n",
    "        'wolfgang', 'mozart', 'amadeus')\n",
    "    assert formatted_name == 'Wolfgang Amadeus Mozart'"
   ]
  },
  {
   "cell_type": "markdown",
   "metadata": {},
   "source": [
    "## 测试类"
   ]
  },
  {
   "cell_type": "markdown",
   "metadata": {},
   "source": [
    "文件名： `survey.py`"
   ]
  },
  {
   "cell_type": "code",
   "execution_count": null,
   "metadata": {},
   "outputs": [],
   "source": [
    "class AnonymousSurvey:\n",
    "    \"\"\"Collect anonymous answers to a survey question.\"\"\"\n",
    "\n",
    "    def __init__(self, question):\n",
    "        \"\"\"Store a question, and prepare to store responses.\"\"\"\n",
    "        self.question = question\n",
    "        self.responses = []\n",
    "\n",
    "    def show_question(self):\n",
    "        \"\"\"Show the survey question.\"\"\"\n",
    "        print(self.question)\n",
    "\n",
    "    def store_response(self, new_response):\n",
    "        \"\"\"Store a single response to the survey.\"\"\"\n",
    "        self.responses.append(new_response)\n",
    "        \n",
    "    def show_results(self):\n",
    "        \"\"\"Show all the responses that have been given.\"\"\"\n",
    "        print(\"Survey results:\")\n",
    "        for response in self.responses:\n",
    "            print(f\"- {response}\")"
   ]
  },
  {
   "cell_type": "markdown",
   "metadata": {},
   "source": [
    "常用的一些断言语句\n",
    "\n",
    "| Assertion   |  Claim   |\n",
    "| ----------- | ----------- |\n",
    "| assert a == b | 断言两个值相等 |\n",
    "| assert a != b | 断言两个值不相等 |\n",
    "| assert a      | 断言a为True    |\n",
    "| assert not a      | 断言a为False   |\n",
    "| assert element in list | 断言一个元素在列表中 |\n",
    "| assert element not list | 断言一个元素不在列表中 |\n"
   ]
  },
  {
   "cell_type": "markdown",
   "metadata": {},
   "source": [
    "对类进行单元测试：\n",
    "\n",
    "- 导入pytest和要测试的类\n",
    "- 使用`@pytest.fixture`创建可重复使用的测试装置\n",
    "- 创建测试方法\n",
    "- 运行测试"
   ]
  },
  {
   "cell_type": "code",
   "execution_count": null,
   "metadata": {},
   "outputs": [],
   "source": [
    "import pytest\n",
    "from survey import AnonymousSurvey\n",
    "\n",
    "\n",
    "@pytest.fixture\n",
    "def language_survey():\n",
    "    \"\"\"A survey that will be available to all test functions.\"\"\"\n",
    "    question = \"What language did you first learn to speak?\"\n",
    "    language_survey = AnonymousSurvey(question)\n",
    "    return language_survey\n",
    "\n",
    "def test_store_single_response(language_survey):\n",
    "    \"\"\"Test that a single response is stored properly.\"\"\"\n",
    "    language_survey.store_response('English')\n",
    "    assert 'English' in language_survey.responses\n",
    "\n",
    "def test_store_three_responses(language_survey):\n",
    "    \"\"\"Test that three individual responses are stored properly.\"\"\"\n",
    "    responses = ['English', 'Spanish', 'Mandarin']\n",
    "    for response in responses:\n",
    "        language_survey.store_response(response)\n",
    "\n",
    "    for response in responses:\n",
    "        assert response in language_survey.responses"
   ]
  },
  {
   "cell_type": "markdown",
   "metadata": {},
   "source": [
    "## 利用模拟（mock）对象测试"
   ]
  },
  {
   "cell_type": "markdown",
   "metadata": {},
   "source": [
    "模拟对象（mock object）用于在测试环境中替换和模拟真实对象。\n",
    "\n",
    "模拟的对象：\n",
    "- 日期数据\n",
    "- 访问某个外部服务\n",
    "- 文件数据\n",
    "- 系统的API\n",
    "- 用户的输入和事件\n",
    "- ......\n"
   ]
  },
  {
   "cell_type": "markdown",
   "metadata": {},
   "source": [
    "为什么要使用模拟对象？\n",
    "\n",
    "测试的成功以否应该不依赖外部条件，模拟对象可以使得测试不再依赖这些外部条件。\n",
    "\n",
    "例如：你的代码需要使用Http请求访问外部服务，你的测试代码需要执行这个请求去访问外部服务是否符合你的预期需求。 但是，有时外部服务可能会间断地失败。\n",
    "\n",
    "这时可以使用模拟对象替换真正的Http请求，让你模拟访问外部服务来测试你的代码是否符合预期。"
   ]
  },
  {
   "cell_type": "markdown",
   "metadata": {},
   "source": [
    "利用`pytest-mock`模块来创建模拟对象\n",
    "\n",
    "- 安装`pytest-mock`模块：`pip install pytest-mock`\n",
    "- 查看文档[pytest-mock doc](https://pytest-mock.readthedocs.io/en/latest)"
   ]
  },
  {
   "cell_type": "code",
   "execution_count": 1,
   "metadata": {},
   "outputs": [],
   "source": [
    "import os\n",
    "\n",
    "class UnixFS:\n",
    "\n",
    "    @staticmethod\n",
    "    def rm(filename):\n",
    "        os.remove(filename)"
   ]
  },
  {
   "cell_type": "code",
   "execution_count": 2,
   "metadata": {},
   "outputs": [],
   "source": [
    "def test_unix_fs(mocker):\n",
    "    mocker.patch('os.remove')\n",
    "    UnixFS.rm('file')\n",
    "    os.remove.assert_called_once_with('file')"
   ]
  }
 ],
 "metadata": {
  "kernelspec": {
   "display_name": "Python 3 (ipykernel)",
   "language": "python",
   "name": "python3"
  },
  "language_info": {
   "codemirror_mode": {
    "name": "ipython",
    "version": 3
   },
   "file_extension": ".py",
   "mimetype": "text/x-python",
   "name": "python",
   "nbconvert_exporter": "python",
   "pygments_lexer": "ipython3",
   "version": "3.10.6"
  }
 },
 "nbformat": 4,
 "nbformat_minor": 2
}
