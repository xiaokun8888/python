{
 "cells": [
  {
   "cell_type": "markdown",
   "metadata": {},
   "source": [
    "# 09-文件与异常"
   ]
  },
  {
   "cell_type": "markdown",
   "metadata": {},
   "source": [
    "- 9.1 从文件中读取数据\n",
    "- 9.2 写入文件\n",
    "- 9.3 异常\n",
    "- 9.4 存储数据（json格式）"
   ]
  },
  {
   "cell_type": "markdown",
   "metadata": {},
   "source": [
    "## 9.1 从文件中读取数据"
   ]
  },
  {
   "cell_type": "code",
   "execution_count": 1,
   "metadata": {},
   "outputs": [
    {
     "name": "stdout",
     "output_type": "stream",
     "text": [
      "3.141592635\n",
      "  897932384\n",
      "  626433832\n"
     ]
    }
   ],
   "source": [
    "with open('pi_digit.txt') as file_object:\n",
    "    contents = file_object.read()\n",
    "    print(contents)"
   ]
  },
  {
   "cell_type": "markdown",
   "metadata": {},
   "source": [
    "1. with语句块：自动执行文件对象的初始化和关闭操作\n",
    "2. open()函数：参数为文件名，返回文件对象\n",
    "3. 文件对象的read()方法：读取整个文件的内容，返回字符串"
   ]
  },
  {
   "cell_type": "markdown",
   "metadata": {},
   "source": [
    "教材第三版的代码：\n",
    "\n",
    "- 导入pathlib模块的Path类\n",
    "- 利用Path类来读取数据\n",
    "- pathlib模块的文档: [pep428](https://pathlib.readthedocs.io/en/pep428)"
   ]
  },
  {
   "cell_type": "code",
   "execution_count": null,
   "metadata": {},
   "outputs": [],
   "source": [
    "from pathlib import Path\n",
    "\n",
    "path = Path('pi_digits.txt')\n",
    "contents = path.read_text()\n",
    "\n",
    "lines = contents.splitlines()\n",
    "for line in lines:\n",
    "    print(line)"
   ]
  },
  {
   "cell_type": "markdown",
   "metadata": {},
   "source": [
    "- 相对路径（推荐）：相对于当前运行的程序所在的目录的路径\n",
    "- 绝对路径：文件系统中文件的完整路径"
   ]
  },
  {
   "cell_type": "code",
   "execution_count": 3,
   "metadata": {},
   "outputs": [
    {
     "name": "stdout",
     "output_type": "stream",
     "text": [
      "d:\\workspaces\\python_course\\src\\09-files-and-exceptions\n"
     ]
    },
    {
     "data": {
      "text/plain": [
       "['09-files-and-exceptions.ipynb',\n",
       " 'alice.txt',\n",
       " 'file_path.py',\n",
       " 'fruits.json',\n",
       " 'moby_dick.txt',\n",
       " 'new_fruits.json',\n",
       " 'pi_digit.txt',\n",
       " 'program.txt',\n",
       " 'users.json']"
      ]
     },
     "execution_count": 3,
     "metadata": {},
     "output_type": "execute_result"
    }
   ],
   "source": [
    "# 如何获取当前路径下的所有文件名\n",
    "import os\n",
    "\n",
    "# 获取到当前路径\n",
    "current_dir = os.getcwd()\n",
    "print(current_dir)\n",
    "\n",
    "# 列举并打印当前路径下的所有文件名\n",
    "files = os.listdir(current_dir)\n",
    "files"
   ]
  },
  {
   "cell_type": "markdown",
   "metadata": {},
   "source": [
    "使用`..`打开上一级目录中的文件"
   ]
  },
  {
   "cell_type": "code",
   "execution_count": null,
   "metadata": {},
   "outputs": [],
   "source": [
    "with open('../08-classes/car.py') as file:\n",
    "    contents = file.read()\n",
    "    print(contents)"
   ]
  },
  {
   "cell_type": "markdown",
   "metadata": {},
   "source": [
    "文件对象的操作：\n",
    "\n",
    "- 在操作文件对象时，使用的是一个文件流对象，读文件和写文件都会改变文件指针的位置。\n",
    "- tell方法：返回当前文件对象的指针位置\n",
    "- seek方法：改变文件指针的位置"
   ]
  },
  {
   "cell_type": "code",
   "execution_count": null,
   "metadata": {},
   "outputs": [],
   "source": []
  },
  {
   "cell_type": "markdown",
   "metadata": {},
   "source": [
    "逐行读取文件：\n",
    "\n",
    "- 使用循环遍历文件对象，每次读取一行\n",
    "- 使用readlines方法，将文件对象的每一行存储在一个列表中"
   ]
  },
  {
   "cell_type": "code",
   "execution_count": null,
   "metadata": {},
   "outputs": [],
   "source": []
  },
  {
   "cell_type": "markdown",
   "metadata": {},
   "source": [
    "圆周率\n",
    "\n",
    "- 圆周率是圆的周长与直径的比例，有无限位数而且永远不会重复。\n",
    "- 已知的pi的位数：62.8 trillion figures\n",
    "- [关于pi的一个解读？](https://www.bilibili.com/video/BV1E4411k7tF/)\n",
    "- [十亿位数的pi](https://stuff.mit.edu/afs/sipb/contrib/pi/pi-billion.txt)"
   ]
  },
  {
   "cell_type": "code",
   "execution_count": null,
   "metadata": {},
   "outputs": [],
   "source": []
  },
  {
   "cell_type": "markdown",
   "metadata": {},
   "source": [
    "所有可能的信息（包括生日、电话号码、名字、所有可能发生的事情）都会出现在圆周率pi中吗？\n",
    "\n",
    "- A. 有可能\n",
    "- B. 不太可能\n",
    "- C. 完全不可能\n",
    "- D. 不知道"
   ]
  },
  {
   "cell_type": "code",
   "execution_count": 2,
   "metadata": {},
   "outputs": [
    {
     "name": "stdout",
     "output_type": "stream",
     "text": [
      "2037539149\n",
      "151427202727141\n"
     ]
    }
   ],
   "source": [
    "import sys\n",
    "\n",
    "name1 = b'Mary'\n",
    "decimal_name1 = int.from_bytes(name1, sys.byteorder)\n",
    "print(decimal_name1)\n",
    "\n",
    "name2 = bytes('张三'.encode('utf-8'))\n",
    "decimal_name2 = int.from_bytes(name2, sys.byteorder)\n",
    "print(decimal_name2)"
   ]
  },
  {
   "cell_type": "markdown",
   "metadata": {},
   "source": [
    "写入文件\n",
    "\n",
    "- 使用文件对象的write方法，参数是要写入文件的字符\n",
    "- 写入模式，方法会返回一个整数（表示写入的字节数）"
   ]
  },
  {
   "cell_type": "code",
   "execution_count": null,
   "metadata": {},
   "outputs": [],
   "source": []
  },
  {
   "cell_type": "markdown",
   "metadata": {},
   "source": [
    "- 使用换行符’\\n’写入多行文件。\n",
    "- 使用附加模式（打开模式参数：’a’）打开文件，可以在文件末尾写入新的内容，不会清空原有文件的内容。"
   ]
  },
  {
   "cell_type": "code",
   "execution_count": null,
   "metadata": {},
   "outputs": [],
   "source": []
  },
  {
   "cell_type": "markdown",
   "metadata": {},
   "source": [
    "open函数的第二个参数可以指定文件的打开模式\n",
    "\n",
    "- ‘w’  写入模式，会覆盖原有的数据\n",
    "- ‘r’   读取模式，默认的模式\n",
    "- ‘a’   附加模式，会在文件末尾附加新的内容\n",
    "- ‘r+’  读写模式\n",
    "- ‘rb’ or ‘wb’    字节数据的读取/写入模式"
   ]
  },
  {
   "cell_type": "code",
   "execution_count": null,
   "metadata": {},
   "outputs": [],
   "source": []
  },
  {
   "cell_type": "markdown",
   "metadata": {},
   "source": [
    "- 字符数据： ASCII字符、UTF字符、GBK字符等等字符编码的数据，字符数据是可以用记事本打开可读的。\n",
    "- 字节数据：字节数据用0和1表示，非字符编码的字节数据用记事本打开不可读。"
   ]
  },
  {
   "cell_type": "code",
   "execution_count": null,
   "metadata": {},
   "outputs": [],
   "source": []
  },
  {
   "cell_type": "markdown",
   "metadata": {},
   "source": [
    "哪些格式的文件是字符数据，哪些是字节（非字符）数据？\n",
    "\n",
    "- 字符格式的文件：txt,  源代码，JSON，HTML，xml, csv， markdown， latex\n",
    "- 字节格式的文件：jpg， 目标代码文件，PDF, OFFICE文件（word，ppt，excel）， 数据库\n"
   ]
  },
  {
   "cell_type": "markdown",
   "metadata": {},
   "source": []
  },
  {
   "cell_type": "markdown",
   "metadata": {},
   "source": [
    "### 为什么中文会出现乱码，而英文不会出现乱码？"
   ]
  },
  {
   "cell_type": "markdown",
   "metadata": {},
   "source": [
    "如何避免出现乱码\n",
    "\n",
    "- 解码和编码使用相同的编码格式。\n",
    "- 例如：utf-8编码的字符文件必须使用utf-8格式解码打开。\n",
    "- Python在打开文件时，可以使用encoding参数指定字符编码。"
   ]
  },
  {
   "cell_type": "code",
   "execution_count": null,
   "metadata": {},
   "outputs": [],
   "source": []
  },
  {
   "cell_type": "markdown",
   "metadata": {},
   "source": [
    "扩展阅读:\n",
    "\n",
    "- [The Absolute Minimum Every Software Developer Absolutely, Positively Must Know About Unicode in 2023](https://tonsky.me/blog/unicode/)"
   ]
  },
  {
   "cell_type": "markdown",
   "metadata": {},
   "source": [
    "如何在Markdown中使用emoji😀👋👩‍🌾\n",
    "\n",
    "- 安装VSCODE插件: [Markdown Emoji](https://marketplace.visualstudio.com/items?itemName=bierner.markdown-emoji)\n",
    "- 查看[emoji cheat sheet](https://github.com/ikatyang/emoji-cheat-sheet)"
   ]
  },
  {
   "cell_type": "markdown",
   "metadata": {},
   "source": [
    "使用Python代码处理emoji"
   ]
  },
  {
   "cell_type": "code",
   "execution_count": null,
   "metadata": {},
   "outputs": [],
   "source": [
    "# 安装emoji模块\n",
    "%pip install emoji"
   ]
  },
  {
   "cell_type": "code",
   "execution_count": null,
   "metadata": {},
   "outputs": [],
   "source": [
    "import emoji\n",
    "\n",
    "emoji_icon = \"😄\"  # Emoji icon\n",
    "emoji_code = emoji.demojize(emoji_icon)  # Convert emoji icon to code\n",
    "\n",
    "print(emoji_code)  # Output: :smile:\n",
    "print(emoji.emojize(emoji_code))  # Convert emoji code to icon"
   ]
  },
  {
   "cell_type": "markdown",
   "metadata": {},
   "source": [
    "## 异常"
   ]
  },
  {
   "cell_type": "markdown",
   "metadata": {},
   "source": [
    "- 因为Python是解释型语言，所以Python不会区分编译时错误和运行时错误。\n",
    "- 异常（Exception）（或者错误 Error）必须被捕获，然后由程序处理，不然程序会崩溃退出。"
   ]
  },
  {
   "cell_type": "markdown",
   "metadata": {},
   "source": [
    "那种处理异常的方式更好？\n",
    "\n",
    "- 异常被捕获，程序报错或者退出。\n",
    "- 异常不被捕获，静默错误信息。"
   ]
  },
  {
   "cell_type": "markdown",
   "metadata": {},
   "source": [
    "### ZeroDivisionError"
   ]
  },
  {
   "cell_type": "code",
   "execution_count": null,
   "metadata": {},
   "outputs": [],
   "source": []
  },
  {
   "cell_type": "markdown",
   "metadata": {},
   "source": [
    "### try-except语句"
   ]
  },
  {
   "cell_type": "code",
   "execution_count": null,
   "metadata": {},
   "outputs": [],
   "source": []
  },
  {
   "cell_type": "markdown",
   "metadata": {},
   "source": [
    "### 两种不同的编码风格"
   ]
  },
  {
   "cell_type": "markdown",
   "metadata": {},
   "source": [
    "EAFP：Easier to ask for forgiveness than permission。意思是容易请求原谅而不是事前征求许可。\n",
    "\n",
    "- 这种编码风格强调编写假定操作有效并在出现异常时进行处理的代码。\n",
    "- 它基于一种哲学，即处理异常（即请求原谅）比事先检查条件（即征求许可）更容易。\n",
    "- 采用 EAFP 风格的代码通常使用 try-except 块来捕获异常并优雅地处理它们，避免不必要的检查并减少代码复杂性。\n",
    "- 在 Python 中，这种风格非常常见，其中 try-except 机制是高效的，并且异常被认为是控制流程的正常部分。\n",
    "- 它可以导致更短、更简明的代码，因为它避免了过多的检查，使得代码更易读和可维护。"
   ]
  },
  {
   "cell_type": "markdown",
   "metadata": {},
   "source": [
    "LBYL (Look Before You Leap):\n",
    "\n",
    "- 这种编码风格专注于在执行操作或动作之前检查前提条件和条件。\n",
    "- 它强调在执行特定操作之前验证输入、条件或属性，以防止异常或不希望的行为。\n",
    "- 采用 LBYL 风格的代码通常使用 if 语句、条件检查和断言来验证条件，然后再继续程序流程。\n",
    "- 它可以提供对代码行为的明确控制，并在问题或异常发生之前潜在地防止问题。\n",
    "- 在某些情况下，LBYL 编码风格可能会导致代码变得更长、更冗长，因为需要进行多个条件检查和验证。\n",
    "- 在多线程环境下，LBYL方法容易形成竞争条件。因此需要加锁。"
   ]
  },
  {
   "cell_type": "markdown",
   "metadata": {},
   "source": [
    "### IO异常\n",
    "\n",
    "IO操作是容易产生的异常的场景，一定要记得处理各种可能出现的IO异常：\n",
    "\n",
    "- FileNotFoundError   打开文件时，文件可能不存在\n",
    "- 其他可能出现的IO异常：\n",
    "  - 网络连接失败\n",
    "  - 服务器连接超时\n",
    "  - 打印机无法连接"
   ]
  },
  {
   "cell_type": "code",
   "execution_count": null,
   "metadata": {},
   "outputs": [],
   "source": []
  },
  {
   "cell_type": "markdown",
   "metadata": {},
   "source": [
    "## 分析文本"
   ]
  },
  {
   "cell_type": "markdown",
   "metadata": {},
   "source": [
    "- 打开《Alice in Wonderland》的文本文件，计算包含多少个单词。\n",
    "- 读取文件内容保存到字符串。\n",
    "- 使用字符串的split()方法分割字符串，得到单词列表。\n",
    "- 使用len函数计算列表的长度。"
   ]
  },
  {
   "cell_type": "code",
   "execution_count": null,
   "metadata": {},
   "outputs": [],
   "source": []
  },
  {
   "cell_type": "markdown",
   "metadata": {},
   "source": [
    "- 打开多个文本文件进行分析。\n",
    "- 静默失败： \n",
    "  - 在except代码块使用pass语句\n",
    "  - pass语句什么都不做，可以起到一个占位的作用"
   ]
  },
  {
   "cell_type": "code",
   "execution_count": null,
   "metadata": {},
   "outputs": [],
   "source": []
  },
  {
   "cell_type": "markdown",
   "metadata": {},
   "source": [
    "文件对象的操作方法：\n",
    "\n",
    "- close()：关闭文件\n",
    "- read(size)：从文件中读取指定大小的数据\n",
    "- readline()：从文件中读取一行数据\n",
    "- readlines()：读取所有行并返回一个列表\n",
    "- write()：写入数据到文件\n",
    "- writelines()：写入多行数据到文件\n",
    "- seek(offset[, whence])：移动文件指针到指定位置\n",
    "- tell()：返回文件指针当前位置\n",
    "- next()：迭代器，返回下一行"
   ]
  },
  {
   "cell_type": "markdown",
   "metadata": {},
   "source": [
    "## json数据"
   ]
  },
  {
   "cell_type": "markdown",
   "metadata": {},
   "source": [
    "- 列表： `[ \"Apple\", \"Banana\", \"Orange\" ]`\n",
    "- 字典(对象)：`{\"name\": \"Jack\", \"age\": 30, \"favoriteSport\" : \"Football\"}`\n",
    "- 嵌套的数据：\n",
    "\n",
    "```json\n",
    "{ \n",
    "    \"name\":\"Jack\", \n",
    "    \"age\":30, \n",
    "    \"contactNumbers\":[ \n",
    "        { \"type\":\"Home\", \"number\":\"123 123-123\" }, \n",
    "        { \"type\":\"Office\", \"number\":\"321 321-321\" } ], \n",
    "    \"spouse\": null, \n",
    "    \"favoriteSports\":[ \"Football\", \"Cricket\" ] \n",
    "}\n",
    "```\n",
    "\n"
   ]
  },
  {
   "cell_type": "code",
   "execution_count": null,
   "metadata": {},
   "outputs": [],
   "source": []
  },
  {
   "cell_type": "markdown",
   "metadata": {},
   "source": [
    "- with 代码块\n",
    "- open打开文件\n",
    "- json.dump() ：   存储json数据到文件\n",
    "- json.load()：  从文件读取json数据"
   ]
  },
  {
   "cell_type": "code",
   "execution_count": null,
   "metadata": {},
   "outputs": [],
   "source": []
  },
  {
   "cell_type": "markdown",
   "metadata": {},
   "source": [
    "## 重构(Refactor)\n",
    "\n",
    "重构是指在不改变软件的外部行为的前提下，对软件内部的代码进行优化、改进和重组的过程。它是一种对现有代码进行调整、重组、精简的软件开发过程，旨在通过改进设计和代码质量来提高软件的可维护性、可读性和可重用性。\n",
    "\n",
    "重构的目标可能包括但不限于：\n",
    "- 增强代码的可读性和可理解性。\n",
    "- 提高代码的可重用性和扩展性。\n",
    "- 减少代码的复杂度，提高代码的维护性。\n",
    "- 提高代码的性能、效率和可靠性。\n",
    "- 增加代码的可测试性，从而更容易进行单元测试和功能测试。\n",
    "\n",
    "重要的是要记住，重构不仅仅是修改代码，而是一种有计划、有目的性的活动。通过应用重构技术，开发人员能够改进和优化现有代码，使其更具可读性、可维护性和可扩展性，从而使软件系统更加健壮和可靠。\n"
   ]
  },
  {
   "cell_type": "markdown",
   "metadata": {},
   "source": [
    "在线阅读： [重构 改善既有代码的设计第二版]（https://book-refactoring2.ifmicro.com）\n",
    "\n",
    "![重构 改善既有代码的设计第二版](./img/2023-10-18-08-25-19.png)"
   ]
  }
 ],
 "metadata": {
  "kernelspec": {
   "display_name": "Python 3",
   "language": "python",
   "name": "python3"
  },
  "language_info": {
   "codemirror_mode": {
    "name": "ipython",
    "version": 3
   },
   "file_extension": ".py",
   "mimetype": "text/x-python",
   "name": "python",
   "nbconvert_exporter": "python",
   "pygments_lexer": "ipython3",
   "version": "3.10.6"
  },
  "orig_nbformat": 4
 },
 "nbformat": 4,
 "nbformat_minor": 2
}
