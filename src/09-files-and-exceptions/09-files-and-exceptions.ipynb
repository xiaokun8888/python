{
 "cells": [
  {
   "cell_type": "markdown",
   "metadata": {},
   "source": [
    "# 09-文件与异常"
   ]
  },
  {
   "cell_type": "markdown",
   "metadata": {},
   "source": [
    "- 9.1 从文件中读取数据\n",
    "- 9.2 写入文件\n",
    "- 9.3 异常\n",
    "- 9.4 存储数据"
   ]
  },
  {
   "cell_type": "markdown",
   "metadata": {},
   "source": [
    "## 9.1 从文件中读取数据"
   ]
  },
  {
   "cell_type": "code",
   "execution_count": null,
   "metadata": {},
   "outputs": [],
   "source": []
  },
  {
   "cell_type": "markdown",
   "metadata": {},
   "source": [
    "1. with语句块：自动执行文件对象的初始化和关闭操作\n",
    "2. open()函数：参数为文件名，返回文件对象\n",
    "3. 文件对象的read()方法：读取整个文件的内容，返回字符串"
   ]
  },
  {
   "cell_type": "markdown",
   "metadata": {},
   "source": [
    "- 相对路径（推荐）：相对于当前运行的程序所在的目录的路径\n",
    "- 绝对路径：文件系统中文件的完整路径"
   ]
  },
  {
   "cell_type": "code",
   "execution_count": 3,
   "metadata": {},
   "outputs": [
    {
     "name": "stdout",
     "output_type": "stream",
     "text": [
      "d:\\workspaces\\python_course\\src\\09-files-and-exceptions\n"
     ]
    },
    {
     "data": {
      "text/plain": [
       "['09-files-and-exceptions.ipynb',\n",
       " 'alice.txt',\n",
       " 'file_path.py',\n",
       " 'fruits.json',\n",
       " 'moby_dick.txt',\n",
       " 'new_fruits.json',\n",
       " 'pi_digit.txt',\n",
       " 'program.txt',\n",
       " 'users.json']"
      ]
     },
     "execution_count": 3,
     "metadata": {},
     "output_type": "execute_result"
    }
   ],
   "source": [
    "# 如何获取当前路径下的所有文件名\n",
    "import os\n",
    "\n",
    "# 获取到当前路径\n",
    "current_dir = os.getcwd()\n",
    "print(current_dir)\n",
    "\n",
    "# 列举并打印当前路径下的所有文件名\n",
    "files = os.listdir(current_dir)\n",
    "files"
   ]
  },
  {
   "cell_type": "markdown",
   "metadata": {},
   "source": [
    "使用`..`打开上一级目录中的文件"
   ]
  },
  {
   "cell_type": "code",
   "execution_count": null,
   "metadata": {},
   "outputs": [],
   "source": [
    "with open('../08-classes/car.py') as file:\n",
    "    contents = file.read()\n",
    "    print(contents)"
   ]
  }
 ],
 "metadata": {
  "kernelspec": {
   "display_name": "Python 3",
   "language": "python",
   "name": "python3"
  },
  "language_info": {
   "codemirror_mode": {
    "name": "ipython",
    "version": 3
   },
   "file_extension": ".py",
   "mimetype": "text/x-python",
   "name": "python",
   "nbconvert_exporter": "python",
   "pygments_lexer": "ipython3",
   "version": "3.10.6"
  },
  "orig_nbformat": 4
 },
 "nbformat": 4,
 "nbformat_minor": 2
}
