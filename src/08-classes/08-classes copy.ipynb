{
 "cells": [
  {
   "cell_type": "markdown",
   "metadata": {},
   "source": [
    "# 08-Python面向对象编程"
   ]
  },
  {
   "cell_type": "markdown",
   "metadata": {
    "notebookRunGroups": {
     "groupValue": "2"
    }
   },
   "source": [
    "创建和使用类\n",
    "- 使用class关键字创建类\n",
    "- 类名使用驼峰命名法，每个单词的首字母大写，例如：MyClass、BattleShip\n",
    "- 但文件名使用小写: dog.py, model.py"
   ]
  },
  {
   "cell_type": "code",
   "execution_count": 1,
   "metadata": {},
   "outputs": [
    {
     "name": "stdout",
     "output_type": "stream",
     "text": [
      "Willie 4\n",
      "Willie is now sitting.\n",
      "Willie rolled over!\n"
     ]
    }
   ],
   "source": [
    "class Dog:\n",
    "    \"\"\"Emulate a dog\"\"\"\n",
    "    \n",
    "    # 构造函数 \n",
    "    def __init__(self, name, age):\n",
    "        \"\"\"Initialize name and age attributes\"\"\"\n",
    "        self.name = name\n",
    "        self.age = age\n",
    "        \n",
    "    def sit(self):\n",
    "        \"\"\"Simulate a dog sitting in response to a command\"\"\"\n",
    "        print(f\"{self.name} is now sitting.\")\n",
    "        \n",
    "    def roll_over(self):\n",
    "        \"\"\"Simulate a dog rolling over in response to a command\"\"\"\n",
    "        print(f\"{self.name} rolled over!\")\n",
    "        \n",
    "my_dog = Dog('Willie', 4)  # 调用了__init__方法\n",
    "\n",
    "# Python的属性和方法都不是私有的\n",
    "print(my_dog.name, my_dog.age)\n",
    "my_dog.sit()\n",
    "my_dog.roll_over()"
   ]
  },
  {
   "cell_type": "markdown",
   "metadata": {},
   "source": [
    "## 类的定义\n",
    "\n",
    "- 类中的定义函数被称为方法(method)，类中定义的变量被称为属性（attribute）\n",
    "- __init__这样以下划线开始和结束的方法或者属性都是特殊方法或者属性，特殊方法和属性通常被隐式地使用- \n",
    "- 这里的方法的第一个参数都是`self`，`self`表示自己这个对象，通过`self`可以使用该对象的属性和方法"
   ]
  },
  {
   "cell_type": "markdown",
   "metadata": {},
   "source": [
    "## Car类的定义\n",
    "\n",
    "- 属性的默认值\n",
    "- 汽车里程应该只能增加，不能减少"
   ]
  },
  {
   "cell_type": "code",
   "execution_count": 2,
   "metadata": {},
   "outputs": [
    {
     "name": "stdout",
     "output_type": "stream",
     "text": [
      "2015 Subaru Outback\n",
      "This car has 23500 miles on it.\n",
      "This car has 23600 miles on it.\n",
      "You can't roll back an odometer!\n",
      "This car has 23600 miles on it.\n"
     ]
    }
   ],
   "source": [
    "class Car:\n",
    "    \"\"\"A simple attempt to represent a car.\"\"\"\n",
    "\n",
    "    def __init__(self, make, model, year):\n",
    "        \"\"\"Initialize attributes to describe a car.\"\"\"\n",
    "        self.make = make\n",
    "        self.model = model\n",
    "        self.year = year\n",
    "        self.odometer_reading = 0  # 设置Car对象的里程属性默认为0\n",
    "        \n",
    "    def get_descriptive_name(self):\n",
    "        \"\"\"Return a neatly formatted descriptive name.\"\"\"\n",
    "        long_name = f\"{self.year} {self.make} {self.model}\"\n",
    "        return long_name.title()\n",
    "\n",
    "    def read_odometer(self):\n",
    "        \"\"\"Print a statement showing the car's mileage.\"\"\"\n",
    "        print(f\"This car has {self.odometer_reading} miles on it.\")\n",
    "\n",
    "    def update_odometer(self, mileage):\n",
    "        \"\"\"\n",
    "        Set the odometer reading to the given value.\n",
    "        Reject the change if it attempts to roll the odometer back.\n",
    "        \"\"\"\n",
    "        if mileage >= self.odometer_reading:\n",
    "            self.odometer_reading = mileage\n",
    "        else:\n",
    "            print(\"You can't roll back an odometer!\")\n",
    "\n",
    "    def increment_odometer(self, miles):\n",
    "        \"\"\"Add the given amount to the odometer reading.\"\"\"\n",
    "        self.odometer_reading += miles\n",
    "    \n",
    "my_used_car = Car('subaru', 'outback', 2015)\n",
    "print(my_used_car.get_descriptive_name())\n",
    "\n",
    "my_used_car.update_odometer(23_500)\n",
    "my_used_car.read_odometer()\n",
    "\n",
    "my_used_car.increment_odometer(100)\n",
    "my_used_car.read_odometer()\n",
    "\n",
    "my_used_car.update_odometer(2000)\n",
    "my_used_car.read_odometer()"
   ]
  },
  {
   "cell_type": "code",
   "execution_count": 3,
   "metadata": {},
   "outputs": [
    {
     "name": "stdout",
     "output_type": "stream",
     "text": [
      "This car has 0 miles on it.\n"
     ]
    }
   ],
   "source": [
    "# 无法阻止直接修改属性值\n",
    "my_used_car.odometer_reading = 0\n",
    "my_used_car.read_odometer()"
   ]
  },
  {
   "cell_type": "markdown",
   "metadata": {},
   "source": [
    "## 继承\n",
    "\n",
    "子类将自动获得另一个类（父类）的所有属性和方法，子类还可以定义自己的属性和方法。"
   ]
  },
  {
   "cell_type": "code",
   "execution_count": 4,
   "metadata": {},
   "outputs": [
    {
     "name": "stdout",
     "output_type": "stream",
     "text": [
      "2019 Tesla Model S\n",
      "This car has a 75-kWh battery.\n"
     ]
    }
   ],
   "source": [
    "class ElectricCar(Car):\n",
    "    \"\"\"Represent aspects of a car, specific to electric vehicles.\"\"\"\n",
    "    \n",
    "    def __init__(self, make, model, year):\n",
    "        \"\"\"\n",
    "        Initialize attributes of the parent class.\n",
    "        Then initialize attributes specific to an electric car.\n",
    "        \"\"\"\n",
    "        \n",
    "        # 调用父类的构造函数\n",
    "        super().__init__(make, model, year)\n",
    "        \n",
    "        # 电动汽车子类增加的属性，默认值是75\n",
    "        self.battery_size = 75\n",
    "\n",
    "    # 子类增加的新的方法\n",
    "    def describe_battery(self):\n",
    "        \"\"\"Print a statement describing the battery size.\"\"\"\n",
    "        print(f\"This car has a {self.battery_size}-kWh battery.\")\n",
    "\n",
    "my_tesla = ElectricCar('tesla', 'model s', 2019)\n",
    "\n",
    "# 调用父类继承来的方法\n",
    "print(my_tesla.get_descriptive_name())\n",
    "\n",
    "# 调用子类定义的方法\n",
    "my_tesla.describe_battery()"
   ]
  },
  {
   "cell_type": "markdown",
   "metadata": {},
   "source": [
    "组合类，类的属性可以是自定义类的对象"
   ]
  },
  {
   "cell_type": "code",
   "execution_count": 5,
   "metadata": {},
   "outputs": [
    {
     "name": "stdout",
     "output_type": "stream",
     "text": [
      "2019 Tesla Model S\n",
      "This car has a 75-kWh battery.\n",
      "This car can go about 260 miles on a full charge.\n"
     ]
    }
   ],
   "source": [
    "class Battery:\n",
    "    \"\"\"A simple attempt to model a battery for an electric car.\"\"\"\n",
    "    \n",
    "    def __init__(self, battery_size=75):\n",
    "        \"\"\"Initialize the battery's attributes.\"\"\"\n",
    "        self.battery_size = battery_size\n",
    "\n",
    "    def describe_battery(self):\n",
    "        \"\"\"Print a statement describing the battery size.\"\"\"\n",
    "        print(f\"This car has a {self.battery_size}-kWh battery.\")\n",
    "\n",
    "    def get_range(self):\n",
    "        \"\"\"Print a statement about the range this battery provides.\"\"\"\n",
    "        if self.battery_size == 75:\n",
    "            range = 260\n",
    "        elif self.battery_size == 100:\n",
    "            range = 315\n",
    "            \n",
    "        print(f\"This car can go about {range} miles on a full charge.\")\n",
    "\n",
    "\n",
    "class ElectricCar(Car):\n",
    "    \"\"\"Represent aspects of a car, specific to electric vehicles.\"\"\"\n",
    "    \n",
    "    def __init__(self, make, model, year):\n",
    "        \"\"\"\n",
    "        Initialize attributes of the parent class.\n",
    "        Then initialize attributes specific to an electric car.\n",
    "        \"\"\"\n",
    "        super().__init__(make, model, year)\n",
    "        \n",
    "        # battery属性是一个组合的对象\n",
    "        self.battery = Battery()\n",
    "\n",
    "    def describe_battery(self):\n",
    "        \"\"\"Print a statement describing the battery size.\"\"\"\n",
    "        print(f\"This car has a {self.battery_size}-kWh battery.\")\n",
    "\n",
    "my_tesla = ElectricCar('tesla', 'model s', 2019)\n",
    "print(my_tesla.get_descriptive_name())\n",
    "my_tesla.battery.describe_battery()\n",
    "my_tesla.battery.get_range()"
   ]
  },
  {
   "cell_type": "markdown",
   "metadata": {},
   "source": [
    "## 重写（override）父类的方法\n",
    "\n",
    "子类和父类完全一样的方法（相同的函数名，相同的参数列表），但是会表现出不同的行为，这就是重写（override）。"
   ]
  },
  {
   "cell_type": "code",
   "execution_count": 28,
   "metadata": {},
   "outputs": [
    {
     "name": "stdout",
     "output_type": "stream",
     "text": [
      "Fill gas tank\n",
      "This car doesn't need a gas tank!\n",
      "20000\n"
     ]
    }
   ],
   "source": [
    "class Car:\n",
    "    \"\"\"A simple attempt to represent a car.\"\"\"\n",
    "\n",
    "    def __init__(self, make, model, year):\n",
    "        \"\"\"Initialize attributes to describe a car.\"\"\"\n",
    "        self.make = make\n",
    "        self.model = model\n",
    "        self.year = year\n",
    "        self.odometer_reading = 0\n",
    "        \n",
    "    def get_descriptive_name(self):\n",
    "        \"\"\"Return a neatly formatted descriptive name.\"\"\"\n",
    "        long_name = f\"{self.year} {self.make} {self.model}\"\n",
    "        return long_name.title()\n",
    "    \n",
    "    # 这个方法会被电动汽车子类继承\n",
    "    def fill_gas_tank(self):\n",
    "        \"\"\"Fill gas tank\"\"\"\n",
    "        print(\"Fill gas tank\")\n",
    "        \n",
    "class ElectricCar(Car):\n",
    "    \"\"\"Represent aspects of a car, specific to electric vehicles.\"\"\"\n",
    "    \n",
    "    def __init__(self, make, model, year):\n",
    "        \"\"\"\n",
    "        Initialize attributes of the parent class.\n",
    "        Then initialize attributes specific to an electric car.\n",
    "        \"\"\"\n",
    "        super().__init__(make, model, year)\n",
    "        self.battery = Battery()\n",
    "\n",
    "    def describe_battery(self):\n",
    "        \"\"\"Print a statement describing the battery size.\"\"\"\n",
    "        print(f\"This car has a {self.battery_size}-kWh battery.\")\n",
    "    \n",
    "    # 改写（override）父类继承来的方法    \n",
    "    def fill_gas_tank(self):\n",
    "        \"\"\"Electric car doesn't need a gas tank\"\"\"\n",
    "        print(\"This car doesn't need a gas tank!\")\n",
    "\n",
    "my_honda = Car('Honda', 'Accord', 2016)\n",
    "my_honda.fill_gas_tank()\n",
    "\n",
    "my_tesla = ElectricCar('tesla', 'model s', 2019)\n",
    "my_tesla.fill_gas_tank()\n",
    "\n",
    "# 给对象加上属性\n",
    "my_tesla.price = 20000\n",
    "print(my_tesla.price)"
   ]
  },
  {
   "cell_type": "markdown",
   "metadata": {},
   "source": [
    "## Random类\n",
    "\n",
    "- Random类产生的伪随机数，当种子确定时，产生的随机数是确定的。\n",
    "- randint方法: 产生随机整数\n",
    "- choice:随机选择一个\n",
    "- sample:随机选择若干个样本"
   ]
  },
  {
   "cell_type": "code",
   "execution_count": 27,
   "metadata": {},
   "outputs": [
    {
     "name": "stdout",
     "output_type": "stream",
     "text": [
      "4\n",
      "pear\n",
      "[5, 33, 65, 62, 51, 38, 61, 45, 74, 27]\n"
     ]
    }
   ],
   "source": [
    "import random\n",
    "\n",
    "random.seed(0)  # 确定了种子以后，产生的随机序列是确定的\n",
    "print(random.randint(1, 6))\n",
    "print(random.choice(['apple', 'pear', 'banana']))\n",
    "print(random.sample(range(100), 10))"
   ]
  },
  {
   "cell_type": "markdown",
   "metadata": {},
   "source": [
    "## Python类的一些特殊方法：\n",
    "\n",
    "- `__str__`\n",
    "- `__repr__`\n",
    "- `__eq__`\n",
    "- `__iter__`\n",
    "- `__len__`\n",
    "- `__getitem__`\n",
    "- `__abs__`\n"
   ]
  },
  {
   "cell_type": "code",
   "execution_count": 82,
   "metadata": {},
   "outputs": [],
   "source": [
    "\n",
    "class Vector:\n",
    "\n",
    "    # _components是特殊属性，存放表示向量的列表\n",
    "    def __init__(self, components):\n",
    "        self._components = tuple(components) \n",
    "    \n",
    "    # 遍历向量包含的元组    \n",
    "    def __iter__(self):\n",
    "        return iter(self._components)\n",
    "    \n",
    "    # 把向量包含的元组转换为字符串打印    \n",
    "    def __str__(self):\n",
    "        return str(self._components)\n",
    "    \n",
    "    # 把向量包含的元组表示出来    \n",
    "    def __repr__(self):\n",
    "        return f'Vector({self._components})'\n",
    "    \n",
    "    def __eq__(self, other):\n",
    "        return self._components == other._components\n",
    "\n",
    "    def __hash__(self):\n",
    "        return hash(self._components)\n",
    "    \n",
    "    def __len__(self):\n",
    "        return len(self._components)\n",
    "    \n",
    "    def __getitem__(self, index):\n",
    "        return self._components[index]\n",
    "    \n",
    "    def __abs__(self):\n",
    "        return (sum(x**2 for x in self))**0.5\n",
    "    \n",
    "    def __add__ (self, other):\n",
    "        return Vector(x + y for x, y in zip(self, other))\n",
    "    \n",
    "    # 当对象出现在+号右边时，调用__radd__方法\n",
    "    def __radd__(self, other):\n",
    "        return self + other\n",
    "    \n",
    "v1 = Vector([1, 2, 3])\n",
    "v3 = Vector([3, 4])"
   ]
  },
  {
   "cell_type": "code",
   "execution_count": 38,
   "metadata": {},
   "outputs": [
    {
     "name": "stdout",
     "output_type": "stream",
     "text": [
      "(1, 2, 3)\n"
     ]
    }
   ],
   "source": [
    "\n",
    "print(v1)  #  __str__ called，如果没有编写该方法，会打印该对象的id"
   ]
  },
  {
   "cell_type": "code",
   "execution_count": 41,
   "metadata": {},
   "outputs": [
    {
     "data": {
      "text/plain": [
       "Vector((1, 2, 3))"
      ]
     },
     "execution_count": 41,
     "metadata": {},
     "output_type": "execute_result"
    }
   ],
   "source": [
    "v1 # __repr__ called"
   ]
  },
  {
   "cell_type": "code",
   "execution_count": 65,
   "metadata": {},
   "outputs": [
    {
     "data": {
      "text/plain": [
       "True"
      ]
     },
     "execution_count": 65,
     "metadata": {},
     "output_type": "execute_result"
    }
   ],
   "source": [
    "v2 = Vector([1, 2, 3])\n",
    "v1 == v2 # __eq__ called，默认是比较两个对象的id"
   ]
  },
  {
   "cell_type": "code",
   "execution_count": 66,
   "metadata": {},
   "outputs": [
    {
     "name": "stdout",
     "output_type": "stream",
     "text": [
      "529344067295497451\n",
      "{Vector((1, 2, 3))}\n"
     ]
    }
   ],
   "source": [
    "print(hash(v1)) # __hash__ called\n",
    "print({v1, v2})"
   ]
  },
  {
   "cell_type": "code",
   "execution_count": 59,
   "metadata": {},
   "outputs": [
    {
     "name": "stdout",
     "output_type": "stream",
     "text": [
      "1\n",
      "2\n",
      "3\n"
     ]
    }
   ],
   "source": [
    "# 向量可以被遍历\n",
    "for value in v1:  # __iter__ called\n",
    "    print(value)"
   ]
  },
  {
   "cell_type": "code",
   "execution_count": 71,
   "metadata": {},
   "outputs": [
    {
     "data": {
      "text/plain": [
       "3"
      ]
     },
     "execution_count": 71,
     "metadata": {},
     "output_type": "execute_result"
    }
   ],
   "source": [
    "len(v1)  # __len__ called"
   ]
  },
  {
   "cell_type": "code",
   "execution_count": 75,
   "metadata": {},
   "outputs": [
    {
     "name": "stdout",
     "output_type": "stream",
     "text": [
      "1\n",
      "2\n",
      "3\n",
      "(2, 3)\n"
     ]
    }
   ],
   "source": [
    "print(v1[0]) # __getitem__ called\n",
    "print(v1[1])\n",
    "print(v1[2])\n",
    "print(v1[1:]) # slice is supported"
   ]
  },
  {
   "cell_type": "code",
   "execution_count": 78,
   "metadata": {},
   "outputs": [
    {
     "data": {
      "text/plain": [
       "5.0"
      ]
     },
     "execution_count": 78,
     "metadata": {},
     "output_type": "execute_result"
    }
   ],
   "source": [
    "abs(v3) # __abs__ called"
   ]
  },
  {
   "cell_type": "code",
   "execution_count": 83,
   "metadata": {},
   "outputs": [
    {
     "name": "stdout",
     "output_type": "stream",
     "text": [
      "(1, 2, 3) (1, 2, 3)\n"
     ]
    },
    {
     "data": {
      "text/plain": [
       "Vector((2, 4, 6))"
      ]
     },
     "execution_count": 83,
     "metadata": {},
     "output_type": "execute_result"
    }
   ],
   "source": [
    "print(v1, v2)\n",
    "v1 + v2 # __add__ called"
   ]
  },
  {
   "cell_type": "markdown",
   "metadata": {},
   "source": [
    "## 操作符重载\n",
    "\n",
    "![操作符重载](./img/2023-10-01-17-03-09.png)"
   ]
  },
  {
   "cell_type": "code",
   "execution_count": null,
   "metadata": {},
   "outputs": [],
   "source": [
    "v1 + v2 # __add__ called\n"
   ]
  },
  {
   "cell_type": "code",
   "execution_count": null,
   "metadata": {},
   "outputs": [],
   "source": [
    "v1 += v2 # __add__ called\n",
    "v1"
   ]
  },
  {
   "cell_type": "code",
   "execution_count": null,
   "metadata": {},
   "outputs": [],
   "source": [
    "Vector([1, 2]) + Vector([1, 2, 3]) # TypeError: dimensions must agree"
   ]
  },
  {
   "cell_type": "markdown",
   "metadata": {},
   "source": [
    "## namedtuple\n",
    "\n",
    "- 类似于元组（tuple）对象，也是不可变的\n",
    "- 但是它的数据域是由像字典一样有名字的。\n",
    "- 自动具备了`__str__`, `__repr__`, `__eq__`, `__hash__`等方法"
   ]
  },
  {
   "cell_type": "code",
   "execution_count": 89,
   "metadata": {},
   "outputs": [],
   "source": [
    "from collections import namedtuple\n",
    "\n",
    "Point = namedtuple('Point', ['x', 'y'])\n"
   ]
  },
  {
   "cell_type": "code",
   "execution_count": 90,
   "metadata": {},
   "outputs": [
    {
     "name": "stdout",
     "output_type": "stream",
     "text": [
      "Point(x=4, y=6)\n"
     ]
    },
    {
     "data": {
      "text/plain": [
       "Point(x=4, y=6)"
      ]
     },
     "execution_count": 90,
     "metadata": {},
     "output_type": "execute_result"
    }
   ],
   "source": [
    "p1 = Point(4, 6)\n",
    "p2 = Point(4, 6)\n",
    "print(p1)  #  __str__ called\n",
    "p1   # __repr__ called"
   ]
  },
  {
   "cell_type": "code",
   "execution_count": 91,
   "metadata": {},
   "outputs": [
    {
     "data": {
      "text/plain": [
       "True"
      ]
     },
     "execution_count": 91,
     "metadata": {},
     "output_type": "execute_result"
    }
   ],
   "source": [
    "p1 == p2 # __eq__ called"
   ]
  },
  {
   "cell_type": "code",
   "execution_count": 93,
   "metadata": {},
   "outputs": [
    {
     "data": {
      "text/plain": [
       "{Point(x=3, y=4), Point(x=4, y=6)}"
      ]
     },
     "execution_count": 93,
     "metadata": {},
     "output_type": "execute_result"
    }
   ],
   "source": [
    "points = { p1, p2, Point(3, 4) } # __hash__ called\n",
    "points"
   ]
  },
  {
   "cell_type": "code",
   "execution_count": 95,
   "metadata": {},
   "outputs": [
    {
     "name": "stdout",
     "output_type": "stream",
     "text": [
      "4 6\n"
     ]
    },
    {
     "ename": "AttributeError",
     "evalue": "can't set attribute",
     "output_type": "error",
     "traceback": [
      "\u001b[1;31m---------------------------------------------------------------------------\u001b[0m",
      "\u001b[1;31mAttributeError\u001b[0m                            Traceback (most recent call last)",
      "\u001b[1;32mc:\\Users\\zhouj\\workspace\\python_course\\src\\08-classes\\08-classes copy.ipynb Cell 36\u001b[0m line \u001b[0;36m2\n\u001b[0;32m      <a href='vscode-notebook-cell:/c%3A/Users/zhouj/workspace/python_course/src/08-classes/08-classes%20copy.ipynb#X66sZmlsZQ%3D%3D?line=0'>1</a>\u001b[0m \u001b[39mprint\u001b[39m(p1\u001b[39m.\u001b[39mx, p1\u001b[39m.\u001b[39my)\n\u001b[1;32m----> <a href='vscode-notebook-cell:/c%3A/Users/zhouj/workspace/python_course/src/08-classes/08-classes%20copy.ipynb#X66sZmlsZQ%3D%3D?line=1'>2</a>\u001b[0m p1\u001b[39m.\u001b[39;49mx \u001b[39m=\u001b[39m \u001b[39m10\u001b[39m \u001b[39m# AttributeError: can't set attribute\u001b[39;00m\n",
      "\u001b[1;31mAttributeError\u001b[0m: can't set attribute"
     ]
    }
   ],
   "source": [
    "print(p1.x, p1.y)\n",
    "p1.x = 10 # AttributeError: can't set attribute"
   ]
  },
  {
   "cell_type": "markdown",
   "metadata": {},
   "source": [
    "## FrenchDeck"
   ]
  },
  {
   "cell_type": "code",
   "execution_count": 96,
   "metadata": {},
   "outputs": [],
   "source": [
    "import collections\n",
    "\n",
    "Card = collections.namedtuple('Card', ['rank', 'suit'])\n",
    "\n",
    "class FrenchDeck:\n",
    "    ranks = [str(n) for n in range(2, 11)] + list('JQKA')\n",
    "    suits = 'spades diamonds clubs hearts'.split()\n",
    "\n",
    "    def __init__(self):\n",
    "        self._cards = [Card(rank, suit) for suit in self.suits\n",
    "                                        for rank in self.ranks]\n",
    "\n",
    "    def __len__(self):\n",
    "        return len(self._cards)\n",
    "\n",
    "    def __getitem__(self, position):\n",
    "        return self._cards[position]"
   ]
  },
  {
   "cell_type": "code",
   "execution_count": 97,
   "metadata": {},
   "outputs": [
    {
     "data": {
      "text/plain": [
       "Card(rank='7', suit='diamonds')"
      ]
     },
     "execution_count": 97,
     "metadata": {},
     "output_type": "execute_result"
    }
   ],
   "source": [
    "beer_card = Card('7', 'diamonds')\n",
    "beer_card"
   ]
  },
  {
   "cell_type": "code",
   "execution_count": 98,
   "metadata": {},
   "outputs": [
    {
     "data": {
      "text/plain": [
       "52"
      ]
     },
     "execution_count": 98,
     "metadata": {},
     "output_type": "execute_result"
    }
   ],
   "source": [
    "deck = FrenchDeck()\n",
    "len(deck)"
   ]
  },
  {
   "cell_type": "code",
   "execution_count": 99,
   "metadata": {},
   "outputs": [
    {
     "name": "stdout",
     "output_type": "stream",
     "text": [
      "Card(rank='2', suit='spades')\n",
      "[Card(rank='2', suit='spades'), Card(rank='3', suit='spades'), Card(rank='4', suit='spades')]\n"
     ]
    }
   ],
   "source": [
    "print(deck[0])\n",
    "print(deck[:3])"
   ]
  },
  {
   "cell_type": "code",
   "execution_count": 100,
   "metadata": {},
   "outputs": [
    {
     "name": "stdout",
     "output_type": "stream",
     "text": [
      "Card(rank='2', suit='spades')\n",
      "Card(rank='3', suit='spades')\n",
      "Card(rank='4', suit='spades')\n",
      "Card(rank='5', suit='spades')\n",
      "Card(rank='6', suit='spades')\n",
      "Card(rank='7', suit='spades')\n",
      "Card(rank='8', suit='spades')\n",
      "Card(rank='9', suit='spades')\n",
      "Card(rank='10', suit='spades')\n",
      "Card(rank='J', suit='spades')\n",
      "Card(rank='Q', suit='spades')\n",
      "Card(rank='K', suit='spades')\n",
      "Card(rank='A', suit='spades')\n",
      "Card(rank='2', suit='diamonds')\n",
      "Card(rank='3', suit='diamonds')\n",
      "Card(rank='4', suit='diamonds')\n",
      "Card(rank='5', suit='diamonds')\n",
      "Card(rank='6', suit='diamonds')\n",
      "Card(rank='7', suit='diamonds')\n",
      "Card(rank='8', suit='diamonds')\n",
      "Card(rank='9', suit='diamonds')\n",
      "Card(rank='10', suit='diamonds')\n",
      "Card(rank='J', suit='diamonds')\n",
      "Card(rank='Q', suit='diamonds')\n",
      "Card(rank='K', suit='diamonds')\n",
      "Card(rank='A', suit='diamonds')\n",
      "Card(rank='2', suit='clubs')\n",
      "Card(rank='3', suit='clubs')\n",
      "Card(rank='4', suit='clubs')\n",
      "Card(rank='5', suit='clubs')\n",
      "Card(rank='6', suit='clubs')\n",
      "Card(rank='7', suit='clubs')\n",
      "Card(rank='8', suit='clubs')\n",
      "Card(rank='9', suit='clubs')\n",
      "Card(rank='10', suit='clubs')\n",
      "Card(rank='J', suit='clubs')\n",
      "Card(rank='Q', suit='clubs')\n",
      "Card(rank='K', suit='clubs')\n",
      "Card(rank='A', suit='clubs')\n",
      "Card(rank='2', suit='hearts')\n",
      "Card(rank='3', suit='hearts')\n",
      "Card(rank='4', suit='hearts')\n",
      "Card(rank='5', suit='hearts')\n",
      "Card(rank='6', suit='hearts')\n",
      "Card(rank='7', suit='hearts')\n",
      "Card(rank='8', suit='hearts')\n",
      "Card(rank='9', suit='hearts')\n",
      "Card(rank='10', suit='hearts')\n",
      "Card(rank='J', suit='hearts')\n",
      "Card(rank='Q', suit='hearts')\n",
      "Card(rank='K', suit='hearts')\n",
      "Card(rank='A', suit='hearts')\n"
     ]
    }
   ],
   "source": [
    "for card in deck:\n",
    "    print(card)"
   ]
  },
  {
   "cell_type": "markdown",
   "metadata": {},
   "source": [
    "## DataClass \n",
    "\n",
    "- Python 3.7 新增的特性\n",
    "- 在类的定义前面使用`@dataclass`\n",
    "- 自动具备了`__str__`, `__repr__`, `__eq__`, `__hash__` 等方法\n",
    "- 相比`namedtuple`, `dataclass`的数据域可以写，可以添加新的方法"
   ]
  },
  {
   "cell_type": "code",
   "execution_count": 101,
   "metadata": {},
   "outputs": [],
   "source": [
    "from dataclasses import dataclass\n",
    "from math import asin, cos, radians, sin, sqrt\n",
    "\n",
    "@dataclass\n",
    "class Position:\n",
    "    name: str\n",
    "    lon: float\n",
    "    lat: float\n",
    "\n",
    "    def distance_to(self, other):\n",
    "        r = 6371  # Earth radius in kilometers\n",
    "        lam_1, lam_2 = radians(self.lon), radians(other.lon)\n",
    "        phi_1, phi_2 = radians(self.lat), radians(other.lat)\n",
    "        h = (sin((phi_2 - phi_1) / 2)**2\n",
    "             + cos(phi_1) * cos(phi_2) * sin((lam_2 - lam_1) / 2)**2)\n",
    "        return 2 * r * asin(sqrt(h))"
   ]
  },
  {
   "cell_type": "code",
   "execution_count": 102,
   "metadata": {},
   "outputs": [
    {
     "name": "stdout",
     "output_type": "stream",
     "text": [
      "Position(name='Oslo', lon=10.8, lat=59.9)\n",
      "7181.784122942117\n"
     ]
    }
   ],
   "source": [
    "pos = Position('Oslo', 10.8, 59.9)\n",
    "print(pos)\n",
    "vancouver = Position('Vancouver', -123.1, 49.3)\n",
    "print(pos.distance_to(vancouver))"
   ]
  },
  {
   "cell_type": "code",
   "execution_count": 103,
   "metadata": {},
   "outputs": [
    {
     "name": "stdout",
     "output_type": "stream",
     "text": [
      "Oslo is at 59.9°N, 10.8°E\n"
     ]
    }
   ],
   "source": [
    "print(f'{pos.name} is at {pos.lat}°N, {pos.lon}°E')"
   ]
  },
  {
   "cell_type": "code",
   "execution_count": 104,
   "metadata": {},
   "outputs": [
    {
     "name": "stdout",
     "output_type": "stream",
     "text": [
      "['__annotations__', '__class__', '__dataclass_fields__', '__dataclass_params__', '__delattr__', '__dict__', '__dir__', '__doc__', '__eq__', '__format__', '__ge__', '__getattribute__', '__gt__', '__hash__', '__init__', '__init_subclass__', '__le__', '__lt__', '__match_args__', '__module__', '__ne__', '__new__', '__reduce__', '__reduce_ex__', '__repr__', '__setattr__', '__sizeof__', '__str__', '__subclasshook__', '__weakref__', 'distance_to', 'lat', 'lon', 'name']\n"
     ]
    }
   ],
   "source": [
    "print(dir(pos))"
   ]
  },
  {
   "cell_type": "markdown",
   "metadata": {},
   "source": [
    "## 关于面向对象编程\n",
    "\n",
    "- 面向对象编程很容易导致糟糕的设计。\n",
    "- \"a function is all you need\" 函数式编程是现代编程语言的趋势。例如：Go语言没有class关键字。\n",
    "- 应该尽可能避免使用继承，尽量使用组合。例如：`FrenchDeck`的属性包括一个`Card`列表，这是一个组合。"
   ]
  },
  {
   "cell_type": "markdown",
   "metadata": {},
   "source": [
    "## 练习\n",
    "\n",
    "[experiment7](../../Experiments/experiment7.md)"
   ]
  }
 ],
 "metadata": {
  "kernelspec": {
   "display_name": "Python 3",
   "language": "python",
   "name": "python3"
  },
  "language_info": {
   "codemirror_mode": {
    "name": "ipython",
    "version": 3
   },
   "file_extension": ".py",
   "mimetype": "text/x-python",
   "name": "python",
   "nbconvert_exporter": "python",
   "pygments_lexer": "ipython3",
   "version": "3.10.6"
  },
  "orig_nbformat": 4
 },
 "nbformat": 4,
 "nbformat_minor": 2
}
