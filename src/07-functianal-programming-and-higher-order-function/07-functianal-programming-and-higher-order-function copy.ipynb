{
 "cells": [
  {
   "cell_type": "markdown",
   "metadata": {},
   "source": [
    "# 07-Python函数式编程与高阶函数"
   ]
  },
  {
   "cell_type": "markdown",
   "metadata": {},
   "source": [
    "## Python函数的类型提示\n",
    "\n",
    "如果实际的参数类型与类型提示不符合，程序会报错吗？"
   ]
  },
  {
   "cell_type": "markdown",
   "metadata": {},
   "source": [
    "函数定义的类型提示需要接收：\n",
    "- 一个列表参数\n",
    "- 一个整型参数\n",
    "- 返回一个整数值"
   ]
  },
  {
   "cell_type": "code",
   "execution_count": null,
   "metadata": {},
   "outputs": [],
   "source": [
    "def pick(l:list, index:int) -> int:\n",
    "    return l[index]\n",
    "\n",
    "pick(\"hello\", 2)"
   ]
  },
  {
   "cell_type": "markdown",
   "metadata": {},
   "source": [
    "Python中的类型提示:\n",
    "    \n",
    "- 类型提示是可选的\n",
    "- 不会在运行时捕捉任何类型错误\n",
    "- 不会用于优化程序的性能"
   ]
  },
  {
   "cell_type": "markdown",
   "metadata": {},
   "source": [
    "## 定义main函数\n",
    "\n",
    "main函数是程序的入口函数，Python中的main函数是可选的，通常的写法如下："
   ]
  },
  {
   "cell_type": "code",
   "execution_count": null,
   "metadata": {},
   "outputs": [],
   "source": [
    "def main():\n",
    "    # main函数应该作为程序的入口函数\n",
    "    print(\"This is main function.\")\n",
    "\n",
    "# 只有当前文件是程序启动的文件时，if条件判断为True    \n",
    "if __name__ == \"__main__\":\n",
    "    main()"
   ]
  },
  {
   "cell_type": "markdown",
   "metadata": {},
   "source": [
    "main函数的最佳实践：\n",
    "\n",
    "- 把运行时间长的或者有其他效果的代码放入函数或类中。\n",
    "- 使用__name__和条件语句来控制代码的执行。\n",
    "- 将入口函数命名为main()，把程序的入口逻辑放入main()函数中。\n",
    "- 在main()函数中调用其他函数或者类。"
   ]
  },
  {
   "cell_type": "markdown",
   "metadata": {},
   "source": [
    "## 变量作用域范围\n",
    "\n",
    "- 全局变量（global）：在函数外部定义的变量\n",
    "- 局部变量（local）：在函数内部定义的变量\n",
    "- global： 在函数内部使用global关键字声明全局变量"
   ]
  },
  {
   "cell_type": "code",
   "execution_count": null,
   "metadata": {},
   "outputs": [],
   "source": [
    "# 这是一个全局变量\n",
    "msg = 'hello'\n",
    "\n",
    "# 打印全局变量    \n",
    "print(msg)\n",
    "    \n",
    "    "
   ]
  },
  {
   "cell_type": "markdown",
   "metadata": {},
   "source": [
    "## 编程范式：\n",
    "\n",
    "- 面向过程编程： C语言\n",
    "- 面向对象编程： Java语言，Python语言\n",
    "- 函数式编程： Lisp语言，Haskell语言，Scala语言，Python语言\n"
   ]
  },
  {
   "cell_type": "markdown",
   "metadata": {},
   "source": [
    "## 什么是函数式编程？\n",
    "\n",
    "函数式编程是一种编程范式，它将计算机运算视为数学函数的计算，并且避免使用程序状态以及易变对象。\n",
    "\n",
    "- 函数是头等对象，函数可以是：\n",
    "  - 变量\n",
    "  - 函数的参数\n",
    "  - 函数的返回值\n",
    "- 变量是不可变的\n",
    "- 递归取代循环\n",
    "- 函数是无副作用的（不要改变程序状态也就是变量的值）\n",
    "- 使用Lambda函数：匿名函数\n",
    "- 使用高阶函数：函数参数是一个函数，或者函数的返回值是一个函数"
   ]
  },
  {
   "cell_type": "markdown",
   "metadata": {},
   "source": [
    "## Lambda函数（匿名函数）"
   ]
  },
  {
   "cell_type": "code",
   "execution_count": null,
   "metadata": {},
   "outputs": [],
   "source": [
    "lambda x: x * 2"
   ]
  },
  {
   "cell_type": "code",
   "execution_count": null,
   "metadata": {},
   "outputs": [],
   "source": [
    "# 等价于\n",
    "def double(value):\n",
    "    return value * 2"
   ]
  },
  {
   "cell_type": "code",
   "execution_count": null,
   "metadata": {},
   "outputs": [],
   "source": [
    "# 将匿名函数对象赋值给一个变量\n",
    "my_fun = lambda x: x * 2\n",
    "my_fun(10)"
   ]
  },
  {
   "cell_type": "code",
   "execution_count": null,
   "metadata": {},
   "outputs": [],
   "source": [
    "# 将函数对象赋值给一个变量\n",
    "my_fun2 = double\n",
    "my_fun2(10)"
   ]
  },
  {
   "cell_type": "markdown",
   "metadata": {},
   "source": [
    "## 高阶函数\n",
    "\n",
    "函数参数是一个函数，或者函数的返回值是一个函数"
   ]
  },
  {
   "cell_type": "markdown",
   "metadata": {},
   "source": [
    "list的sort方法的key参数，可以 接收一个函数作为参数，这个函数的返回值将作为排序的依据。"
   ]
  },
  {
   "cell_type": "code",
   "execution_count": null,
   "metadata": {},
   "outputs": [],
   "source": [
    "cars = ['Ford', 'Volvo', 'BMW', 'Honda', 'Tesla']\n",
    "# 根据元素的长度来排序\n",
    "cars.sort(key=lambda x: len(x))\n",
    "cars"
   ]
  },
  {
   "cell_type": "markdown",
   "metadata": {},
   "source": [
    "将下面的数据按照成绩排序：\n",
    "\n",
    "```python\n",
    "[('English', 88), ('Science', 90), ('Maths', 97), ('Social sciences', 82)]\n",
    "```"
   ]
  },
  {
   "cell_type": "code",
   "execution_count": null,
   "metadata": {},
   "outputs": [],
   "source": [
    "scores = [('English', 88), ('Science', 97), ('Maths', 97), ('Social sciences', 82)]\n",
    "scores.sort()\n",
    "scores"
   ]
  },
  {
   "cell_type": "markdown",
   "metadata": {},
   "source": [
    "首先按照成绩排序，然后按照科目排序"
   ]
  },
  {
   "cell_type": "code",
   "execution_count": null,
   "metadata": {},
   "outputs": [],
   "source": [
    "scores = [('English', 88), ('Science', 97), ('Maths', 97), ('Social sciences', 82)]\n",
    "scores.sort(     )\n",
    "scores"
   ]
  },
  {
   "cell_type": "markdown",
   "metadata": {},
   "source": [
    "## Map函数\n",
    "\n",
    "这是最常见的高阶函数。它的两个参数和返回值：\n",
    "- 第1个参数：一个函数（通常是lambda函数）\n",
    "- 第2个参数：一个或多个可迭代对象（例如list或者tuple）\n",
    "- 返回值：然后将这个函数依次作用在可迭代对象的每个元素上，最后返回一个新的可迭代对象。"
   ]
  },
  {
   "cell_type": "code",
   "execution_count": null,
   "metadata": {},
   "outputs": [],
   "source": [
    "nums = (1, 2, 3, 4)\n",
    "mapped = map(lambda x: x+x, nums)\n",
    "print(list(mapped))"
   ]
  },
  {
   "cell_type": "code",
   "execution_count": 6,
   "metadata": {},
   "outputs": [
    {
     "name": "stdout",
     "output_type": "stream",
     "text": [
      "[2, 12, 30]\n"
     ]
    }
   ],
   "source": [
    "odds = [1, 3, 5]\n",
    "evens = [2, 4, 6]\n",
    "mapped = map(lambda a,b:a*b, odds, evens)\n",
    "print(list(mapped))"
   ]
  },
  {
   "cell_type": "markdown",
   "metadata": {},
   "source": [
    "练习： 判断列表中函数是否包含`anonymous`字符串, 如果包含，返回`(True,s)`，否则返回`(False,s)`. 其中`s`是列表中的字符串。"
   ]
  },
  {
   "cell_type": "code",
   "execution_count": 8,
   "metadata": {},
   "outputs": [],
   "source": [
    "txt = ['lambda functions are anonymous functions.',\n",
    "    'anonymous functions dont have a name.',\n",
    "    'functions are objects in Python.']"
   ]
  },
  {
   "cell_type": "code",
   "execution_count": null,
   "metadata": {},
   "outputs": [],
   "source": []
  },
  {
   "cell_type": "code",
   "execution_count": null,
   "metadata": {},
   "outputs": [],
   "source": []
  },
  {
   "cell_type": "markdown",
   "metadata": {},
   "source": [
    "max, min函数的key参数，可以 接收一个函数作为参数，这个函数的返回值将作为排序的依据。"
   ]
  },
  {
   "cell_type": "code",
   "execution_count": null,
   "metadata": {},
   "outputs": [],
   "source": [
    "# 找出总分最高的和总分最低的\n",
    "scores = [(201, 85), (302, 92), (130, 78), (422, 88)]\n",
    "\n",
    "# Sorting the list of tuples by the second element\n",
    "highest_score = max(scores, key=lambda s: sum(s))\n",
    "lowest_score = min(scores, key=lambda s: sum(s))\n",
    "\n",
    "print(highest_score)\n",
    "print(lowest_score)"
   ]
  },
  {
   "cell_type": "markdown",
   "metadata": {},
   "source": [
    "filter函数的范例"
   ]
  },
  {
   "cell_type": "code",
   "execution_count": null,
   "metadata": {},
   "outputs": [],
   "source": [
    "# 列表中长度大于3的字符串\n",
    "def filter_long_strings(string):\n",
    "    return len(string) >= 3\n",
    "\n",
    "words = [\"apple\", \"banana\", \"be\", \"a\", \"cat\", \"to\", \"elephant\"]\n",
    "\n",
    "long_words = list(filter(filter_long_strings, words))\n",
    "print(long_words)"
   ]
  },
  {
   "cell_type": "code",
   "execution_count": 9,
   "metadata": {},
   "outputs": [
    {
     "name": "stdout",
     "output_type": "stream",
     "text": [
      "<filter object at 0x000001ED09DF1D80>\n",
      "['a', 'e']\n",
      "[]\n"
     ]
    }
   ],
   "source": [
    "# 从字符串中筛选出元音字母\n",
    "word = \"apple\"\n",
    "\n",
    "def vowel(c):\n",
    "    return c.lower() in 'aeiou'\n",
    "\n",
    "vowel = lambda c: c.lower() in 'aeiou'\n",
    "\n",
    "filtered = filter(vowel, word)\n",
    "print(filtered)\n",
    "print(list(filtered))  # filtered 只能生成一次序列数据\n",
    "print(list(filtered))"
   ]
  },
  {
   "cell_type": "markdown",
   "metadata": {},
   "source": [
    "## functools模块"
   ]
  },
  {
   "cell_type": "markdown",
   "metadata": {},
   "source": [
    "partial(func, *args, **kwargs)：创建一个带有预设参数的新函数。"
   ]
  },
  {
   "cell_type": "code",
   "execution_count": null,
   "metadata": {},
   "outputs": [],
   "source": [
    "from functools import partial\n",
    "\n",
    "def divide(x, y):\n",
    "    return x / y\n",
    "\n",
    "# Create a new function, first argument is 2\n",
    "two_divide = partial(divide, 2)\n",
    "print(two_divide(5))  # Output: 0.4"
   ]
  },
  {
   "cell_type": "markdown",
   "metadata": {},
   "source": [
    "lru_cache(maxsize=None)：用于函数结果的记忆/缓存的装饰器。它会缓存最近的函数调用及其结果。"
   ]
  },
  {
   "cell_type": "code",
   "execution_count": null,
   "metadata": {},
   "outputs": [],
   "source": [
    "def fibonacci(n):\n",
    "    if n < 2:\n",
    "        return n\n",
    "    return fibonacci(n-1) + fibonacci(n-2)\n",
    "\n",
    "# 统计运行时间\n",
    "%timeit fibonacci(25)"
   ]
  },
  {
   "cell_type": "code",
   "execution_count": null,
   "metadata": {},
   "outputs": [],
   "source": [
    "from functools import lru_cache\n",
    "\n",
    "@lru_cache(maxsize=3)\n",
    "def fibonacci(n):\n",
    "    if n < 2:\n",
    "        return n\n",
    "    return fibonacci(n-1) + fibonacci(n-2)\n",
    "\n",
    "print(fibonacci(5))  # Output: 5\n",
    "print(fibonacci.cache_info())  # Output: CacheInfo(hits=4, misses=6, maxsize=3, currsize=3)\n",
    "\n",
    "%timeit fibonacci(25)"
   ]
  },
  {
   "cell_type": "code",
   "execution_count": null,
   "metadata": {},
   "outputs": [],
   "source": [
    "%timeit fibonacci(25)"
   ]
  },
  {
   "cell_type": "markdown",
   "metadata": {},
   "source": [
    "## any 和 all 函数\n",
    "\n",
    "都是Python内置函数，用于对于序列数据（布尔变量）连续进行Or或者And操作，返回True或False"
   ]
  },
  {
   "cell_type": "code",
   "execution_count": null,
   "metadata": {},
   "outputs": [],
   "source": [
    "print(all([True, True, True, True]))\n",
    "print(all([True, True, False, True]))"
   ]
  },
  {
   "cell_type": "code",
   "execution_count": null,
   "metadata": {},
   "outputs": [],
   "source": [
    "print(any([False, True, False, False]))\n",
    "print(any([False, False, False, False]))"
   ]
  },
  {
   "cell_type": "code",
   "execution_count": null,
   "metadata": {},
   "outputs": [],
   "source": [
    "# 判断一个列表中全是偶数（all）和存在任意偶数（any）\n",
    "\n",
    "print(all( [x%2==0  for x in [2, 4, 6, 8, 10]])) \n",
    "print(all( [x%2==0  for x in [2, 4, 6, 8, 11]])) \n",
    "\n",
    "\n",
    "print(any([ x%2==0  for x in [2, 4, 6, 8, 11]])) \n",
    "print(any([ x%2==0  for x in [1, 3, 5, 7, 9]])) "
   ]
  },
  {
   "cell_type": "markdown",
   "metadata": {},
   "source": [
    "## 生成器（Generator）\n",
    "\n",
    "生成器使用简明地方式，懒惰地（lazily）返回序列数据，每次请求数据后会暂停，当有新请求时再次启动。"
   ]
  },
  {
   "cell_type": "code",
   "execution_count": 1,
   "metadata": {},
   "outputs": [
    {
     "name": "stdout",
     "output_type": "stream",
     "text": [
      "1\n",
      "2\n",
      "3\n"
     ]
    }
   ],
   "source": [
    "def gen_nums():\n",
    "    yield 1\n",
    "    yield 2\n",
    "    yield 3\n",
    "\n",
    "for x in gen_nums():\n",
    "    print(x)"
   ]
  },
  {
   "cell_type": "markdown",
   "metadata": {},
   "source": [
    "这段代码会输出什么？"
   ]
  },
  {
   "cell_type": "code",
   "execution_count": 3,
   "metadata": {},
   "outputs": [],
   "source": [
    "def squares(n=10):\n",
    "    print(f'Generating squares from 1 to {n}')\n",
    "    for i in range(1, n+1):\n",
    "        yield i**2\n",
    "\n",
    "gen = squares()   "
   ]
  },
  {
   "cell_type": "code",
   "execution_count": 4,
   "metadata": {},
   "outputs": [
    {
     "name": "stdout",
     "output_type": "stream",
     "text": [
      "Generating squares from 1 to 10\n",
      "1\n",
      "4\n",
      "9\n",
      "16\n",
      "25\n"
     ]
    }
   ],
   "source": [
    "# next()函数可以获取生成器的下一个值\n",
    "print(next(gen))\n",
    "print(next(gen))\n",
    "print(next(gen))\n",
    "print(next(gen))\n",
    "print(next(gen))"
   ]
  },
  {
   "cell_type": "code",
   "execution_count": 5,
   "metadata": {},
   "outputs": [
    {
     "name": "stdout",
     "output_type": "stream",
     "text": [
      "[36, 49, 64, 81, 100]\n"
     ]
    }
   ],
   "source": [
    "# 将生成器中的数据转换成列表\n",
    "print(list(gen))"
   ]
  },
  {
   "cell_type": "code",
   "execution_count": 6,
   "metadata": {},
   "outputs": [],
   "source": [
    "# 遍历生成器生成的数据，但是生成器已经没有数据了\n",
    "for square in gen:\n",
    "    print(square)"
   ]
  },
  {
   "cell_type": "markdown",
   "metadata": {},
   "source": [
    "生成器表达式"
   ]
  },
  {
   "cell_type": "code",
   "execution_count": null,
   "metadata": {},
   "outputs": [],
   "source": [
    "# 和用def和yield关键字定义生成器函数的效果是一样的\n",
    "squares = (x**2 for x in range(1, 10))"
   ]
  },
  {
   "cell_type": "code",
   "execution_count": null,
   "metadata": {},
   "outputs": [],
   "source": [
    "def squares():\n",
    "    for i in range(1, 10):\n",
    "        yield i**2"
   ]
  },
  {
   "cell_type": "markdown",
   "metadata": {},
   "source": [
    "生成器表达式用作函数参数，例如：\n",
    "- sum\n",
    "- all\n",
    "- any\n",
    "- 等可以接收可迭代的数据作为参数的函数"
   ]
  },
  {
   "cell_type": "code",
   "execution_count": 7,
   "metadata": {},
   "outputs": [
    {
     "name": "stdout",
     "output_type": "stream",
     "text": [
      "285\n",
      "True\n"
     ]
    }
   ],
   "source": [
    "my_sum = sum(x**2 for x in range(1, 10))\n",
    "print(my_sum)\n",
    "\n",
    "print(all( x%2==0  for x in [2, 4, 6, 8, 10])) "
   ]
  },
  {
   "cell_type": "markdown",
   "metadata": {},
   "source": [
    "内置的序列生成器\n",
    "- enumerate：枚举出序列的索引和值\n",
    "- zip：拉链，把数据按照它们的索引组合到一起"
   ]
  },
  {
   "cell_type": "code",
   "execution_count": 8,
   "metadata": {},
   "outputs": [
    {
     "name": "stdout",
     "output_type": "stream",
     "text": [
      "[('a', 1), ('b', 2), ('c', 3)]\n",
      "[]\n"
     ]
    }
   ],
   "source": [
    "# zip对象只能生成一次数据\n",
    "zipped = zip(['a', 'b', 'c'], [1, 2, 3])\n",
    "print(list(zipped))\n",
    "print(list(zipped))"
   ]
  },
  {
   "cell_type": "markdown",
   "metadata": {},
   "source": [
    "## 练习一\n",
    "\n",
    "搜索违法的公司，找到所有违反最低收入法律（最低收入为9）的所有公司放入列表。\n",
    "\n",
    "提示：  \n",
    "- 使用列表推导\n",
    "- 使用any函数"
   ]
  },
  {
   "cell_type": "code",
   "execution_count": 9,
   "metadata": {},
   "outputs": [],
   "source": [
    "companies = {'CoolCompany' : {'Alice' : 33, 'Bob' : 28, 'Frank' : 29}, \n",
    "            'CheapCompany' : {'Ann' : 4, 'Lee' : 9, 'Chris' : 7}, \n",
    "            'SosoCompany' : {'Esther' : 38, 'Cole' : 8, 'Paris' : 18}}"
   ]
  },
  {
   "cell_type": "markdown",
   "metadata": {},
   "source": [
    "代码的逻辑结构：\n",
    "```python\n",
    "违法公司 = [   company  for company in companies   if 公司是否违法  ]\n",
    "公司是否违法 = any(  employee的salary < 9  for employee in company)\n",
    "```\n"
   ]
  },
  {
   "cell_type": "code",
   "execution_count": 13,
   "metadata": {},
   "outputs": [
    {
     "name": "stdout",
     "output_type": "stream",
     "text": [
      "['CheapCompany', 'SosoCompany']\n"
     ]
    }
   ],
   "source": [
    "# companies[c].values() 是公司c的所有员工的薪水\n",
    "illegals = [c  for c in companies \n",
    "            if any(  s<9     for s in companies[c].values())]\n",
    "print(illegals)"
   ]
  },
  {
   "cell_type": "markdown",
   "metadata": {},
   "source": [
    "### 练习二\n",
    "\n",
    "使用函数来表示数字0至9和进行四则运算\n",
    "\n",
    "<https://www.codewars.com/kata/525f3eda17c7cd9f9e000b39/train/python>\n",
    "\n",
    "```python\n",
    "five() # must return 5\n",
    "six() # must return 6\n",
    "\n",
    "five(times(five())) # 5 * 5 return 25\n",
    "four(plus(nine())) # 4 + 9 return 13\n",
    "eight(minus(three())) # 8 - 3 return 5\n",
    "six(divided_by(two())) # 6 // 2 return 3\n",
    "```"
   ]
  },
  {
   "cell_type": "code",
   "execution_count": 22,
   "metadata": {},
   "outputs": [],
   "source": [
    "# 数字函数的参数为空，或者是一个函数\n",
    "def one(op=None):\n",
    "    return 1 if op==None else op(1)\n",
    "\n",
    "def zero(op=None):\n",
    "    return 0 if op==None else op(0)\n",
    "\n",
    "# 操作函数的返回值必须是一个函数\n",
    "def plus(x):\n",
    "    return lambda y: y + x"
   ]
  },
  {
   "cell_type": "code",
   "execution_count": 23,
   "metadata": {},
   "outputs": [
    {
     "name": "stdout",
     "output_type": "stream",
     "text": [
      "1\n",
      "0\n"
     ]
    }
   ],
   "source": [
    "# 测试没有参数的函数\n",
    "print(one())\n",
    "print(zero())"
   ]
  },
  {
   "cell_type": "code",
   "execution_count": 24,
   "metadata": {},
   "outputs": [
    {
     "data": {
      "text/plain": [
       "1"
      ]
     },
     "execution_count": 24,
     "metadata": {},
     "output_type": "execute_result"
    }
   ],
   "source": [
    "# one(plus(zero())) -> one(plus(0)) -> one(lambda y:y + 0) \n",
    "# -> op(1) = lambda 1:1 + 0 -> 1\n",
    "one(plus(zero()))"
   ]
  }
 ],
 "metadata": {
  "kernelspec": {
   "display_name": "Python 3",
   "language": "python",
   "name": "python3"
  },
  "language_info": {
   "codemirror_mode": {
    "name": "ipython",
    "version": 3
   },
   "file_extension": ".py",
   "mimetype": "text/x-python",
   "name": "python",
   "nbconvert_exporter": "python",
   "pygments_lexer": "ipython3",
   "version": "3.10.6"
  },
  "orig_nbformat": 4
 },
 "nbformat": 4,
 "nbformat_minor": 2
}
