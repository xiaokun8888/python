{
 "cells": [
  {
   "cell_type": "markdown",
   "metadata": {},
   "source": [
    "# 06-Python函数"
   ]
  },
  {
   "cell_type": "markdown",
   "metadata": {},
   "source": [
    "- 定义函数\n",
    "- 传递实参\n",
    "- 返回值\n",
    "- 传递列表参数\n",
    "- 传递任意数量的参数\n",
    "- 定义模块\n",
    "- 函数编写指南"
   ]
  },
  {
   "cell_type": "markdown",
   "metadata": {},
   "source": [
    "## 定义函数\n",
    "- def表示要定义一个函数\n",
    "- greet_user()是定义的函数名，必须要有圆括号\n",
    "- 函数名后面的后面是冒号，表示函数代码块开始\n",
    "- 函数体的代码块必须有缩进\n",
    "- 按照代码规范，第一句是函数的文档注释(docstring)"
   ]
  },
  {
   "cell_type": "code",
   "execution_count": 17,
   "metadata": {},
   "outputs": [],
   "source": [
    "def greet_user():\n",
    "    \"\"\"Display a simple greeting.\"\"\"\n",
    "    print(\"Hello!\")"
   ]
  },
  {
   "cell_type": "code",
   "execution_count": null,
   "metadata": {},
   "outputs": [],
   "source": [
    "greet_user()"
   ]
  },
  {
   "cell_type": "code",
   "execution_count": 18,
   "metadata": {},
   "outputs": [
    {
     "name": "stdout",
     "output_type": "stream",
     "text": [
      "Help on function greet_user in module __main__:\n",
      "\n",
      "greet_user()\n",
      "    Display a simple greeting.\n",
      "\n",
      "None\n"
     ]
    }
   ],
   "source": [
    "print(help(greet_user))"
   ]
  },
  {
   "cell_type": "markdown",
   "metadata": {},
   "source": [
    "形参和实参\n",
    "- 变量username是一个形参(parameter)。\n",
    "- 值’jesse’是一个实参（argument）。\n",
    "- 函数在被调用时，实参的值会被赋值给形参。"
   ]
  },
  {
   "cell_type": "code",
   "execution_count": null,
   "metadata": {},
   "outputs": [],
   "source": [
    "def greet_user(username):\n",
    "    \"\"\"Display a simple greeting.\"\"\"\n",
    "    print(f\"Hello, {username.title()}!\")\n",
    "    \n",
    "greet_user('jesse')"
   ]
  },
  {
   "cell_type": "markdown",
   "metadata": {},
   "source": [
    "### 形参和实参的值如果发生变化，会相互影响吗？"
   ]
  },
  {
   "cell_type": "code",
   "execution_count": 4,
   "metadata": {},
   "outputs": [
    {
     "name": "stdout",
     "output_type": "stream",
     "text": [
      "Print ID out of the function.\n",
      "1226196123888 1226196123920\n",
      "a=1, b=2\n",
      "\n",
      "Print ID in the function before assignment.\n",
      "1226196123888 1226196123920 \n",
      "\n",
      "Print ID in the function after assignment.\n",
      "1226196124496 1226196124176\n",
      "a + b = 30\n"
     ]
    }
   ],
   "source": [
    "def plus(x, y):\n",
    "    print(\"Print ID in the function before assignment.\")    \n",
    "    print(id(x), id(y), \"\\n\")       \n",
    "    x = 20\n",
    "    y = 10\n",
    "    print(\"Print ID in the function after assignment.\")\n",
    "    print(id(x), id(y))\n",
    "    print(f\"x + y = {x + y}\")\n",
    "    \n",
    "a, b = 1, 2\n",
    "print(\"Print ID out of the function.\")\n",
    "print(id(a), id(b))\n",
    "print(f\"a={a}, b={b}\\n\")\n",
    "plus(a, b)"
   ]
  },
  {
   "cell_type": "markdown",
   "metadata": {},
   "source": [
    "两种参数类型：\n",
    "1. 位置实参\n",
    "2. 关键字实参"
   ]
  },
  {
   "cell_type": "markdown",
   "metadata": {},
   "source": [
    "## 位置实参\n",
    "当函数有多个参数时，基于实参的顺序关联到对应位置的形参，这种关联方式称为位置实参。"
   ]
  },
  {
   "cell_type": "code",
   "execution_count": 5,
   "metadata": {},
   "outputs": [
    {
     "name": "stdout",
     "output_type": "stream",
     "text": [
      "\n",
      "I have a hamster.\n",
      "My hamster's name is Harry.\n",
      "\n",
      "I have a dog.\n",
      "My dog's name is Willie.\n",
      "\n",
      "I have a harry.\n",
      "My harry's name is Hamster.\n"
     ]
    }
   ],
   "source": [
    "def describe_pet(animal_type, pet_name):\n",
    "    \"\"\"Display information about a pet.\"\"\"\n",
    "    print(f\"\\nI have a {animal_type}.\")\n",
    "    print(f\"My {animal_type}'s name is {pet_name.title()}.\")\n",
    "    \n",
    "describe_pet('hamster', 'harry')\n",
    "describe_pet('dog', 'willie')\n",
    "describe_pet('harry', 'hamster')"
   ]
  },
  {
   "cell_type": "markdown",
   "metadata": {},
   "source": [
    "## 关键字实参\n",
    "\n",
    "- 关键字实参是传递给函数的名称-值对。直接在实参中将名称和值关联起来，因此向函数传递实参时不会混淆。\n",
    "- 关键字实参顺序不再重要。\n",
    "- 代码可读性更好。 "
   ]
  },
  {
   "cell_type": "code",
   "execution_count": 7,
   "metadata": {},
   "outputs": [
    {
     "name": "stdout",
     "output_type": "stream",
     "text": [
      "\n",
      "I have a hamster.\n",
      "My hamster's name is Harry.\n",
      "\n",
      "I have a hamster.\n",
      "My hamster's name is Harry.\n"
     ]
    }
   ],
   "source": [
    "def describe_pet(animal_type, pet_name):\n",
    "    \"\"\"Display information about a pet.\"\"\"\n",
    "    print(f\"\\nI have a {animal_type}.\")\n",
    "    print(f\"My {animal_type}'s name is {pet_name.title()}.\")\n",
    "    \n",
    "describe_pet(animal_type=\"hamster\", pet_name=\"harry\")\n",
    "describe_pet(pet_name=\"harry\", animal_type=\"hamster\")"
   ]
  },
  {
   "cell_type": "markdown",
   "metadata": {},
   "source": [
    "## 参数默认值\n",
    "- 编写函数时，可给每个形参指定默认值。\n",
    "- 在调用函数中给形参提供了实参时，Python将使用指定的实参值；否则，将使用形参的默认值。\n",
    "- 形参列表中的带有默认值的形参必须放在没有默认值的形参后面。"
   ]
  },
  {
   "cell_type": "code",
   "execution_count": 8,
   "metadata": {},
   "outputs": [
    {
     "name": "stdout",
     "output_type": "stream",
     "text": [
      "\n",
      "I have a dog.\n",
      "My dog's name is Willie.\n"
     ]
    }
   ],
   "source": [
    "def describe_pet(pet_name, animal_type='dog'):\n",
    "    \"\"\"Display information about a pet.\"\"\"\n",
    "    print(f\"\\nI have a {animal_type}.\")\n",
    "    print(f\"My {animal_type}'s name is {pet_name.title()}.\")\n",
    "\n",
    "describe_pet(pet_name='willie')"
   ]
  },
  {
   "cell_type": "code",
   "execution_count": 9,
   "metadata": {},
   "outputs": [
    {
     "ename": "SyntaxError",
     "evalue": "non-default argument follows default argument (2841775740.py, line 1)",
     "output_type": "error",
     "traceback": [
      "\u001b[1;36m  Input \u001b[1;32mIn [9]\u001b[1;36m\u001b[0m\n\u001b[1;33m    def describe_pet(animal_type='dog', pet_name, ):\u001b[0m\n\u001b[1;37m                                        ^\u001b[0m\n\u001b[1;31mSyntaxError\u001b[0m\u001b[1;31m:\u001b[0m non-default argument follows default argument\n"
     ]
    }
   ],
   "source": [
    "def describe_pet(animal_type='dog', pet_name, ):\n",
    "    \"\"\"Display information about a pet.\"\"\"\n",
    "    print(f\"\\nI have a {animal_type}.\")\n",
    "    print(f\"My {animal_type}'s name is {pet_name.title()}.\")\n"
   ]
  },
  {
   "cell_type": "markdown",
   "metadata": {},
   "source": [
    "## 函数返回值\n",
    "当函数没有return语句时，函数默认返回None。"
   ]
  },
  {
   "cell_type": "code",
   "execution_count": 10,
   "metadata": {},
   "outputs": [
    {
     "name": "stdout",
     "output_type": "stream",
     "text": [
      "Jimi Hendrix\n"
     ]
    }
   ],
   "source": [
    "def get_formatted_name(first_name, last_name):\n",
    "    \"\"\"Return a full name, neatly formatted.\"\"\"\n",
    "    full_name = f\"{first_name} {last_name}\"\n",
    "    return full_name.title()\n",
    "\n",
    "musician = get_formatted_name('jimi', 'hendrix')\n",
    "print(musician)"
   ]
  },
  {
   "cell_type": "code",
   "execution_count": 11,
   "metadata": {},
   "outputs": [
    {
     "name": "stdout",
     "output_type": "stream",
     "text": [
      "John Lee Hooker\n"
     ]
    }
   ],
   "source": [
    "def get_formatted_name(first_name, middle_name, last_name):\n",
    "    \"\"\"Return a full name, neatly formatted.\"\"\"\n",
    "    full_name = f\"{first_name} {middle_name} {last_name}\"\n",
    "    return full_name.title()\n",
    "\n",
    "musician = get_formatted_name('john', 'lee', 'hooker')\n",
    "print(musician)"
   ]
  },
  {
   "cell_type": "code",
   "execution_count": null,
   "metadata": {},
   "outputs": [],
   "source": [
    "get_formatted_name('jimi', 'hendrix')"
   ]
  },
  {
   "cell_type": "code",
   "execution_count": 14,
   "metadata": {},
   "outputs": [
    {
     "name": "stdout",
     "output_type": "stream",
     "text": [
      "Jimi Hendrix\n",
      "John Lee Hooker\n"
     ]
    }
   ],
   "source": [
    "def get_formatted_name(first_name, last_name, middle_name=''):\n",
    "    \"\"\"Return a full name, neatly formatted.\"\"\"\n",
    "    if middle_name:\n",
    "        full_name = f\"{first_name} {middle_name} {last_name}\"\n",
    "    else:\n",
    "        full_name = f\"{first_name} {last_name}\"\n",
    "                \n",
    "    return full_name.title()\n",
    "\n",
    "print(get_formatted_name('jimi', 'hendrix'))\n",
    "print(get_formatted_name('john', 'hooker', 'lee'))"
   ]
  },
  {
   "cell_type": "markdown",
   "metadata": {},
   "source": [
    "函数返回字典"
   ]
  },
  {
   "cell_type": "code",
   "execution_count": null,
   "metadata": {},
   "outputs": [],
   "source": [
    "def build_person(first_name, last_name, age=None):\n",
    "    \"\"\"Return a dictionary of information about a person.\"\"\"\n",
    "    person = {'first': first_name, 'last': last_name}\n",
    "    if age:\n",
    "        person['age'] = age\n",
    "    return person"
   ]
  },
  {
   "cell_type": "markdown",
   "metadata": {},
   "source": [
    "函数返回多个值: 返回的是一个元组"
   ]
  },
  {
   "cell_type": "code",
   "execution_count": 16,
   "metadata": {},
   "outputs": [
    {
     "name": "stdout",
     "output_type": "stream",
     "text": [
      "First name: John, Last name: Hooker\n"
     ]
    }
   ],
   "source": [
    "def get_first_last_name(fullname):\n",
    "    \"\"\"Return a full name, neatly formatted.\"\"\"\n",
    "    names = fullname.split()\n",
    "    first_name = names[0]\n",
    "    last_name = names[-1]    \n",
    "    return first_name, last_name # return a tuple here\n",
    "\n",
    "first, last = get_first_last_name('John Lee Hooker')\n",
    "print(f'First name: {first}, Last name: {last}')"
   ]
  },
  {
   "cell_type": "markdown",
   "metadata": {},
   "source": [
    "## 传递列表参数"
   ]
  },
  {
   "cell_type": "code",
   "execution_count": 14,
   "metadata": {},
   "outputs": [
    {
     "name": "stdout",
     "output_type": "stream",
     "text": [
      "Hello, Hannah!\n",
      "Hello, Ty!\n",
      "Hello, Margot!\n"
     ]
    }
   ],
   "source": [
    "def greet_users(names):\n",
    "    \"\"\"Print a simple greeting to each user in the list.\"\"\"\n",
    "    for name in names:\n",
    "        msg = f\"Hello, {name.title()}!\"\n",
    "        print(msg)\n",
    "\n",
    "usernames = ['hannah', 'ty', 'margot']\n",
    "greet_users(usernames)\n",
    "greet_users(usernames[:]) # 复制列表传入函数，防止列表内容被修改"
   ]
  },
  {
   "cell_type": "markdown",
   "metadata": {},
   "source": [
    "在函数中修改列表"
   ]
  },
  {
   "cell_type": "code",
   "execution_count": 15,
   "metadata": {},
   "outputs": [
    {
     "name": "stdout",
     "output_type": "stream",
     "text": [
      "Printing model: dodecahedron\n",
      "Printing model: robot pendant\n",
      "Printing model: iphone case\n",
      "\n",
      "The following models have been printed:\n",
      "dodecahedron\n",
      "robot pendant\n",
      "iphone case\n"
     ]
    }
   ],
   "source": [
    "def print_models(unprinted_designs, completed_models):\n",
    "    \"\"\"\n",
    "    Simulate printing each design, until none are left.\n",
    "    Move each design to completed_models after printing.\n",
    "    \"\"\"\n",
    "    while unprinted_designs:\n",
    "        current_design = unprinted_designs.pop()\n",
    "        print(f\"Printing model: {current_design}\")\n",
    "        completed_models.append(current_design)\n",
    "\n",
    "def show_completed_models(completed_models):\n",
    "    \"\"\"Show all the models that were printed.\"\"\"\n",
    "    print(\"\\nThe following models have been printed:\")\n",
    "    for completed_model in completed_models:\n",
    "        print(completed_model)\n",
    "        \n",
    "unprinted_designs = ['iphone case', 'robot pendant', 'dodecahedron']\n",
    "completed_models = []\n",
    "print_models(unprinted_designs, completed_models)\n",
    "show_completed_models(completed_models)"
   ]
  },
  {
   "cell_type": "markdown",
   "metadata": {},
   "source": [
    "## 传递任意数量的位置实参： `*`"
   ]
  },
  {
   "cell_type": "code",
   "execution_count": 16,
   "metadata": {},
   "outputs": [
    {
     "name": "stdout",
     "output_type": "stream",
     "text": [
      "('pepperoni',)\n",
      "('mushrooms', 'green peppers', 'extra cheese')\n"
     ]
    }
   ],
   "source": [
    "def make_pizza(*toppings):\n",
    "    \"\"\"print all the toppings that have been requested.\"\"\"\n",
    "    print(toppings)\n",
    "    \n",
    "make_pizza('pepperoni')\n",
    "make_pizza('mushrooms', 'green peppers', 'extra cheese')"
   ]
  },
  {
   "cell_type": "markdown",
   "metadata": {},
   "source": [
    "任意数量的位置实参必须放到普通位置实参后面"
   ]
  },
  {
   "cell_type": "code",
   "execution_count": 24,
   "metadata": {},
   "outputs": [
    {
     "name": "stdout",
     "output_type": "stream",
     "text": [
      "\n",
      "Making a 16-inch pizza with the following toppings:\n",
      "- pepperoni\n",
      "\n",
      "Making a 12-inch pizza with the following toppings:\n",
      "- mushroom\n",
      "- green peppers\n",
      "- extra cheese\n",
      "\n",
      "Making a 12-inch pizza with the following toppings:\n",
      "- mushroom\n",
      "- green peppers\n",
      "- extra cheese\n",
      "k, v = price, 16\n"
     ]
    }
   ],
   "source": [
    "def make_pizza(size, *toppings):\n",
    "    \"\"\"Describe the pizza\"\"\"\n",
    "    print(f\"\\nMaking a {size}-inch pizza with the following toppings:\")\n",
    "    for topping in toppings:\n",
    "        print(f\"- {topping}\")\n",
    "        \n",
    "make_pizza(16, \"pepperoni\")\n",
    "make_pizza(12, \"mushroom\", \"green peppers\", \"extra cheese\")\n",
    "make_pizza(12, \"mushroom\", \"green peppers\", \"extra cheese\")"
   ]
  },
  {
   "cell_type": "markdown",
   "metadata": {},
   "source": [
    "## `*` 操作符表示的是分解"
   ]
  },
  {
   "cell_type": "code",
   "execution_count": 20,
   "metadata": {},
   "outputs": [
    {
     "name": "stdout",
     "output_type": "stream",
     "text": [
      "1 2 3 4 5\n",
      "h e l l o\n"
     ]
    }
   ],
   "source": [
    "numbers = [1, 2, 3, 4, 5]\n",
    "print(*numbers)\n",
    "msg = \"hello\"\n",
    "print(*msg)"
   ]
  },
  {
   "cell_type": "code",
   "execution_count": 22,
   "metadata": {},
   "outputs": [
    {
     "name": "stdout",
     "output_type": "stream",
     "text": [
      "1 3\n",
      "5\n",
      "[5]\n"
     ]
    }
   ],
   "source": [
    "a, b, *rest = numbers\n",
    "print(a, b)\n",
    "print(*rest)\n",
    "print(rest)\n",
    "a, _, b, _, *rest = numbers"
   ]
  },
  {
   "cell_type": "markdown",
   "metadata": {},
   "source": [
    "## 传递任意数量的关键字实参： `**`\n",
    "你经常会看到形参名`**kwargs`，它让函数接受任意数量的关键字实参。"
   ]
  },
  {
   "cell_type": "code",
   "execution_count": 5,
   "metadata": {},
   "outputs": [
    {
     "name": "stdout",
     "output_type": "stream",
     "text": [
      "{'location': 'princeton', 'field': 'physics', 'first_name': 'albert', 'last_name': 'einstein'}\n"
     ]
    }
   ],
   "source": [
    "def build_profile(first, last, **user_info):\n",
    "    \"\"\"Build a dictionary containing everything we know about a user.\"\"\"\n",
    "    user_info['first_name'] = first\n",
    "    user_info['last_name'] = last    \n",
    "    return user_info\n",
    "\n",
    "user_profile = build_profile('albert', 'einstein', \n",
    "                            location='princeton', \n",
    "                            field='physics')\n",
    "print(user_profile)"
   ]
  },
  {
   "cell_type": "markdown",
   "metadata": {},
   "source": [
    "## `**` 操作符表示的是分解字典"
   ]
  },
  {
   "cell_type": "code",
   "execution_count": 9,
   "metadata": {},
   "outputs": [],
   "source": [
    "def dump(**kwargs):\n",
    "    return kwargs"
   ]
  },
  {
   "cell_type": "code",
   "execution_count": 10,
   "metadata": {},
   "outputs": [
    {
     "data": {
      "text/plain": [
       "{'a': 1, 'b': 2, 'c': 3, 'd': 4}"
      ]
     },
     "execution_count": 10,
     "metadata": {},
     "output_type": "execute_result"
    }
   ],
   "source": [
    "dump(**{'a': 1}, b=2, **{'c':3, 'd':4})"
   ]
  },
  {
   "cell_type": "markdown",
   "metadata": {},
   "source": [
    "## 将函数保存在模块中\n",
    "\n",
    "在Python中，一个.py文件就是一个模块。"
   ]
  },
  {
   "cell_type": "code",
   "execution_count": 11,
   "metadata": {},
   "outputs": [
    {
     "name": "stdout",
     "output_type": "stream",
     "text": [
      "\n",
      "Making a 16-inch pizza with the following toppings:\n",
      "- pepperoni\n",
      "\n",
      "Delivering the pizza to hotel.\n"
     ]
    }
   ],
   "source": [
    "import pizza\n",
    "\n",
    "pizza.make_pizza(16, 'pepperoni')\n",
    "pizza.deliver_pizza(\"hotel\")"
   ]
  },
  {
   "cell_type": "code",
   "execution_count": 12,
   "metadata": {},
   "outputs": [
    {
     "name": "stdout",
     "output_type": "stream",
     "text": [
      "\n",
      "Making a 16-inch pizza with the following toppings:\n",
      "- pepperoni\n",
      "\n",
      "Delivering the pizza to hotel.\n"
     ]
    }
   ],
   "source": [
    "from pizza import make_pizza, deliver_pizza\n",
    "make_pizza(16, 'pepperoni')\n",
    "deliver_pizza(\"hotel\")"
   ]
  },
  {
   "cell_type": "code",
   "execution_count": 13,
   "metadata": {},
   "outputs": [
    {
     "name": "stdout",
     "output_type": "stream",
     "text": [
      "\n",
      "Making a 16-inch pizza with the following toppings:\n",
      "- pepperoni\n",
      "\n",
      "Delivering the pizza to hotel.\n"
     ]
    }
   ],
   "source": [
    "from pizza import make_pizza as mp, deliver_pizza as dp\n",
    "mp(16, 'pepperoni')\n",
    "dp(\"hotel\")"
   ]
  },
  {
   "cell_type": "code",
   "execution_count": 14,
   "metadata": {},
   "outputs": [
    {
     "name": "stdout",
     "output_type": "stream",
     "text": [
      "\n",
      "Making a 16-inch pizza with the following toppings:\n",
      "- pepperoni\n",
      "\n",
      "Delivering the pizza to hotel.\n"
     ]
    }
   ],
   "source": [
    "import pizza as p\n",
    "p.make_pizza(16, 'pepperoni')\n",
    "p.deliver_pizza(\"hotel\")"
   ]
  },
  {
   "cell_type": "markdown",
   "metadata": {},
   "source": [
    "使用*可以导入模块中所有的函数，但是不推荐这样使用"
   ]
  },
  {
   "cell_type": "code",
   "execution_count": 15,
   "metadata": {},
   "outputs": [
    {
     "name": "stdout",
     "output_type": "stream",
     "text": [
      "\n",
      "Making a 16-inch pizza with the following toppings:\n",
      "- pepperoni\n",
      "\n",
      "Delivering the pizza to hotel.\n"
     ]
    }
   ],
   "source": [
    "from pizza import *\n",
    "make_pizza(16, 'pepperoni')\n",
    "deliver_pizza(\"hotel\")"
   ]
  },
  {
   "cell_type": "markdown",
   "metadata": {},
   "source": [
    "## 用于序列的内置函数\n",
    "- enumerate\n",
    "- zip"
   ]
  },
  {
   "cell_type": "markdown",
   "metadata": {},
   "source": [
    "我们经常在循环的时候需要用到序列的索引"
   ]
  },
  {
   "cell_type": "code",
   "execution_count": null,
   "metadata": {},
   "outputs": [],
   "source": [
    "def createDict(keys, values):\n",
    "    index = 0\n",
    "    result = {}\n",
    "    for key in keys:\n",
    "        if index < len(values):\n",
    "            result[key] = values[index]\n",
    "        else:\n",
    "            result[key] = None\n",
    "        index += 1    \n",
    "    return result"
   ]
  },
  {
   "cell_type": "markdown",
   "metadata": {},
   "source": [
    "这时候我们可以用内置函数enumerate,这样就不需要自己定义一个index来记录索引了"
   ]
  },
  {
   "cell_type": "code",
   "execution_count": 1,
   "metadata": {},
   "outputs": [
    {
     "data": {
      "text/plain": [
       "{'a': 1, 'b': 2, 'c': 3, 'd': None}"
      ]
     },
     "execution_count": 1,
     "metadata": {},
     "output_type": "execute_result"
    }
   ],
   "source": [
    "def createDict(keys, values):\n",
    "    result = {}\n",
    "    for index, key in enumerate(keys):\n",
    "        if index < len(values):\n",
    "            result[key] = values[index]\n",
    "        else:\n",
    "            result[key] = None\n",
    "    return result\n",
    "\n",
    "keys = ['a', 'b', 'c', 'd']\n",
    "values = [1, 2, 3]\n",
    "createDict(keys, values) # {'a': 1, 'b': 2, 'c': 3, 'd': None}"
   ]
  },
  {
   "cell_type": "markdown",
   "metadata": {},
   "source": [
    "zip函数：将多个序列压缩成一个序列"
   ]
  },
  {
   "cell_type": "code",
   "execution_count": 4,
   "metadata": {},
   "outputs": [
    {
     "name": "stdout",
     "output_type": "stream",
     "text": [
      "[(1, 'a'), (2, 'b'), (3, 'c'), (4, 'd'), (5, 'e')]\n",
      "[]\n"
     ]
    }
   ],
   "source": [
    "numbers = [1, 2, 3, 4, 5]\n",
    "letters = ['a', 'b', 'c', 'd', 'e']\n",
    "zipped = zip(numbers, letters)\n",
    "print(list(zipped))  # zipped 只能生产一次数据\n",
    "print(list(zipped))  # zipped is now empty"
   ]
  },
  {
   "cell_type": "code",
   "execution_count": 3,
   "metadata": {},
   "outputs": [
    {
     "name": "stdout",
     "output_type": "stream",
     "text": [
      "{1: 'a', 2: 'b', 3: 'c', 4: 'd', 5: 'e'}\n"
     ]
    }
   ],
   "source": [
    "# 很容易将zip对象转换为字典\n",
    "print(dict(zip(numbers, letters)))"
   ]
  },
  {
   "cell_type": "markdown",
   "metadata": {},
   "source": [
    "zip函数可以接受任意多个序列，然后返回一个元组(tuple)的列表"
   ]
  },
  {
   "cell_type": "code",
   "execution_count": 1,
   "metadata": {},
   "outputs": [
    {
     "name": "stdout",
     "output_type": "stream",
     "text": [
      "[(1, 'a', 'A'), (2, 'b', 'B'), (3, 'c', 'C'), (4, 'd', 'D'), (5, 'e', 'E')]\n"
     ]
    }
   ],
   "source": [
    "seq1 = [1, 2, 3, 4, 5]\n",
    "seq2 = ['a', 'b', 'c', 'd', 'e']\n",
    "seq3 = ['A', 'B', 'C', 'D', 'E']\n",
    "zipped = zip(seq1, seq2, seq3)\n",
    "print(list(zipped))"
   ]
  },
  {
   "cell_type": "markdown",
   "metadata": {},
   "source": [
    "矩阵转置"
   ]
  },
  {
   "cell_type": "code",
   "execution_count": 7,
   "metadata": {},
   "outputs": [
    {
     "name": "stdout",
     "output_type": "stream",
     "text": [
      "[1, 2, 3] [4, 5, 6] [7, 8, 9]\n",
      "[(1, 4, 7), (2, 5, 8), (3, 6, 9)]\n"
     ]
    }
   ],
   "source": [
    "matrix = [[1, 2, 3],\n",
    "          [4, 5, 6],\n",
    "          [7, 8, 9]]\n",
    "print(*matrix)\n",
    "print(list(zip(*matrix)))"
   ]
  },
  {
   "cell_type": "markdown",
   "metadata": {},
   "source": [
    "## 判断数独是否合法\n",
    "\n",
    "![Sudoku validation](./img/2023-09-17-07-48-35.png)"
   ]
  },
  {
   "cell_type": "code",
   "execution_count": 22,
   "metadata": {},
   "outputs": [
    {
     "data": {
      "text/plain": [
       "[(0, 0), (0, 1), (0, 2), (1, 0), (1, 1), (1, 2), (2, 0), (2, 1), (2, 2)]"
      ]
     },
     "execution_count": 22,
     "metadata": {},
     "output_type": "execute_result"
    }
   ],
   "source": [
    "from itertools import product\n",
    "list(product(range(3), range(3)))"
   ]
  },
  {
   "cell_type": "code",
   "execution_count": 23,
   "metadata": {},
   "outputs": [
    {
     "name": "stdout",
     "output_type": "stream",
     "text": [
      "[(0, 0), (0, 3), (0, 6), (3, 0), (3, 3), (3, 6), (6, 0), (6, 3), (6, 6)]\n"
     ]
    }
   ],
   "source": [
    "print([(x, y) for x in range(0,7,3) for y in range(0,7,3)])"
   ]
  },
  {
   "cell_type": "code",
   "execution_count": 12,
   "metadata": {},
   "outputs": [],
   "source": [
    "from itertools import product\n",
    "\n",
    "def validate_sudoku(board):\n",
    "    \"\"\"Sudoka solution validator\"\"\"\n",
    "    # Check each row\n",
    "    for row in range(9):\n",
    "        if set(board[row]) != set(range(1, 10)):\n",
    "            return False\n",
    "\n",
    "    # Check each column\n",
    "    for column in zip(*board):\n",
    "        if set(column) != set(range(1, 10)):\n",
    "            return False\n",
    "\n",
    "    # Check each 3x3 sub-grid\n",
    "    for i, j in product(range(3), range(3)):\n",
    "        sub_grid = []\n",
    "        for line in board[i*3:i*3+3]:\n",
    "            sub_grid += line[j*3:j*3+3]\n",
    "        if set(sub_grid) != set(range(1, 10)):\n",
    "            return False\n",
    "        \n",
    "    # check each sub-grid\n",
    "    # for i,j in [(0,0), (0,3), (0,6), (3,0), (3,3), (3,6), (6,0), (6,3), (6,6)]:\n",
    "    for i,j in [(x, y) for x in range(0,7,3) for y in range(0,7,3)]:\n",
    "        sub_grid = [board[x][y] for x in range(i, i+3) for y in range(j, j+3)]\n",
    "        if set(sub_grid) != set(range(1, 10)):\n",
    "            return False\n",
    "        \n",
    "    # magic squares\n",
    "    for i in range(3, 10, 3):\n",
    "        for j in range(3, 10, 3):\n",
    "            if set(range(1, 10)) != {(board[q][w]) for w in range(j-3, j) for q in range(i-3, i)}:\n",
    "                return False\n",
    "\n",
    "    # if everything is ok\n",
    "    return True"
   ]
  },
  {
   "cell_type": "code",
   "execution_count": 13,
   "metadata": {},
   "outputs": [
    {
     "name": "stdout",
     "output_type": "stream",
     "text": [
      "True\n",
      "False\n"
     ]
    }
   ],
   "source": [
    "board1 =[[8,4,7,2,6,5,1,9,3],\n",
    "        [1,3,6,7,9,8,2,4,5],\n",
    "        [9,5,2,1,4,3,8,6,7],\n",
    "        [4,2,9,6,7,1,5,3,8],\n",
    "        [6,7,8,5,3,2,9,1,4],\n",
    "        [3,1,5,4,8,9,7,2,6],\n",
    "        [5,6,4,9,1,7,3,8,2],\n",
    "        [7,8,1,3,2,4,6,5,9],\n",
    "        [2,9,3,8,5,6,4,7,1]]  # True\n",
    "print(validate_sudoku(board1))\n",
    "\n",
    "board2 =[[8,4,7,2,6,5,1,0,3],\n",
    "        [1,3,6,7,0,8,2,4,5],\n",
    "        [0,5,2,1,4,3,8,6,7],\n",
    "        [4,2,0,6,7,1,5,3,8],\n",
    "        [6,7,8,5,3,2,0,1,4],\n",
    "        [3,1,5,4,8,0,7,2,6],\n",
    "        [5,6,4,0,1,7,3,8,2],\n",
    "        [7,8,1,3,2,4,6,5,0],\n",
    "        [2,0,3,8,5,6,4,7,1]] # a valid board, but with 0 instead of 9\n",
    "print(validate_sudoku(board2))"
   ]
  }
 ],
 "metadata": {
  "kernelspec": {
   "display_name": "Python 3 (ipykernel)",
   "language": "python",
   "name": "python3"
  },
  "language_info": {
   "codemirror_mode": {
    "name": "ipython",
    "version": 3
   },
   "file_extension": ".py",
   "mimetype": "text/x-python",
   "name": "python",
   "nbconvert_exporter": "python",
   "pygments_lexer": "ipython3",
   "version": "3.10.6"
  }
 },
 "nbformat": 4,
 "nbformat_minor": 2
}
